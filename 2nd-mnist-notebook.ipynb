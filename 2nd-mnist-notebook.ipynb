{
 "cells": [
  {
   "cell_type": "code",
   "execution_count": 1,
   "id": "6e668b35",
   "metadata": {
    "execution": {
     "iopub.execute_input": "2023-10-16T15:39:26.480087Z",
     "iopub.status.busy": "2023-10-16T15:39:26.479738Z",
     "iopub.status.idle": "2023-10-16T15:39:38.683299Z",
     "shell.execute_reply": "2023-10-16T15:39:38.682269Z"
    },
    "papermill": {
     "duration": 12.215447,
     "end_time": "2023-10-16T15:39:38.685804",
     "exception": false,
     "start_time": "2023-10-16T15:39:26.470357",
     "status": "completed"
    },
    "tags": []
   },
   "outputs": [],
   "source": [
    "import numpy as np \n",
    "import pandas as pd\n",
    "\n",
    "import matplotlib.pyplot as plt\n",
    "%matplotlib inline\n",
    "\n",
    "from sklearn.preprocessing import StandardScaler\n",
    "from skimage.feature import hog\n",
    "from skimage import exposure\n",
    "from sklearn.decomposition import PCA\n",
    "from sklearn.model_selection import train_test_split\n",
    "\n",
    "from keras.utils import to_categorical\n",
    "from keras.models import Sequential\n",
    "from keras.layers import Dense\n",
    "from keras.optimizers import RMSprop"
   ]
  },
  {
   "cell_type": "markdown",
   "id": "44bbfee0",
   "metadata": {
    "papermill": {
     "duration": 0.006983,
     "end_time": "2023-10-16T15:39:38.700466",
     "exception": false,
     "start_time": "2023-10-16T15:39:38.693483",
     "status": "completed"
    },
    "tags": []
   },
   "source": [
    "# Load Data"
   ]
  },
  {
   "cell_type": "code",
   "execution_count": 2,
   "id": "a8f65a70",
   "metadata": {
    "execution": {
     "iopub.execute_input": "2023-10-16T15:39:38.717417Z",
     "iopub.status.busy": "2023-10-16T15:39:38.716727Z",
     "iopub.status.idle": "2023-10-16T15:39:44.208866Z",
     "shell.execute_reply": "2023-10-16T15:39:44.207675Z"
    },
    "papermill": {
     "duration": 5.503634,
     "end_time": "2023-10-16T15:39:44.211492",
     "exception": false,
     "start_time": "2023-10-16T15:39:38.707858",
     "status": "completed"
    },
    "tags": []
   },
   "outputs": [],
   "source": [
    "# Import data into a dataframe\n",
    "train= pd.read_csv(\"/kaggle/input/digit-recognizer/train.csv\")\n",
    "test= pd.read_csv(\"/kaggle/input/digit-recognizer/test.csv\")"
   ]
  },
  {
   "cell_type": "code",
   "execution_count": 3,
   "id": "67358781",
   "metadata": {
    "execution": {
     "iopub.execute_input": "2023-10-16T15:39:44.229006Z",
     "iopub.status.busy": "2023-10-16T15:39:44.228622Z",
     "iopub.status.idle": "2023-10-16T15:39:44.510500Z",
     "shell.execute_reply": "2023-10-16T15:39:44.509454Z"
    },
    "papermill": {
     "duration": 0.292965,
     "end_time": "2023-10-16T15:39:44.512569",
     "exception": false,
     "start_time": "2023-10-16T15:39:44.219604",
     "status": "completed"
    },
    "tags": []
   },
   "outputs": [
    {
     "name": "stdout",
     "output_type": "stream",
     "text": [
      "<class 'pandas.core.frame.DataFrame'>\n",
      "RangeIndex: 42000 entries, 0 to 41999\n",
      "Columns: 785 entries, label to pixel783\n",
      "dtypes: int64(785)\n",
      "memory usage: 251.5 MB\n",
      "Train Data Info: None\n",
      "\n"
     ]
    },
    {
     "data": {
      "text/html": [
       "<div>\n",
       "<style scoped>\n",
       "    .dataframe tbody tr th:only-of-type {\n",
       "        vertical-align: middle;\n",
       "    }\n",
       "\n",
       "    .dataframe tbody tr th {\n",
       "        vertical-align: top;\n",
       "    }\n",
       "\n",
       "    .dataframe thead th {\n",
       "        text-align: right;\n",
       "    }\n",
       "</style>\n",
       "<table border=\"1\" class=\"dataframe\">\n",
       "  <thead>\n",
       "    <tr style=\"text-align: right;\">\n",
       "      <th></th>\n",
       "      <th>label</th>\n",
       "      <th>pixel0</th>\n",
       "      <th>pixel1</th>\n",
       "      <th>pixel2</th>\n",
       "      <th>pixel3</th>\n",
       "      <th>pixel4</th>\n",
       "      <th>pixel5</th>\n",
       "      <th>pixel6</th>\n",
       "      <th>pixel7</th>\n",
       "      <th>pixel8</th>\n",
       "      <th>...</th>\n",
       "      <th>pixel774</th>\n",
       "      <th>pixel775</th>\n",
       "      <th>pixel776</th>\n",
       "      <th>pixel777</th>\n",
       "      <th>pixel778</th>\n",
       "      <th>pixel779</th>\n",
       "      <th>pixel780</th>\n",
       "      <th>pixel781</th>\n",
       "      <th>pixel782</th>\n",
       "      <th>pixel783</th>\n",
       "    </tr>\n",
       "  </thead>\n",
       "  <tbody>\n",
       "    <tr>\n",
       "      <th>0</th>\n",
       "      <td>1</td>\n",
       "      <td>0</td>\n",
       "      <td>0</td>\n",
       "      <td>0</td>\n",
       "      <td>0</td>\n",
       "      <td>0</td>\n",
       "      <td>0</td>\n",
       "      <td>0</td>\n",
       "      <td>0</td>\n",
       "      <td>0</td>\n",
       "      <td>...</td>\n",
       "      <td>0</td>\n",
       "      <td>0</td>\n",
       "      <td>0</td>\n",
       "      <td>0</td>\n",
       "      <td>0</td>\n",
       "      <td>0</td>\n",
       "      <td>0</td>\n",
       "      <td>0</td>\n",
       "      <td>0</td>\n",
       "      <td>0</td>\n",
       "    </tr>\n",
       "    <tr>\n",
       "      <th>1</th>\n",
       "      <td>0</td>\n",
       "      <td>0</td>\n",
       "      <td>0</td>\n",
       "      <td>0</td>\n",
       "      <td>0</td>\n",
       "      <td>0</td>\n",
       "      <td>0</td>\n",
       "      <td>0</td>\n",
       "      <td>0</td>\n",
       "      <td>0</td>\n",
       "      <td>...</td>\n",
       "      <td>0</td>\n",
       "      <td>0</td>\n",
       "      <td>0</td>\n",
       "      <td>0</td>\n",
       "      <td>0</td>\n",
       "      <td>0</td>\n",
       "      <td>0</td>\n",
       "      <td>0</td>\n",
       "      <td>0</td>\n",
       "      <td>0</td>\n",
       "    </tr>\n",
       "    <tr>\n",
       "      <th>2</th>\n",
       "      <td>1</td>\n",
       "      <td>0</td>\n",
       "      <td>0</td>\n",
       "      <td>0</td>\n",
       "      <td>0</td>\n",
       "      <td>0</td>\n",
       "      <td>0</td>\n",
       "      <td>0</td>\n",
       "      <td>0</td>\n",
       "      <td>0</td>\n",
       "      <td>...</td>\n",
       "      <td>0</td>\n",
       "      <td>0</td>\n",
       "      <td>0</td>\n",
       "      <td>0</td>\n",
       "      <td>0</td>\n",
       "      <td>0</td>\n",
       "      <td>0</td>\n",
       "      <td>0</td>\n",
       "      <td>0</td>\n",
       "      <td>0</td>\n",
       "    </tr>\n",
       "    <tr>\n",
       "      <th>3</th>\n",
       "      <td>4</td>\n",
       "      <td>0</td>\n",
       "      <td>0</td>\n",
       "      <td>0</td>\n",
       "      <td>0</td>\n",
       "      <td>0</td>\n",
       "      <td>0</td>\n",
       "      <td>0</td>\n",
       "      <td>0</td>\n",
       "      <td>0</td>\n",
       "      <td>...</td>\n",
       "      <td>0</td>\n",
       "      <td>0</td>\n",
       "      <td>0</td>\n",
       "      <td>0</td>\n",
       "      <td>0</td>\n",
       "      <td>0</td>\n",
       "      <td>0</td>\n",
       "      <td>0</td>\n",
       "      <td>0</td>\n",
       "      <td>0</td>\n",
       "    </tr>\n",
       "    <tr>\n",
       "      <th>4</th>\n",
       "      <td>0</td>\n",
       "      <td>0</td>\n",
       "      <td>0</td>\n",
       "      <td>0</td>\n",
       "      <td>0</td>\n",
       "      <td>0</td>\n",
       "      <td>0</td>\n",
       "      <td>0</td>\n",
       "      <td>0</td>\n",
       "      <td>0</td>\n",
       "      <td>...</td>\n",
       "      <td>0</td>\n",
       "      <td>0</td>\n",
       "      <td>0</td>\n",
       "      <td>0</td>\n",
       "      <td>0</td>\n",
       "      <td>0</td>\n",
       "      <td>0</td>\n",
       "      <td>0</td>\n",
       "      <td>0</td>\n",
       "      <td>0</td>\n",
       "    </tr>\n",
       "  </tbody>\n",
       "</table>\n",
       "<p>5 rows × 785 columns</p>\n",
       "</div>"
      ],
      "text/plain": [
       "   label  pixel0  pixel1  pixel2  pixel3  pixel4  pixel5  pixel6  pixel7  \\\n",
       "0      1       0       0       0       0       0       0       0       0   \n",
       "1      0       0       0       0       0       0       0       0       0   \n",
       "2      1       0       0       0       0       0       0       0       0   \n",
       "3      4       0       0       0       0       0       0       0       0   \n",
       "4      0       0       0       0       0       0       0       0       0   \n",
       "\n",
       "   pixel8  ...  pixel774  pixel775  pixel776  pixel777  pixel778  pixel779  \\\n",
       "0       0  ...         0         0         0         0         0         0   \n",
       "1       0  ...         0         0         0         0         0         0   \n",
       "2       0  ...         0         0         0         0         0         0   \n",
       "3       0  ...         0         0         0         0         0         0   \n",
       "4       0  ...         0         0         0         0         0         0   \n",
       "\n",
       "   pixel780  pixel781  pixel782  pixel783  \n",
       "0         0         0         0         0  \n",
       "1         0         0         0         0  \n",
       "2         0         0         0         0  \n",
       "3         0         0         0         0  \n",
       "4         0         0         0         0  \n",
       "\n",
       "[5 rows x 785 columns]"
      ]
     },
     "execution_count": 3,
     "metadata": {},
     "output_type": "execute_result"
    }
   ],
   "source": [
    "print(f\"Train Data Info: {train.info()}\\n\")\n",
    "train.head()"
   ]
  },
  {
   "cell_type": "code",
   "execution_count": 4,
   "id": "57a7a667",
   "metadata": {
    "execution": {
     "iopub.execute_input": "2023-10-16T15:39:44.530374Z",
     "iopub.status.busy": "2023-10-16T15:39:44.530013Z",
     "iopub.status.idle": "2023-10-16T15:39:44.575241Z",
     "shell.execute_reply": "2023-10-16T15:39:44.574129Z"
    },
    "papermill": {
     "duration": 0.056821,
     "end_time": "2023-10-16T15:39:44.577414",
     "exception": false,
     "start_time": "2023-10-16T15:39:44.520593",
     "status": "completed"
    },
    "tags": []
   },
   "outputs": [
    {
     "name": "stdout",
     "output_type": "stream",
     "text": [
      "<class 'pandas.core.frame.DataFrame'>\n",
      "RangeIndex: 28000 entries, 0 to 27999\n",
      "Columns: 784 entries, pixel0 to pixel783\n",
      "dtypes: int64(784)\n",
      "memory usage: 167.5 MB\n",
      "Test Data Info: None\n",
      "\n"
     ]
    },
    {
     "data": {
      "text/html": [
       "<div>\n",
       "<style scoped>\n",
       "    .dataframe tbody tr th:only-of-type {\n",
       "        vertical-align: middle;\n",
       "    }\n",
       "\n",
       "    .dataframe tbody tr th {\n",
       "        vertical-align: top;\n",
       "    }\n",
       "\n",
       "    .dataframe thead th {\n",
       "        text-align: right;\n",
       "    }\n",
       "</style>\n",
       "<table border=\"1\" class=\"dataframe\">\n",
       "  <thead>\n",
       "    <tr style=\"text-align: right;\">\n",
       "      <th></th>\n",
       "      <th>pixel0</th>\n",
       "      <th>pixel1</th>\n",
       "      <th>pixel2</th>\n",
       "      <th>pixel3</th>\n",
       "      <th>pixel4</th>\n",
       "      <th>pixel5</th>\n",
       "      <th>pixel6</th>\n",
       "      <th>pixel7</th>\n",
       "      <th>pixel8</th>\n",
       "      <th>pixel9</th>\n",
       "      <th>...</th>\n",
       "      <th>pixel774</th>\n",
       "      <th>pixel775</th>\n",
       "      <th>pixel776</th>\n",
       "      <th>pixel777</th>\n",
       "      <th>pixel778</th>\n",
       "      <th>pixel779</th>\n",
       "      <th>pixel780</th>\n",
       "      <th>pixel781</th>\n",
       "      <th>pixel782</th>\n",
       "      <th>pixel783</th>\n",
       "    </tr>\n",
       "  </thead>\n",
       "  <tbody>\n",
       "    <tr>\n",
       "      <th>0</th>\n",
       "      <td>0</td>\n",
       "      <td>0</td>\n",
       "      <td>0</td>\n",
       "      <td>0</td>\n",
       "      <td>0</td>\n",
       "      <td>0</td>\n",
       "      <td>0</td>\n",
       "      <td>0</td>\n",
       "      <td>0</td>\n",
       "      <td>0</td>\n",
       "      <td>...</td>\n",
       "      <td>0</td>\n",
       "      <td>0</td>\n",
       "      <td>0</td>\n",
       "      <td>0</td>\n",
       "      <td>0</td>\n",
       "      <td>0</td>\n",
       "      <td>0</td>\n",
       "      <td>0</td>\n",
       "      <td>0</td>\n",
       "      <td>0</td>\n",
       "    </tr>\n",
       "    <tr>\n",
       "      <th>1</th>\n",
       "      <td>0</td>\n",
       "      <td>0</td>\n",
       "      <td>0</td>\n",
       "      <td>0</td>\n",
       "      <td>0</td>\n",
       "      <td>0</td>\n",
       "      <td>0</td>\n",
       "      <td>0</td>\n",
       "      <td>0</td>\n",
       "      <td>0</td>\n",
       "      <td>...</td>\n",
       "      <td>0</td>\n",
       "      <td>0</td>\n",
       "      <td>0</td>\n",
       "      <td>0</td>\n",
       "      <td>0</td>\n",
       "      <td>0</td>\n",
       "      <td>0</td>\n",
       "      <td>0</td>\n",
       "      <td>0</td>\n",
       "      <td>0</td>\n",
       "    </tr>\n",
       "    <tr>\n",
       "      <th>2</th>\n",
       "      <td>0</td>\n",
       "      <td>0</td>\n",
       "      <td>0</td>\n",
       "      <td>0</td>\n",
       "      <td>0</td>\n",
       "      <td>0</td>\n",
       "      <td>0</td>\n",
       "      <td>0</td>\n",
       "      <td>0</td>\n",
       "      <td>0</td>\n",
       "      <td>...</td>\n",
       "      <td>0</td>\n",
       "      <td>0</td>\n",
       "      <td>0</td>\n",
       "      <td>0</td>\n",
       "      <td>0</td>\n",
       "      <td>0</td>\n",
       "      <td>0</td>\n",
       "      <td>0</td>\n",
       "      <td>0</td>\n",
       "      <td>0</td>\n",
       "    </tr>\n",
       "    <tr>\n",
       "      <th>3</th>\n",
       "      <td>0</td>\n",
       "      <td>0</td>\n",
       "      <td>0</td>\n",
       "      <td>0</td>\n",
       "      <td>0</td>\n",
       "      <td>0</td>\n",
       "      <td>0</td>\n",
       "      <td>0</td>\n",
       "      <td>0</td>\n",
       "      <td>0</td>\n",
       "      <td>...</td>\n",
       "      <td>0</td>\n",
       "      <td>0</td>\n",
       "      <td>0</td>\n",
       "      <td>0</td>\n",
       "      <td>0</td>\n",
       "      <td>0</td>\n",
       "      <td>0</td>\n",
       "      <td>0</td>\n",
       "      <td>0</td>\n",
       "      <td>0</td>\n",
       "    </tr>\n",
       "    <tr>\n",
       "      <th>4</th>\n",
       "      <td>0</td>\n",
       "      <td>0</td>\n",
       "      <td>0</td>\n",
       "      <td>0</td>\n",
       "      <td>0</td>\n",
       "      <td>0</td>\n",
       "      <td>0</td>\n",
       "      <td>0</td>\n",
       "      <td>0</td>\n",
       "      <td>0</td>\n",
       "      <td>...</td>\n",
       "      <td>0</td>\n",
       "      <td>0</td>\n",
       "      <td>0</td>\n",
       "      <td>0</td>\n",
       "      <td>0</td>\n",
       "      <td>0</td>\n",
       "      <td>0</td>\n",
       "      <td>0</td>\n",
       "      <td>0</td>\n",
       "      <td>0</td>\n",
       "    </tr>\n",
       "  </tbody>\n",
       "</table>\n",
       "<p>5 rows × 784 columns</p>\n",
       "</div>"
      ],
      "text/plain": [
       "   pixel0  pixel1  pixel2  pixel3  pixel4  pixel5  pixel6  pixel7  pixel8  \\\n",
       "0       0       0       0       0       0       0       0       0       0   \n",
       "1       0       0       0       0       0       0       0       0       0   \n",
       "2       0       0       0       0       0       0       0       0       0   \n",
       "3       0       0       0       0       0       0       0       0       0   \n",
       "4       0       0       0       0       0       0       0       0       0   \n",
       "\n",
       "   pixel9  ...  pixel774  pixel775  pixel776  pixel777  pixel778  pixel779  \\\n",
       "0       0  ...         0         0         0         0         0         0   \n",
       "1       0  ...         0         0         0         0         0         0   \n",
       "2       0  ...         0         0         0         0         0         0   \n",
       "3       0  ...         0         0         0         0         0         0   \n",
       "4       0  ...         0         0         0         0         0         0   \n",
       "\n",
       "   pixel780  pixel781  pixel782  pixel783  \n",
       "0         0         0         0         0  \n",
       "1         0         0         0         0  \n",
       "2         0         0         0         0  \n",
       "3         0         0         0         0  \n",
       "4         0         0         0         0  \n",
       "\n",
       "[5 rows x 784 columns]"
      ]
     },
     "execution_count": 4,
     "metadata": {},
     "output_type": "execute_result"
    }
   ],
   "source": [
    "print(f\"Test Data Info: {test.info()}\\n\")\n",
    "test.head()"
   ]
  },
  {
   "cell_type": "markdown",
   "id": "9b503ed6",
   "metadata": {
    "papermill": {
     "duration": 0.007572,
     "end_time": "2023-10-16T15:39:44.592967",
     "exception": false,
     "start_time": "2023-10-16T15:39:44.585395",
     "status": "completed"
    },
    "tags": []
   },
   "source": [
    "Train dataset contains the target and features columns, it has a shape of 785 columns and 42000 rows/observations,while the test dataset contains just the features columns, and is a shape of 784 columns and 28000 rows/observations."
   ]
  },
  {
   "cell_type": "markdown",
   "id": "5633f85d",
   "metadata": {
    "papermill": {
     "duration": 0.00776,
     "end_time": "2023-10-16T15:39:44.609445",
     "exception": false,
     "start_time": "2023-10-16T15:39:44.601685",
     "status": "completed"
    },
    "tags": []
   },
   "source": [
    "# Split Training Dataset to Targets and Features"
   ]
  },
  {
   "cell_type": "code",
   "execution_count": 5,
   "id": "9a8db6f7",
   "metadata": {
    "execution": {
     "iopub.execute_input": "2023-10-16T15:39:44.627049Z",
     "iopub.status.busy": "2023-10-16T15:39:44.626651Z",
     "iopub.status.idle": "2023-10-16T15:39:44.775953Z",
     "shell.execute_reply": "2023-10-16T15:39:44.774687Z"
    },
    "papermill": {
     "duration": 0.160367,
     "end_time": "2023-10-16T15:39:44.777846",
     "exception": false,
     "start_time": "2023-10-16T15:39:44.617479",
     "status": "completed"
    },
    "tags": []
   },
   "outputs": [],
   "source": [
    "target= train[\"label\"]\n",
    "features= train.drop(\"label\", axis=1)"
   ]
  },
  {
   "cell_type": "code",
   "execution_count": 6,
   "id": "9a0092ac",
   "metadata": {
    "execution": {
     "iopub.execute_input": "2023-10-16T15:39:44.796583Z",
     "iopub.status.busy": "2023-10-16T15:39:44.795730Z",
     "iopub.status.idle": "2023-10-16T15:39:44.801245Z",
     "shell.execute_reply": "2023-10-16T15:39:44.800094Z"
    },
    "papermill": {
     "duration": 0.016747,
     "end_time": "2023-10-16T15:39:44.803214",
     "exception": false,
     "start_time": "2023-10-16T15:39:44.786467",
     "status": "completed"
    },
    "tags": []
   },
   "outputs": [
    {
     "name": "stdout",
     "output_type": "stream",
     "text": [
      "Target type: <class 'pandas.core.series.Series'>\n",
      "\n",
      "Features type: <class 'pandas.core.frame.DataFrame'>\n"
     ]
    }
   ],
   "source": [
    "print(f\"Target type: {type(target)}\\n\")\n",
    "print(f\"Features type: {type(features)}\")"
   ]
  },
  {
   "cell_type": "code",
   "execution_count": 7,
   "id": "c3e8dc0a",
   "metadata": {
    "execution": {
     "iopub.execute_input": "2023-10-16T15:39:44.820627Z",
     "iopub.status.busy": "2023-10-16T15:39:44.820267Z",
     "iopub.status.idle": "2023-10-16T15:39:44.836738Z",
     "shell.execute_reply": "2023-10-16T15:39:44.835979Z"
    },
    "papermill": {
     "duration": 0.027928,
     "end_time": "2023-10-16T15:39:44.839213",
     "exception": false,
     "start_time": "2023-10-16T15:39:44.811285",
     "status": "completed"
    },
    "tags": []
   },
   "outputs": [
    {
     "name": "stdout",
     "output_type": "stream",
     "text": [
      "0    1\n",
      "1    0\n",
      "2    1\n",
      "3    4\n",
      "4    0\n",
      "Name: label, dtype: int64\n"
     ]
    },
    {
     "data": {
      "text/html": [
       "<div>\n",
       "<style scoped>\n",
       "    .dataframe tbody tr th:only-of-type {\n",
       "        vertical-align: middle;\n",
       "    }\n",
       "\n",
       "    .dataframe tbody tr th {\n",
       "        vertical-align: top;\n",
       "    }\n",
       "\n",
       "    .dataframe thead th {\n",
       "        text-align: right;\n",
       "    }\n",
       "</style>\n",
       "<table border=\"1\" class=\"dataframe\">\n",
       "  <thead>\n",
       "    <tr style=\"text-align: right;\">\n",
       "      <th></th>\n",
       "      <th>pixel0</th>\n",
       "      <th>pixel1</th>\n",
       "      <th>pixel2</th>\n",
       "      <th>pixel3</th>\n",
       "      <th>pixel4</th>\n",
       "      <th>pixel5</th>\n",
       "      <th>pixel6</th>\n",
       "      <th>pixel7</th>\n",
       "      <th>pixel8</th>\n",
       "      <th>pixel9</th>\n",
       "      <th>...</th>\n",
       "      <th>pixel774</th>\n",
       "      <th>pixel775</th>\n",
       "      <th>pixel776</th>\n",
       "      <th>pixel777</th>\n",
       "      <th>pixel778</th>\n",
       "      <th>pixel779</th>\n",
       "      <th>pixel780</th>\n",
       "      <th>pixel781</th>\n",
       "      <th>pixel782</th>\n",
       "      <th>pixel783</th>\n",
       "    </tr>\n",
       "  </thead>\n",
       "  <tbody>\n",
       "    <tr>\n",
       "      <th>0</th>\n",
       "      <td>0</td>\n",
       "      <td>0</td>\n",
       "      <td>0</td>\n",
       "      <td>0</td>\n",
       "      <td>0</td>\n",
       "      <td>0</td>\n",
       "      <td>0</td>\n",
       "      <td>0</td>\n",
       "      <td>0</td>\n",
       "      <td>0</td>\n",
       "      <td>...</td>\n",
       "      <td>0</td>\n",
       "      <td>0</td>\n",
       "      <td>0</td>\n",
       "      <td>0</td>\n",
       "      <td>0</td>\n",
       "      <td>0</td>\n",
       "      <td>0</td>\n",
       "      <td>0</td>\n",
       "      <td>0</td>\n",
       "      <td>0</td>\n",
       "    </tr>\n",
       "    <tr>\n",
       "      <th>1</th>\n",
       "      <td>0</td>\n",
       "      <td>0</td>\n",
       "      <td>0</td>\n",
       "      <td>0</td>\n",
       "      <td>0</td>\n",
       "      <td>0</td>\n",
       "      <td>0</td>\n",
       "      <td>0</td>\n",
       "      <td>0</td>\n",
       "      <td>0</td>\n",
       "      <td>...</td>\n",
       "      <td>0</td>\n",
       "      <td>0</td>\n",
       "      <td>0</td>\n",
       "      <td>0</td>\n",
       "      <td>0</td>\n",
       "      <td>0</td>\n",
       "      <td>0</td>\n",
       "      <td>0</td>\n",
       "      <td>0</td>\n",
       "      <td>0</td>\n",
       "    </tr>\n",
       "    <tr>\n",
       "      <th>2</th>\n",
       "      <td>0</td>\n",
       "      <td>0</td>\n",
       "      <td>0</td>\n",
       "      <td>0</td>\n",
       "      <td>0</td>\n",
       "      <td>0</td>\n",
       "      <td>0</td>\n",
       "      <td>0</td>\n",
       "      <td>0</td>\n",
       "      <td>0</td>\n",
       "      <td>...</td>\n",
       "      <td>0</td>\n",
       "      <td>0</td>\n",
       "      <td>0</td>\n",
       "      <td>0</td>\n",
       "      <td>0</td>\n",
       "      <td>0</td>\n",
       "      <td>0</td>\n",
       "      <td>0</td>\n",
       "      <td>0</td>\n",
       "      <td>0</td>\n",
       "    </tr>\n",
       "    <tr>\n",
       "      <th>3</th>\n",
       "      <td>0</td>\n",
       "      <td>0</td>\n",
       "      <td>0</td>\n",
       "      <td>0</td>\n",
       "      <td>0</td>\n",
       "      <td>0</td>\n",
       "      <td>0</td>\n",
       "      <td>0</td>\n",
       "      <td>0</td>\n",
       "      <td>0</td>\n",
       "      <td>...</td>\n",
       "      <td>0</td>\n",
       "      <td>0</td>\n",
       "      <td>0</td>\n",
       "      <td>0</td>\n",
       "      <td>0</td>\n",
       "      <td>0</td>\n",
       "      <td>0</td>\n",
       "      <td>0</td>\n",
       "      <td>0</td>\n",
       "      <td>0</td>\n",
       "    </tr>\n",
       "    <tr>\n",
       "      <th>4</th>\n",
       "      <td>0</td>\n",
       "      <td>0</td>\n",
       "      <td>0</td>\n",
       "      <td>0</td>\n",
       "      <td>0</td>\n",
       "      <td>0</td>\n",
       "      <td>0</td>\n",
       "      <td>0</td>\n",
       "      <td>0</td>\n",
       "      <td>0</td>\n",
       "      <td>...</td>\n",
       "      <td>0</td>\n",
       "      <td>0</td>\n",
       "      <td>0</td>\n",
       "      <td>0</td>\n",
       "      <td>0</td>\n",
       "      <td>0</td>\n",
       "      <td>0</td>\n",
       "      <td>0</td>\n",
       "      <td>0</td>\n",
       "      <td>0</td>\n",
       "    </tr>\n",
       "  </tbody>\n",
       "</table>\n",
       "<p>5 rows × 784 columns</p>\n",
       "</div>"
      ],
      "text/plain": [
       "   pixel0  pixel1  pixel2  pixel3  pixel4  pixel5  pixel6  pixel7  pixel8  \\\n",
       "0       0       0       0       0       0       0       0       0       0   \n",
       "1       0       0       0       0       0       0       0       0       0   \n",
       "2       0       0       0       0       0       0       0       0       0   \n",
       "3       0       0       0       0       0       0       0       0       0   \n",
       "4       0       0       0       0       0       0       0       0       0   \n",
       "\n",
       "   pixel9  ...  pixel774  pixel775  pixel776  pixel777  pixel778  pixel779  \\\n",
       "0       0  ...         0         0         0         0         0         0   \n",
       "1       0  ...         0         0         0         0         0         0   \n",
       "2       0  ...         0         0         0         0         0         0   \n",
       "3       0  ...         0         0         0         0         0         0   \n",
       "4       0  ...         0         0         0         0         0         0   \n",
       "\n",
       "   pixel780  pixel781  pixel782  pixel783  \n",
       "0         0         0         0         0  \n",
       "1         0         0         0         0  \n",
       "2         0         0         0         0  \n",
       "3         0         0         0         0  \n",
       "4         0         0         0         0  \n",
       "\n",
       "[5 rows x 784 columns]"
      ]
     },
     "execution_count": 7,
     "metadata": {},
     "output_type": "execute_result"
    }
   ],
   "source": [
    "print(target.head())\n",
    "features.head()"
   ]
  },
  {
   "cell_type": "code",
   "execution_count": 8,
   "id": "e9da57ca",
   "metadata": {
    "execution": {
     "iopub.execute_input": "2023-10-16T15:39:44.858232Z",
     "iopub.status.busy": "2023-10-16T15:39:44.857308Z",
     "iopub.status.idle": "2023-10-16T15:39:45.456469Z",
     "shell.execute_reply": "2023-10-16T15:39:45.455199Z"
    },
    "papermill": {
     "duration": 0.610963,
     "end_time": "2023-10-16T15:39:45.458598",
     "exception": false,
     "start_time": "2023-10-16T15:39:44.847635",
     "status": "completed"
    },
    "tags": []
   },
   "outputs": [
    {
     "data": {
      "image/png": "[encoded data removed]",
      "text/plain": [
       "<Figure size 800x600 with 10 Axes>"
      ]
     },
     "metadata": {},
     "output_type": "display_data"
    }
   ],
   "source": [
    "# plot some of the numbers\n",
    "plt.figure(figsize=(8,6))\n",
    "for digit_num in range(0,10):\n",
    "    plt.subplot(5,5,digit_num+1)\n",
    "    grid_data = features.iloc[digit_num].to_numpy().reshape(28,28)  # reshape from 1d to 2d pixel array\n",
    "    plt.imshow(grid_data, interpolation = \"none\", cmap = \"afmhot\")\n",
    "    plt.xticks([])\n",
    "    plt.yticks([])\n",
    "plt.tight_layout()"
   ]
  },
  {
   "cell_type": "code",
   "execution_count": 9,
   "id": "89a14854",
   "metadata": {
    "execution": {
     "iopub.execute_input": "2023-10-16T15:39:45.478968Z",
     "iopub.status.busy": "2023-10-16T15:39:45.477795Z",
     "iopub.status.idle": "2023-10-16T15:39:46.174327Z",
     "shell.execute_reply": "2023-10-16T15:39:46.173269Z"
    },
    "papermill": {
     "duration": 0.709409,
     "end_time": "2023-10-16T15:39:46.176766",
     "exception": false,
     "start_time": "2023-10-16T15:39:45.467357",
     "status": "completed"
    },
    "tags": []
   },
   "outputs": [
    {
     "data": {
      "text/html": [
       "<div>\n",
       "<style scoped>\n",
       "    .dataframe tbody tr th:only-of-type {\n",
       "        vertical-align: middle;\n",
       "    }\n",
       "\n",
       "    .dataframe tbody tr th {\n",
       "        vertical-align: top;\n",
       "    }\n",
       "\n",
       "    .dataframe thead th {\n",
       "        text-align: right;\n",
       "    }\n",
       "</style>\n",
       "<table border=\"1\" class=\"dataframe\">\n",
       "  <thead>\n",
       "    <tr style=\"text-align: right;\">\n",
       "      <th></th>\n",
       "      <th>mean</th>\n",
       "      <th>variance</th>\n",
       "      <th>std</th>\n",
       "    </tr>\n",
       "  </thead>\n",
       "  <tbody>\n",
       "    <tr>\n",
       "      <th>0</th>\n",
       "      <td>21.235969</td>\n",
       "      <td>4175.613961</td>\n",
       "      <td>64.618991</td>\n",
       "    </tr>\n",
       "    <tr>\n",
       "      <th>1</th>\n",
       "      <td>56.899235</td>\n",
       "      <td>9830.412040</td>\n",
       "      <td>99.148434</td>\n",
       "    </tr>\n",
       "    <tr>\n",
       "      <th>2</th>\n",
       "      <td>17.123724</td>\n",
       "      <td>3554.649233</td>\n",
       "      <td>59.620879</td>\n",
       "    </tr>\n",
       "    <tr>\n",
       "      <th>3</th>\n",
       "      <td>19.164541</td>\n",
       "      <td>3335.083896</td>\n",
       "      <td>57.750185</td>\n",
       "    </tr>\n",
       "    <tr>\n",
       "      <th>4</th>\n",
       "      <td>65.169643</td>\n",
       "      <td>10982.077089</td>\n",
       "      <td>104.795406</td>\n",
       "    </tr>\n",
       "    <tr>\n",
       "      <th>...</th>\n",
       "      <td>...</td>\n",
       "      <td>...</td>\n",
       "      <td>...</td>\n",
       "    </tr>\n",
       "    <tr>\n",
       "      <th>41995</th>\n",
       "      <td>37.385204</td>\n",
       "      <td>6493.440904</td>\n",
       "      <td>80.581889</td>\n",
       "    </tr>\n",
       "    <tr>\n",
       "      <th>41996</th>\n",
       "      <td>17.110969</td>\n",
       "      <td>3638.376716</td>\n",
       "      <td>60.318958</td>\n",
       "    </tr>\n",
       "    <tr>\n",
       "      <th>41997</th>\n",
       "      <td>40.183673</td>\n",
       "      <td>7614.802999</td>\n",
       "      <td>87.262839</td>\n",
       "    </tr>\n",
       "    <tr>\n",
       "      <th>41998</th>\n",
       "      <td>33.649235</td>\n",
       "      <td>6232.265994</td>\n",
       "      <td>78.944702</td>\n",
       "    </tr>\n",
       "    <tr>\n",
       "      <th>41999</th>\n",
       "      <td>23.186224</td>\n",
       "      <td>4041.575014</td>\n",
       "      <td>63.573383</td>\n",
       "    </tr>\n",
       "  </tbody>\n",
       "</table>\n",
       "<p>42000 rows × 3 columns</p>\n",
       "</div>"
      ],
      "text/plain": [
       "            mean      variance         std\n",
       "0      21.235969   4175.613961   64.618991\n",
       "1      56.899235   9830.412040   99.148434\n",
       "2      17.123724   3554.649233   59.620879\n",
       "3      19.164541   3335.083896   57.750185\n",
       "4      65.169643  10982.077089  104.795406\n",
       "...          ...           ...         ...\n",
       "41995  37.385204   6493.440904   80.581889\n",
       "41996  17.110969   3638.376716   60.318958\n",
       "41997  40.183673   7614.802999   87.262839\n",
       "41998  33.649235   6232.265994   78.944702\n",
       "41999  23.186224   4041.575014   63.573383\n",
       "\n",
       "[42000 rows x 3 columns]"
      ]
     },
     "execution_count": 9,
     "metadata": {},
     "output_type": "execute_result"
    }
   ],
   "source": [
    "# Basic analysis\n",
    "bstats= {\"mean\": np.mean(features, axis=1), \"variance\": np.var(features, axis=1), \"std\":np.std(features, axis=1) }\n",
    "stats=pd.DataFrame(bstats)\n",
    "stats"
   ]
  },
  {
   "cell_type": "code",
   "execution_count": 10,
   "id": "d729e502",
   "metadata": {
    "execution": {
     "iopub.execute_input": "2023-10-16T15:39:46.197097Z",
     "iopub.status.busy": "2023-10-16T15:39:46.196664Z",
     "iopub.status.idle": "2023-10-16T15:39:46.820300Z",
     "shell.execute_reply": "2023-10-16T15:39:46.818954Z"
    },
    "papermill": {
     "duration": 0.636396,
     "end_time": "2023-10-16T15:39:46.822575",
     "exception": false,
     "start_time": "2023-10-16T15:39:46.186179",
     "status": "completed"
    },
    "tags": []
   },
   "outputs": [
    {
     "data": {
      "text/plain": [
       "array([[<Axes: title={'center': 'mean'}>,\n",
       "        <Axes: title={'center': 'variance'}>],\n",
       "       [<Axes: title={'center': 'std'}>, <Axes: >]], dtype=object)"
      ]
     },
     "execution_count": 10,
     "metadata": {},
     "output_type": "execute_result"
    },
    {
     "data": {
      "image/png": "[encoded data removed]",
      "text/plain": [
       "<Figure size 640x480 with 4 Axes>"
      ]
     },
     "metadata": {},
     "output_type": "display_data"
    }
   ],
   "source": [
    "stats.hist()"
   ]
  },
  {
   "cell_type": "markdown",
   "id": "359b413b",
   "metadata": {
    "papermill": {
     "duration": 0.008925,
     "end_time": "2023-10-16T15:39:46.841051",
     "exception": false,
     "start_time": "2023-10-16T15:39:46.832126",
     "status": "completed"
    },
    "tags": []
   },
   "source": [
    "# Preprocessing the Datasets\n",
    "#### Features\n",
    "- **Data Noramlization** scales the pixel values to a certain range (usually 0 to 1), which can help with numerical stability and also ensure that all features have the same scale.\n",
    "- **Standardize** makes the features more like standard normally distributed data: Gaussian with zero mean and unit variance\n",
    "- **Scaling Data** is necessary because many machine learning algorithms (especially deep learning algorithms) expect input data in a certain shape."
   ]
  },
  {
   "cell_type": "code",
   "execution_count": 11,
   "id": "3e3c4f24",
   "metadata": {
    "execution": {
     "iopub.execute_input": "2023-10-16T15:39:46.862712Z",
     "iopub.status.busy": "2023-10-16T15:39:46.862334Z",
     "iopub.status.idle": "2023-10-16T15:39:46.868416Z",
     "shell.execute_reply": "2023-10-16T15:39:46.867117Z"
    },
    "papermill": {
     "duration": 0.019514,
     "end_time": "2023-10-16T15:39:46.870562",
     "exception": false,
     "start_time": "2023-10-16T15:39:46.851048",
     "status": "completed"
    },
    "tags": []
   },
   "outputs": [],
   "source": [
    "def preprocess_data(data):\n",
    "    # Normalize the data\n",
    "    feat_norm = data / 255.0\n",
    "\n",
    "    # Initialize a new StandardScaler instance\n",
    "    scaler = StandardScaler()\n",
    "\n",
    "    # Fit the scaler to the data\n",
    "    scaler.fit(feat_norm)\n",
    "\n",
    "    # Transform the data\n",
    "    feat_scaled = scaler.transform(feat_norm)\n",
    "    \n",
    "    # Reshape the data to 28x28 images\n",
    "    feat_reshape = feat_scaled.reshape(-1, 28, 28)\n",
    "    \n",
    "    return feat_reshape\n"
   ]
  },
  {
   "cell_type": "markdown",
   "id": "6a22720b",
   "metadata": {
    "papermill": {
     "duration": 0.00961,
     "end_time": "2023-10-16T15:39:46.891229",
     "exception": false,
     "start_time": "2023-10-16T15:39:46.881619",
     "status": "completed"
    },
    "tags": []
   },
   "source": []
  },
  {
   "cell_type": "code",
   "execution_count": 12,
   "id": "e9ec7558",
   "metadata": {
    "execution": {
     "iopub.execute_input": "2023-10-16T15:39:46.912326Z",
     "iopub.status.busy": "2023-10-16T15:39:46.911978Z",
     "iopub.status.idle": "2023-10-16T15:39:47.798143Z",
     "shell.execute_reply": "2023-10-16T15:39:47.796958Z"
    },
    "papermill": {
     "duration": 0.899667,
     "end_time": "2023-10-16T15:39:47.800847",
     "exception": false,
     "start_time": "2023-10-16T15:39:46.901180",
     "status": "completed"
    },
    "tags": []
   },
   "outputs": [],
   "source": [
    "feat_train= preprocess_data(features)\n",
    "feat_test= preprocess_data(test)"
   ]
  },
  {
   "cell_type": "code",
   "execution_count": 13,
   "id": "d9c08046",
   "metadata": {
    "execution": {
     "iopub.execute_input": "2023-10-16T15:39:47.821680Z",
     "iopub.status.busy": "2023-10-16T15:39:47.821267Z",
     "iopub.status.idle": "2023-10-16T15:39:47.827116Z",
     "shell.execute_reply": "2023-10-16T15:39:47.825896Z"
    },
    "papermill": {
     "duration": 0.018963,
     "end_time": "2023-10-16T15:39:47.829586",
     "exception": false,
     "start_time": "2023-10-16T15:39:47.810623",
     "status": "completed"
    },
    "tags": []
   },
   "outputs": [
    {
     "name": "stdout",
     "output_type": "stream",
     "text": [
      "Train Scaled DataType: <class 'numpy.ndarray'>\n",
      "Test Scaled DataType: <class 'numpy.ndarray'>\n"
     ]
    }
   ],
   "source": [
    "# Datatype\n",
    "print(f\"Train Scaled DataType: {type(feat_train)}\")\n",
    "print(f\"Test Scaled DataType: {type(feat_test)}\")"
   ]
  },
  {
   "cell_type": "code",
   "execution_count": 14,
   "id": "b91d5d12",
   "metadata": {
    "execution": {
     "iopub.execute_input": "2023-10-16T15:39:47.850684Z",
     "iopub.status.busy": "2023-10-16T15:39:47.850335Z",
     "iopub.status.idle": "2023-10-16T15:39:47.859585Z",
     "shell.execute_reply": "2023-10-16T15:39:47.858540Z"
    },
    "papermill": {
     "duration": 0.022706,
     "end_time": "2023-10-16T15:39:47.862467",
     "exception": false,
     "start_time": "2023-10-16T15:39:47.839761",
     "status": "completed"
    },
    "tags": []
   },
   "outputs": [
    {
     "name": "stdout",
     "output_type": "stream",
     "text": [
      "Train Scaled Data: \n",
      " [[[ 0.          0.          0.         ...  0.          0.\n",
      "    0.        ]\n",
      "  [ 0.          0.          0.         ...  0.          0.\n",
      "    0.        ]\n",
      "  [ 0.          0.         -0.00487956 ... -0.00805699  0.\n",
      "    0.        ]\n",
      "  ...\n",
      "  [ 0.          0.         -0.00796544 ... -0.00678334 -0.00487956\n",
      "    0.        ]\n",
      "  [ 0.          0.          0.         ... -0.00487956  0.\n",
      "    0.        ]\n",
      "  [ 0.          0.          0.         ...  0.          0.\n",
      "    0.        ]]\n",
      "\n",
      " [[ 0.          0.          0.         ...  0.          0.\n",
      "    0.        ]\n",
      "  [ 0.          0.          0.         ...  0.          0.\n",
      "    0.        ]\n",
      "  [ 0.          0.         -0.00487956 ... -0.00805699  0.\n",
      "    0.        ]\n",
      "  ...\n",
      "  [ 0.          0.         -0.00796544 ... -0.00678334 -0.00487956\n",
      "    0.        ]\n",
      "  [ 0.          0.          0.         ... -0.00487956  0.\n",
      "    0.        ]\n",
      "  [ 0.          0.          0.         ...  0.          0.\n",
      "    0.        ]]\n",
      "\n",
      " [[ 0.          0.          0.         ...  0.          0.\n",
      "    0.        ]\n",
      "  [ 0.          0.          0.         ...  0.          0.\n",
      "    0.        ]\n",
      "  [ 0.          0.         -0.00487956 ... -0.00805699  0.\n",
      "    0.        ]\n",
      "  ...\n",
      "  [ 0.          0.         -0.00796544 ... -0.00678334 -0.00487956\n",
      "    0.        ]\n",
      "  [ 0.          0.          0.         ... -0.00487956  0.\n",
      "    0.        ]\n",
      "  [ 0.          0.          0.         ...  0.          0.\n",
      "    0.        ]]\n",
      "\n",
      " [[ 0.          0.          0.         ...  0.          0.\n",
      "    0.        ]\n",
      "  [ 0.          0.          0.         ...  0.          0.\n",
      "    0.        ]\n",
      "  [ 0.          0.         -0.00487956 ... -0.00805699  0.\n",
      "    0.        ]\n",
      "  ...\n",
      "  [ 0.          0.         -0.00796544 ... -0.00678334 -0.00487956\n",
      "    0.        ]\n",
      "  [ 0.          0.          0.         ... -0.00487956  0.\n",
      "    0.        ]\n",
      "  [ 0.          0.          0.         ...  0.          0.\n",
      "    0.        ]]\n",
      "\n",
      " [[ 0.          0.          0.         ...  0.          0.\n",
      "    0.        ]\n",
      "  [ 0.          0.          0.         ...  0.          0.\n",
      "    0.        ]\n",
      "  [ 0.          0.         -0.00487956 ... -0.00805699  0.\n",
      "    0.        ]\n",
      "  ...\n",
      "  [ 0.          0.         -0.00796544 ... -0.00678334 -0.00487956\n",
      "    0.        ]\n",
      "  [ 0.          0.          0.         ... -0.00487956  0.\n",
      "    0.        ]\n",
      "  [ 0.          0.          0.         ...  0.          0.\n",
      "    0.        ]]]\n",
      "\n",
      "Test Scaled Data: \n",
      " [[[ 0.          0.          0.         ...  0.          0.\n",
      "    0.        ]\n",
      "  [ 0.          0.          0.         ...  0.          0.\n",
      "    0.        ]\n",
      "  [ 0.          0.          0.         ... -0.00597625  0.\n",
      "    0.        ]\n",
      "  ...\n",
      "  [ 0.          0.          0.         ... -0.00597625  0.\n",
      "    0.        ]\n",
      "  [ 0.          0.          0.         ...  0.          0.\n",
      "    0.        ]\n",
      "  [ 0.          0.          0.         ...  0.          0.\n",
      "    0.        ]]\n",
      "\n",
      " [[ 0.          0.          0.         ...  0.          0.\n",
      "    0.        ]\n",
      "  [ 0.          0.          0.         ...  0.          0.\n",
      "    0.        ]\n",
      "  [ 0.          0.          0.         ... -0.00597625  0.\n",
      "    0.        ]\n",
      "  ...\n",
      "  [ 0.          0.          0.         ... -0.00597625  0.\n",
      "    0.        ]\n",
      "  [ 0.          0.          0.         ...  0.          0.\n",
      "    0.        ]\n",
      "  [ 0.          0.          0.         ...  0.          0.\n",
      "    0.        ]]\n",
      "\n",
      " [[ 0.          0.          0.         ...  0.          0.\n",
      "    0.        ]\n",
      "  [ 0.          0.          0.         ...  0.          0.\n",
      "    0.        ]\n",
      "  [ 0.          0.          0.         ... -0.00597625  0.\n",
      "    0.        ]\n",
      "  ...\n",
      "  [ 0.          0.          0.         ... -0.00597625  0.\n",
      "    0.        ]\n",
      "  [ 0.          0.          0.         ...  0.          0.\n",
      "    0.        ]\n",
      "  [ 0.          0.          0.         ...  0.          0.\n",
      "    0.        ]]\n",
      "\n",
      " [[ 0.          0.          0.         ...  0.          0.\n",
      "    0.        ]\n",
      "  [ 0.          0.          0.         ...  0.          0.\n",
      "    0.        ]\n",
      "  [ 0.          0.          0.         ... -0.00597625  0.\n",
      "    0.        ]\n",
      "  ...\n",
      "  [ 0.          0.          0.         ... -0.00597625  0.\n",
      "    0.        ]\n",
      "  [ 0.          0.          0.         ...  0.          0.\n",
      "    0.        ]\n",
      "  [ 0.          0.          0.         ...  0.          0.\n",
      "    0.        ]]\n",
      "\n",
      " [[ 0.          0.          0.         ...  0.          0.\n",
      "    0.        ]\n",
      "  [ 0.          0.          0.         ...  0.          0.\n",
      "    0.        ]\n",
      "  [ 0.          0.          0.         ... -0.00597625  0.\n",
      "    0.        ]\n",
      "  ...\n",
      "  [ 0.          0.          0.         ... -0.00597625  0.\n",
      "    0.        ]\n",
      "  [ 0.          0.          0.         ...  0.          0.\n",
      "    0.        ]\n",
      "  [ 0.          0.          0.         ...  0.          0.\n",
      "    0.        ]]]\n"
     ]
    }
   ],
   "source": [
    "# Printing the Data\n",
    "print(f\"Train Scaled Data: \\n {feat_train[0:5]}\\n\")\n",
    "print(f\"Test Scaled Data: \\n {feat_test[0:5]}\")"
   ]
  },
  {
   "cell_type": "code",
   "execution_count": 15,
   "id": "b03da788",
   "metadata": {
    "execution": {
     "iopub.execute_input": "2023-10-16T15:39:47.885102Z",
     "iopub.status.busy": "2023-10-16T15:39:47.884668Z",
     "iopub.status.idle": "2023-10-16T15:39:47.889543Z",
     "shell.execute_reply": "2023-10-16T15:39:47.888712Z"
    },
    "papermill": {
     "duration": 0.019495,
     "end_time": "2023-10-16T15:39:47.891605",
     "exception": false,
     "start_time": "2023-10-16T15:39:47.872110",
     "status": "completed"
    },
    "tags": []
   },
   "outputs": [
    {
     "name": "stdout",
     "output_type": "stream",
     "text": [
      "Train Scaled Data Shape: \n",
      " (42000, 28, 28)\n",
      "\n",
      "Test Scaled Data Shape: \n",
      " (28000, 28, 28)\n"
     ]
    }
   ],
   "source": [
    "print(f\"Train Scaled Data Shape: \\n {feat_train.shape}\\n\")\n",
    "print(f\"Test Scaled Data Shape: \\n {feat_test.shape}\")"
   ]
  },
  {
   "cell_type": "code",
   "execution_count": 16,
   "id": "e7818cb1",
   "metadata": {
    "execution": {
     "iopub.execute_input": "2023-10-16T15:39:47.913469Z",
     "iopub.status.busy": "2023-10-16T15:39:47.913028Z",
     "iopub.status.idle": "2023-10-16T15:39:48.495171Z",
     "shell.execute_reply": "2023-10-16T15:39:48.494370Z"
    },
    "papermill": {
     "duration": 0.595777,
     "end_time": "2023-10-16T15:39:48.497165",
     "exception": false,
     "start_time": "2023-10-16T15:39:47.901388",
     "status": "completed"
    },
    "tags": []
   },
   "outputs": [
    {
     "data": {
      "image/png": "[encoded data removed]",
      "text/plain": [
       "<Figure size 800x600 with 10 Axes>"
      ]
     },
     "metadata": {},
     "output_type": "display_data"
    }
   ],
   "source": [
    "# plot some of the numbers preprocessed image\n",
    "plt.figure(figsize=(8,6))\n",
    "for digit_num in range(0,10):\n",
    "    plt.subplot(5,5,digit_num+1)\n",
    "    grid_data = feat_train[digit_num]\n",
    "    plt.imshow(grid_data, interpolation = \"none\", cmap = \"afmhot\")\n",
    "    plt.xticks([])\n",
    "    plt.yticks([])\n",
    "plt.tight_layout()"
   ]
  },
  {
   "cell_type": "markdown",
   "id": "33305f1e",
   "metadata": {
    "papermill": {
     "duration": 0.009623,
     "end_time": "2023-10-16T15:39:48.516858",
     "exception": false,
     "start_time": "2023-10-16T15:39:48.507235",
     "status": "completed"
    },
    "tags": []
   },
   "source": [
    "#### Target\n",
    "\n",
    "**One Hot encoding of labels** \n",
    "\n",
    "A one-hot vector is a vector which is 0 in most dimensions, and 1 in a single dimension. In this case, the nth digit will be represented as a vector which is 1 in the nth dimension"
   ]
  },
  {
   "cell_type": "code",
   "execution_count": 17,
   "id": "66ac041b",
   "metadata": {
    "execution": {
     "iopub.execute_input": "2023-10-16T15:39:48.539306Z",
     "iopub.status.busy": "2023-10-16T15:39:48.538303Z",
     "iopub.status.idle": "2023-10-16T15:39:48.546091Z",
     "shell.execute_reply": "2023-10-16T15:39:48.544807Z"
    },
    "papermill": {
     "duration": 0.021631,
     "end_time": "2023-10-16T15:39:48.548299",
     "exception": false,
     "start_time": "2023-10-16T15:39:48.526668",
     "status": "completed"
    },
    "tags": []
   },
   "outputs": [
    {
     "name": "stdout",
     "output_type": "stream",
     "text": [
      "[[0. 1. 0. ... 0. 0. 0.]\n",
      " [1. 0. 0. ... 0. 0. 0.]\n",
      " [0. 1. 0. ... 0. 0. 0.]\n",
      " ...\n",
      " [0. 0. 0. ... 1. 0. 0.]\n",
      " [0. 0. 0. ... 0. 0. 0.]\n",
      " [0. 0. 0. ... 0. 0. 1.]]\n",
      "Classes: 10\n"
     ]
    }
   ],
   "source": [
    "cat_target= to_categorical(target, )\n",
    "target_classes = cat_target.shape[1]\n",
    "print(cat_target)\n",
    "print(f\"Classes: {target_classes}\")\n"
   ]
  },
  {
   "cell_type": "code",
   "execution_count": 18,
   "id": "8494e58e",
   "metadata": {
    "execution": {
     "iopub.execute_input": "2023-10-16T15:39:48.635014Z",
     "iopub.status.busy": "2023-10-16T15:39:48.634586Z",
     "iopub.status.idle": "2023-10-16T15:39:48.934335Z",
     "shell.execute_reply": "2023-10-16T15:39:48.932967Z"
    },
    "papermill": {
     "duration": 0.31461,
     "end_time": "2023-10-16T15:39:48.936573",
     "exception": false,
     "start_time": "2023-10-16T15:39:48.621963",
     "status": "completed"
    },
    "tags": []
   },
   "outputs": [
    {
     "name": "stderr",
     "output_type": "stream",
     "text": [
      "/opt/conda/lib/python3.10/site-packages/matplotlib/text.py:1279: FutureWarning: elementwise comparison failed; returning scalar instead, but in the future will perform elementwise comparison\n",
      "  if s != self._text:\n"
     ]
    },
    {
     "data": {
      "image/png": "[encoded data removed]",
      "text/plain": [
       "<Figure size 640x480 with 1 Axes>"
      ]
     },
     "metadata": {},
     "output_type": "display_data"
    }
   ],
   "source": [
    "plt.title(cat_target[8])\n",
    "plt.plot(cat_target[8])\n",
    "plt.xticks(range(10));"
   ]
  },
  {
   "cell_type": "markdown",
   "id": "8fa01f61",
   "metadata": {
    "papermill": {
     "duration": 0.010747,
     "end_time": "2023-10-16T15:39:48.958639",
     "exception": false,
     "start_time": "2023-10-16T15:39:48.947892",
     "status": "completed"
    },
    "tags": []
   },
   "source": [
    "The vector is 5"
   ]
  },
  {
   "cell_type": "markdown",
   "id": "896b57fe",
   "metadata": {
    "papermill": {
     "duration": 0.010312,
     "end_time": "2023-10-16T15:39:48.979873",
     "exception": false,
     "start_time": "2023-10-16T15:39:48.969561",
     "status": "completed"
    },
    "tags": []
   },
   "source": [
    "# Feature Extraction"
   ]
  },
  {
   "cell_type": "markdown",
   "id": "ca9d1465",
   "metadata": {
    "papermill": {
     "duration": 0.010461,
     "end_time": "2023-10-16T15:39:49.001037",
     "exception": false,
     "start_time": "2023-10-16T15:39:48.990576",
     "status": "completed"
    },
    "tags": []
   },
   "source": [
    "Principal Component Analysis (PCA) is a linear transformation algorithm that seeks to project the original features of our data onto a smaller set of features ( or subspace ) while still retaining most of the information."
   ]
  },
  {
   "cell_type": "code",
   "execution_count": 19,
   "id": "31ea1365",
   "metadata": {
    "execution": {
     "iopub.execute_input": "2023-10-16T15:39:49.024038Z",
     "iopub.status.busy": "2023-10-16T15:39:49.023627Z",
     "iopub.status.idle": "2023-10-16T15:39:56.171036Z",
     "shell.execute_reply": "2023-10-16T15:39:56.169464Z"
    },
    "papermill": {
     "duration": 7.162348,
     "end_time": "2023-10-16T15:39:56.174113",
     "exception": false,
     "start_time": "2023-10-16T15:39:49.011765",
     "status": "completed"
    },
    "tags": []
   },
   "outputs": [],
   "source": [
    "# Assuming 'features' is your original data\n",
    "feat_train_reshaped = feat_train.reshape((feat_train.shape[0], feat_train.shape[1] * feat_train.shape[2]))\n",
    "feat_test_reshaped = feat_test.reshape((feat_test.shape[0], feat_test.shape[1] * feat_test.shape[2]))\n",
    "\n",
    "pca= PCA(0.95)\n",
    "pca.fit(feat_train_reshaped)\n",
    "train_pca= pca.transform(feat_train_reshaped)\n",
    "test_pca= pca.transform(feat_test_reshaped)"
   ]
  },
  {
   "cell_type": "code",
   "execution_count": 20,
   "id": "ffe16b6a",
   "metadata": {
    "execution": {
     "iopub.execute_input": "2023-10-16T15:39:56.238158Z",
     "iopub.status.busy": "2023-10-16T15:39:56.237456Z",
     "iopub.status.idle": "2023-10-16T15:39:56.253367Z",
     "shell.execute_reply": "2023-10-16T15:39:56.251723Z"
    },
    "papermill": {
     "duration": 0.053149,
     "end_time": "2023-10-16T15:39:56.258110",
     "exception": false,
     "start_time": "2023-10-16T15:39:56.204961",
     "status": "completed"
    },
    "tags": []
   },
   "outputs": [
    {
     "name": "stdout",
     "output_type": "stream",
     "text": [
      "Shape of Dataset: [[ -5.14047772  -5.2264454    3.88700075 ...   0.2522825   -0.30099636\n",
      "   -0.07857859]\n",
      " [ 19.29233234   6.03299601   1.30814797 ...  -0.15687518  -0.26198889\n",
      "    0.22004628]\n",
      " [ -7.64450341  -1.70581328   2.28932646 ...   0.22375157  -0.04941062\n",
      "   -0.22325326]\n",
      " ...\n",
      " [  0.49539137   7.07627667 -12.08969955 ...  -0.12348149  -0.08188437\n",
      "    0.04023504]\n",
      " [  2.30724011  -4.34451279   0.6998478  ...  -0.46288052   0.5304089\n",
      "   -0.7321853 ]\n",
      " [ -4.80767022   1.55912058  -2.49793585 ...  -0.88325339  -0.54571201\n",
      "   -0.27910786]]\n"
     ]
    }
   ],
   "source": [
    "print(f\"Shape of Dataset: {train_pca}\")"
   ]
  },
  {
   "cell_type": "markdown",
   "id": "945d3ebc",
   "metadata": {
    "papermill": {
     "duration": 0.010218,
     "end_time": "2023-10-16T15:39:56.297509",
     "exception": false,
     "start_time": "2023-10-16T15:39:56.287291",
     "status": "completed"
    },
    "tags": []
   },
   "source": [
    "# Test Train Split"
   ]
  },
  {
   "cell_type": "code",
   "execution_count": 21,
   "id": "4b8b1cff",
   "metadata": {
    "execution": {
     "iopub.execute_input": "2023-10-16T15:39:56.320865Z",
     "iopub.status.busy": "2023-10-16T15:39:56.320493Z",
     "iopub.status.idle": "2023-10-16T15:39:56.368645Z",
     "shell.execute_reply": "2023-10-16T15:39:56.367837Z"
    },
    "papermill": {
     "duration": 0.062093,
     "end_time": "2023-10-16T15:39:56.370838",
     "exception": false,
     "start_time": "2023-10-16T15:39:56.308745",
     "status": "completed"
    },
    "tags": []
   },
   "outputs": [],
   "source": [
    "# Split the data into training and testing sets\n",
    "X_train, X_test, y_train, y_test = train_test_split(train_pca, cat_target, test_size=0.2, random_state=42)"
   ]
  },
  {
   "cell_type": "markdown",
   "id": "f2ca8e4f",
   "metadata": {
    "papermill": {
     "duration": 0.010855,
     "end_time": "2023-10-16T15:39:56.392857",
     "exception": false,
     "start_time": "2023-10-16T15:39:56.382002",
     "status": "completed"
    },
    "tags": []
   },
   "source": [
    "# Build Model\n",
    "The input shape for the first layer is 50 because you mentioned your data from the reduced_train is 50.\n",
    "The final layer uses softmax activation function because this is a multi-class classification problem."
   ]
  },
  {
   "cell_type": "code",
   "execution_count": 22,
   "id": "6ccc9924",
   "metadata": {
    "execution": {
     "iopub.execute_input": "2023-10-16T15:39:56.417190Z",
     "iopub.status.busy": "2023-10-16T15:39:56.416756Z",
     "iopub.status.idle": "2023-10-16T15:39:56.674744Z",
     "shell.execute_reply": "2023-10-16T15:39:56.673347Z"
    },
    "papermill": {
     "duration": 0.273491,
     "end_time": "2023-10-16T15:39:56.677792",
     "exception": false,
     "start_time": "2023-10-16T15:39:56.404301",
     "status": "completed"
    },
    "tags": []
   },
   "outputs": [
    {
     "name": "stdout",
     "output_type": "stream",
     "text": [
      "Model: \"sequential\"\n",
      "_________________________________________________________________\n",
      " Layer (type)                Output Shape              Param #   \n",
      "=================================================================\n",
      " dense (Dense)               (None, 128)               41088     \n",
      "                                                                 \n",
      " dense_1 (Dense)             (None, 64)                8256      \n",
      "                                                                 \n",
      " dense_2 (Dense)             (None, 64)                4160      \n",
      "                                                                 \n",
      " dense_3 (Dense)             (None, 32)                2080      \n",
      "                                                                 \n",
      " dense_4 (Dense)             (None, 10)                330       \n",
      "                                                                 \n",
      "=================================================================\n",
      "Total params: 55,914\n",
      "Trainable params: 55,914\n",
      "Non-trainable params: 0\n",
      "_________________________________________________________________\n"
     ]
    }
   ],
   "source": [
    "# Define the model\n",
    "model = Sequential()\n",
    "model.add(Dense(128, activation='relu', input_shape=(train_pca.shape[1],)))\n",
    "model.add(Dense(64, activation='relu'))\n",
    "model.add(Dense(64, activation='relu'))\n",
    "model.add(Dense(32, activation='relu'))\n",
    "model.add(Dense(target_classes, activation='softmax'))  # target classes 10\n",
    "\n",
    "model.summary()"
   ]
  },
  {
   "cell_type": "code",
   "execution_count": 23,
   "id": "cfbc9318",
   "metadata": {
    "execution": {
     "iopub.execute_input": "2023-10-16T15:39:56.703137Z",
     "iopub.status.busy": "2023-10-16T15:39:56.702714Z",
     "iopub.status.idle": "2023-10-16T15:39:56.723651Z",
     "shell.execute_reply": "2023-10-16T15:39:56.722512Z"
    },
    "papermill": {
     "duration": 0.03664,
     "end_time": "2023-10-16T15:39:56.726168",
     "exception": false,
     "start_time": "2023-10-16T15:39:56.689528",
     "status": "completed"
    },
    "tags": []
   },
   "outputs": [],
   "source": [
    "# Compile the model\n",
    "model.compile(optimizer=\"adam\", loss='categorical_crossentropy', metrics=['accuracy'])"
   ]
  },
  {
   "cell_type": "code",
   "execution_count": 24,
   "id": "ce395382",
   "metadata": {
    "execution": {
     "iopub.execute_input": "2023-10-16T15:39:56.751983Z",
     "iopub.status.busy": "2023-10-16T15:39:56.751407Z",
     "iopub.status.idle": "2023-10-16T15:40:38.980694Z",
     "shell.execute_reply": "2023-10-16T15:40:38.979315Z"
    },
    "papermill": {
     "duration": 42.287272,
     "end_time": "2023-10-16T15:40:39.025313",
     "exception": false,
     "start_time": "2023-10-16T15:39:56.738041",
     "status": "completed"
    },
    "tags": []
   },
   "outputs": [
    {
     "name": "stdout",
     "output_type": "stream",
     "text": [
      "Epoch 1/20\n",
      "525/525 [==============================] - 3s 3ms/step - loss: 0.5063 - accuracy: 0.8555\n",
      "Epoch 2/20\n",
      "525/525 [==============================] - 1s 3ms/step - loss: 0.1597 - accuracy: 0.9541\n",
      "Epoch 3/20\n",
      "525/525 [==============================] - 1s 3ms/step - loss: 0.1119 - accuracy: 0.9683\n",
      "Epoch 4/20\n",
      "525/525 [==============================] - 1s 3ms/step - loss: 0.0787 - accuracy: 0.9784\n",
      "Epoch 5/20\n",
      "525/525 [==============================] - 1s 3ms/step - loss: 0.0603 - accuracy: 0.9832\n",
      "Epoch 6/20\n",
      "525/525 [==============================] - 1s 3ms/step - loss: 0.0509 - accuracy: 0.9855\n",
      "Epoch 7/20\n",
      "525/525 [==============================] - 1s 3ms/step - loss: 0.0412 - accuracy: 0.9883\n",
      "Epoch 8/20\n",
      "525/525 [==============================] - 1s 3ms/step - loss: 0.0410 - accuracy: 0.9885\n",
      "Epoch 9/20\n",
      "525/525 [==============================] - 1s 3ms/step - loss: 0.0284 - accuracy: 0.9917\n",
      "Epoch 10/20\n",
      "525/525 [==============================] - 1s 3ms/step - loss: 0.0349 - accuracy: 0.9910\n",
      "Epoch 11/20\n",
      "525/525 [==============================] - 1s 3ms/step - loss: 0.0253 - accuracy: 0.9933\n",
      "Epoch 12/20\n",
      "525/525 [==============================] - 1s 3ms/step - loss: 0.0276 - accuracy: 0.9936\n",
      "Epoch 13/20\n",
      "525/525 [==============================] - 1s 3ms/step - loss: 0.0237 - accuracy: 0.9943\n",
      "Epoch 14/20\n",
      "525/525 [==============================] - 1s 3ms/step - loss: 0.0244 - accuracy: 0.9930\n",
      "Epoch 15/20\n",
      "525/525 [==============================] - 1s 3ms/step - loss: 0.0197 - accuracy: 0.9953\n",
      "Epoch 16/20\n",
      "525/525 [==============================] - 1s 3ms/step - loss: 0.0188 - accuracy: 0.9951\n",
      "Epoch 17/20\n",
      "525/525 [==============================] - 2s 3ms/step - loss: 0.0175 - accuracy: 0.9948\n",
      "Epoch 18/20\n",
      "525/525 [==============================] - 1s 3ms/step - loss: 0.0246 - accuracy: 0.9944\n",
      "Epoch 19/20\n",
      "525/525 [==============================] - 1s 3ms/step - loss: 0.0189 - accuracy: 0.9949\n",
      "Epoch 20/20\n",
      "525/525 [==============================] - 2s 3ms/step - loss: 0.0116 - accuracy: 0.9969\n"
     ]
    },
    {
     "data": {
      "text/plain": [
       "<keras.callbacks.History at 0x7cdadd762ec0>"
      ]
     },
     "execution_count": 24,
     "metadata": {},
     "output_type": "execute_result"
    }
   ],
   "source": [
    "# Train the model\n",
    "model.fit(X_train, y_train, epochs=20, batch_size=64)"
   ]
  },
  {
   "cell_type": "code",
   "execution_count": 25,
   "id": "46f5c808",
   "metadata": {
    "execution": {
     "iopub.execute_input": "2023-10-16T15:40:39.114275Z",
     "iopub.status.busy": "2023-10-16T15:40:39.113866Z",
     "iopub.status.idle": "2023-10-16T15:40:42.342394Z",
     "shell.execute_reply": "2023-10-16T15:40:42.341270Z"
    },
    "papermill": {
     "duration": 3.276138,
     "end_time": "2023-10-16T15:40:42.344343",
     "exception": false,
     "start_time": "2023-10-16T15:40:39.068205",
     "status": "completed"
    },
    "tags": []
   },
   "outputs": [
    {
     "name": "stdout",
     "output_type": "stream",
     "text": [
      "657/657 [==============================] - 2s 3ms/step - loss: 0.0685 - accuracy: 0.9842\n"
     ]
    },
    {
     "data": {
      "text/plain": [
       "<keras.callbacks.History at 0x7cdadbb07c70>"
      ]
     },
     "execution_count": 25,
     "metadata": {},
     "output_type": "execute_result"
    }
   ],
   "source": [
    "model.fit(train_pca, cat_target, epochs=1, batch_size=64)"
   ]
  },
  {
   "cell_type": "code",
   "execution_count": 26,
   "id": "0b7a98c8",
   "metadata": {
    "execution": {
     "iopub.execute_input": "2023-10-16T15:40:42.434676Z",
     "iopub.status.busy": "2023-10-16T15:40:42.433942Z",
     "iopub.status.idle": "2023-10-16T15:40:44.126611Z",
     "shell.execute_reply": "2023-10-16T15:40:44.125528Z"
    },
    "papermill": {
     "duration": 1.740749,
     "end_time": "2023-10-16T15:40:44.129445",
     "exception": false,
     "start_time": "2023-10-16T15:40:42.388696",
     "status": "completed"
    },
    "tags": []
   },
   "outputs": [],
   "source": [
    "predictions = model.predict(test_pca, verbose=0)"
   ]
  },
  {
   "cell_type": "code",
   "execution_count": 27,
   "id": "b8f64746",
   "metadata": {
    "execution": {
     "iopub.execute_input": "2023-10-16T15:40:44.222250Z",
     "iopub.status.busy": "2023-10-16T15:40:44.221836Z",
     "iopub.status.idle": "2023-10-16T15:40:44.229413Z",
     "shell.execute_reply": "2023-10-16T15:40:44.227988Z"
    },
    "papermill": {
     "duration": 0.056778,
     "end_time": "2023-10-16T15:40:44.231967",
     "exception": false,
     "start_time": "2023-10-16T15:40:44.175189",
     "status": "completed"
    },
    "tags": []
   },
   "outputs": [
    {
     "name": "stdout",
     "output_type": "stream",
     "text": [
      "(28000, 10)\n"
     ]
    },
    {
     "data": {
      "text/plain": [
       "array([7.1862161e-13, 3.7824850e-07, 9.9999958e-01, 3.3244166e-10,\n",
       "       2.1479092e-16, 6.2197534e-14, 1.5659016e-10, 2.1287399e-09,\n",
       "       7.4876866e-14, 5.2293740e-17], dtype=float32)"
      ]
     },
     "execution_count": 27,
     "metadata": {},
     "output_type": "execute_result"
    }
   ],
   "source": [
    "print(predictions.shape)\n",
    "type(predictions)\n",
    "predictions[0]"
   ]
  },
  {
   "cell_type": "code",
   "execution_count": 28,
   "id": "e9a1a6ef",
   "metadata": {
    "execution": {
     "iopub.execute_input": "2023-10-16T15:40:44.322711Z",
     "iopub.status.busy": "2023-10-16T15:40:44.322372Z",
     "iopub.status.idle": "2023-10-16T15:40:44.395175Z",
     "shell.execute_reply": "2023-10-16T15:40:44.394060Z"
    },
    "papermill": {
     "duration": 0.120411,
     "end_time": "2023-10-16T15:40:44.397365",
     "exception": false,
     "start_time": "2023-10-16T15:40:44.276954",
     "status": "completed"
    },
    "tags": []
   },
   "outputs": [
    {
     "data": {
      "text/plain": [
       "[2, 0, 8, 9, 3]"
      ]
     },
     "execution_count": 28,
     "metadata": {},
     "output_type": "execute_result"
    }
   ],
   "source": [
    "predicted_labels= []\n",
    "for n in range(len(predictions)):\n",
    "    predicted_labels.append(np.argmax(predictions[n]))\n",
    "# predicted_labels= print(predictions.shape)\n",
    "predicted_labels[0:5]"
   ]
  },
  {
   "cell_type": "code",
   "execution_count": 29,
   "id": "2418b7d9",
   "metadata": {
    "execution": {
     "iopub.execute_input": "2023-10-16T15:40:44.488307Z",
     "iopub.status.busy": "2023-10-16T15:40:44.487955Z",
     "iopub.status.idle": "2023-10-16T15:40:44.583408Z",
     "shell.execute_reply": "2023-10-16T15:40:44.582440Z"
    },
    "papermill": {
     "duration": 0.144002,
     "end_time": "2023-10-16T15:40:44.585712",
     "exception": false,
     "start_time": "2023-10-16T15:40:44.441710",
     "status": "completed"
    },
    "tags": []
   },
   "outputs": [
    {
     "data": {
      "text/html": [
       "<div>\n",
       "<style scoped>\n",
       "    .dataframe tbody tr th:only-of-type {\n",
       "        vertical-align: middle;\n",
       "    }\n",
       "\n",
       "    .dataframe tbody tr th {\n",
       "        vertical-align: top;\n",
       "    }\n",
       "\n",
       "    .dataframe thead th {\n",
       "        text-align: right;\n",
       "    }\n",
       "</style>\n",
       "<table border=\"1\" class=\"dataframe\">\n",
       "  <thead>\n",
       "    <tr style=\"text-align: right;\">\n",
       "      <th></th>\n",
       "      <th>ImageId</th>\n",
       "      <th>Label</th>\n",
       "    </tr>\n",
       "  </thead>\n",
       "  <tbody>\n",
       "    <tr>\n",
       "      <th>0</th>\n",
       "      <td>1</td>\n",
       "      <td>2</td>\n",
       "    </tr>\n",
       "    <tr>\n",
       "      <th>1</th>\n",
       "      <td>2</td>\n",
       "      <td>0</td>\n",
       "    </tr>\n",
       "    <tr>\n",
       "      <th>2</th>\n",
       "      <td>3</td>\n",
       "      <td>8</td>\n",
       "    </tr>\n",
       "    <tr>\n",
       "      <th>3</th>\n",
       "      <td>4</td>\n",
       "      <td>9</td>\n",
       "    </tr>\n",
       "    <tr>\n",
       "      <th>4</th>\n",
       "      <td>5</td>\n",
       "      <td>3</td>\n",
       "    </tr>\n",
       "  </tbody>\n",
       "</table>\n",
       "</div>"
      ],
      "text/plain": [
       "   ImageId  Label\n",
       "0        1      2\n",
       "1        2      0\n",
       "2        3      8\n",
       "3        4      9\n",
       "4        5      3"
      ]
     },
     "execution_count": 29,
     "metadata": {},
     "output_type": "execute_result"
    }
   ],
   "source": [
    "submission=pd.DataFrame({\"ImageId\": list(range(1,len(predicted_labels)+1)),\n",
    "                         \"Label\": predicted_labels})\n",
    "\n",
    "submission.head()"
   ]
  },
  {
   "cell_type": "code",
   "execution_count": null,
   "id": "2aa01dd4",
   "metadata": {
    "papermill": {
     "duration": 0.045625,
     "end_time": "2023-10-16T15:40:44.677870",
     "exception": false,
     "start_time": "2023-10-16T15:40:44.632245",
     "status": "completed"
    },
    "tags": []
   },
   "outputs": [],
   "source": []
  }
 ],
 "metadata": {
  "kernelspec": {
   "display_name": "Python 3",
   "language": "python",
   "name": "python3"
  },
  "language_info": {
   "codemirror_mode": {
    "name": "ipython",
    "version": 3
   },
   "file_extension": ".py",
   "mimetype": "text/x-python",
   "name": "python",
   "nbconvert_exporter": "python",
   "pygments_lexer": "ipython3",
   "version": "3.10.12"
  },
  "papermill": {
   "default_parameters": {},
   "duration": 83.39208,
   "end_time": "2023-10-16T15:40:46.551291",
   "environment_variables": {},
   "exception": null,
   "input_path": "__notebook__.ipynb",
   "output_path": "__notebook__.ipynb",
   "parameters": {},
   "start_time": "2023-10-16T15:39:23.159211",
   "version": "2.4.0"
  }
 },
 "nbformat": 4,
 "nbformat_minor": 5
}
