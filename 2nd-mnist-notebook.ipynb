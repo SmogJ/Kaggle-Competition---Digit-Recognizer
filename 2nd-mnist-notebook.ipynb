{
 "cells": [
  {
   "cell_type": "code",
   "execution_count": 1,
   "id": "33fd15e2",
   "metadata": {
    "execution": {
     "iopub.execute_input": "2023-10-14T18:51:59.679378Z",
     "iopub.status.busy": "2023-10-14T18:51:59.678743Z",
     "iopub.status.idle": "2023-10-14T18:52:10.923204Z",
     "shell.execute_reply": "2023-10-14T18:52:10.922301Z"
    },
    "papermill": {
     "duration": 11.254401,
     "end_time": "2023-10-14T18:52:10.925525",
     "exception": false,
     "start_time": "2023-10-14T18:51:59.671124",
     "status": "completed"
    },
    "tags": []
   },
   "outputs": [],
   "source": [
    "import numpy as np \n",
    "import pandas as pd\n",
    "import seaborn as sns\n",
    "\n",
    "\n",
    "import matplotlib.pyplot as plt\n",
    "%matplotlib inline\n",
    "\n",
    "from sklearn.preprocessing import StandardScaler\n",
    "from sklearn.datasets import fetch_openml\n",
    "from skimage.feature import hog\n",
    "from skimage import exposure\n",
    "from sklearn.decomposition import PCA\n",
    "from sklearn.model_selection import train_test_split\n",
    "\n",
    "from keras.utils import to_categorical\n",
    "from keras.models import Sequential\n",
    "from keras.layers import Dense, Activation, Dropout, Flatten\n",
    "from keras.optimizers import RMSprop"
   ]
  },
  {
   "cell_type": "markdown",
   "id": "c12f8b26",
   "metadata": {
    "papermill": {
     "duration": 0.00498,
     "end_time": "2023-10-14T18:52:10.935931",
     "exception": false,
     "start_time": "2023-10-14T18:52:10.930951",
     "status": "completed"
    },
    "tags": []
   },
   "source": [
    "# Load Data"
   ]
  },
  {
   "cell_type": "code",
   "execution_count": 2,
   "id": "0e93f188",
   "metadata": {
    "execution": {
     "iopub.execute_input": "2023-10-14T18:52:10.948352Z",
     "iopub.status.busy": "2023-10-14T18:52:10.947638Z",
     "iopub.status.idle": "2023-10-14T18:52:16.148650Z",
     "shell.execute_reply": "2023-10-14T18:52:16.147416Z"
    },
    "papermill": {
     "duration": 5.210399,
     "end_time": "2023-10-14T18:52:16.151460",
     "exception": false,
     "start_time": "2023-10-14T18:52:10.941061",
     "status": "completed"
    },
    "tags": []
   },
   "outputs": [],
   "source": [
    "# Import data into a dataframe\n",
    "train= pd.read_csv(\"/kaggle/input/digit-recognizer/train.csv\")\n",
    "test= pd.read_csv(\"/kaggle/input/digit-recognizer/test.csv\")"
   ]
  },
  {
   "cell_type": "code",
   "execution_count": 3,
   "id": "5b4ca295",
   "metadata": {
    "execution": {
     "iopub.execute_input": "2023-10-14T18:52:16.166170Z",
     "iopub.status.busy": "2023-10-14T18:52:16.165769Z",
     "iopub.status.idle": "2023-10-14T18:52:16.234642Z",
     "shell.execute_reply": "2023-10-14T18:52:16.233449Z"
    },
    "papermill": {
     "duration": 0.078695,
     "end_time": "2023-10-14T18:52:16.237730",
     "exception": false,
     "start_time": "2023-10-14T18:52:16.159035",
     "status": "completed"
    },
    "tags": []
   },
   "outputs": [
    {
     "name": "stdout",
     "output_type": "stream",
     "text": [
      "<class 'pandas.core.frame.DataFrame'>\n",
      "RangeIndex: 42000 entries, 0 to 41999\n",
      "Columns: 785 entries, label to pixel783\n",
      "dtypes: int64(785)\n",
      "memory usage: 251.5 MB\n",
      "Train Data Info: None\n",
      "\n"
     ]
    },
    {
     "data": {
      "text/html": [
       "<div>\n",
       "<style scoped>\n",
       "    .dataframe tbody tr th:only-of-type {\n",
       "        vertical-align: middle;\n",
       "    }\n",
       "\n",
       "    .dataframe tbody tr th {\n",
       "        vertical-align: top;\n",
       "    }\n",
       "\n",
       "    .dataframe thead th {\n",
       "        text-align: right;\n",
       "    }\n",
       "</style>\n",
       "<table border=\"1\" class=\"dataframe\">\n",
       "  <thead>\n",
       "    <tr style=\"text-align: right;\">\n",
       "      <th></th>\n",
       "      <th>label</th>\n",
       "      <th>pixel0</th>\n",
       "      <th>pixel1</th>\n",
       "      <th>pixel2</th>\n",
       "      <th>pixel3</th>\n",
       "      <th>pixel4</th>\n",
       "      <th>pixel5</th>\n",
       "      <th>pixel6</th>\n",
       "      <th>pixel7</th>\n",
       "      <th>pixel8</th>\n",
       "      <th>...</th>\n",
       "      <th>pixel774</th>\n",
       "      <th>pixel775</th>\n",
       "      <th>pixel776</th>\n",
       "      <th>pixel777</th>\n",
       "      <th>pixel778</th>\n",
       "      <th>pixel779</th>\n",
       "      <th>pixel780</th>\n",
       "      <th>pixel781</th>\n",
       "      <th>pixel782</th>\n",
       "      <th>pixel783</th>\n",
       "    </tr>\n",
       "  </thead>\n",
       "  <tbody>\n",
       "    <tr>\n",
       "      <th>0</th>\n",
       "      <td>1</td>\n",
       "      <td>0</td>\n",
       "      <td>0</td>\n",
       "      <td>0</td>\n",
       "      <td>0</td>\n",
       "      <td>0</td>\n",
       "      <td>0</td>\n",
       "      <td>0</td>\n",
       "      <td>0</td>\n",
       "      <td>0</td>\n",
       "      <td>...</td>\n",
       "      <td>0</td>\n",
       "      <td>0</td>\n",
       "      <td>0</td>\n",
       "      <td>0</td>\n",
       "      <td>0</td>\n",
       "      <td>0</td>\n",
       "      <td>0</td>\n",
       "      <td>0</td>\n",
       "      <td>0</td>\n",
       "      <td>0</td>\n",
       "    </tr>\n",
       "    <tr>\n",
       "      <th>1</th>\n",
       "      <td>0</td>\n",
       "      <td>0</td>\n",
       "      <td>0</td>\n",
       "      <td>0</td>\n",
       "      <td>0</td>\n",
       "      <td>0</td>\n",
       "      <td>0</td>\n",
       "      <td>0</td>\n",
       "      <td>0</td>\n",
       "      <td>0</td>\n",
       "      <td>...</td>\n",
       "      <td>0</td>\n",
       "      <td>0</td>\n",
       "      <td>0</td>\n",
       "      <td>0</td>\n",
       "      <td>0</td>\n",
       "      <td>0</td>\n",
       "      <td>0</td>\n",
       "      <td>0</td>\n",
       "      <td>0</td>\n",
       "      <td>0</td>\n",
       "    </tr>\n",
       "    <tr>\n",
       "      <th>2</th>\n",
       "      <td>1</td>\n",
       "      <td>0</td>\n",
       "      <td>0</td>\n",
       "      <td>0</td>\n",
       "      <td>0</td>\n",
       "      <td>0</td>\n",
       "      <td>0</td>\n",
       "      <td>0</td>\n",
       "      <td>0</td>\n",
       "      <td>0</td>\n",
       "      <td>...</td>\n",
       "      <td>0</td>\n",
       "      <td>0</td>\n",
       "      <td>0</td>\n",
       "      <td>0</td>\n",
       "      <td>0</td>\n",
       "      <td>0</td>\n",
       "      <td>0</td>\n",
       "      <td>0</td>\n",
       "      <td>0</td>\n",
       "      <td>0</td>\n",
       "    </tr>\n",
       "    <tr>\n",
       "      <th>3</th>\n",
       "      <td>4</td>\n",
       "      <td>0</td>\n",
       "      <td>0</td>\n",
       "      <td>0</td>\n",
       "      <td>0</td>\n",
       "      <td>0</td>\n",
       "      <td>0</td>\n",
       "      <td>0</td>\n",
       "      <td>0</td>\n",
       "      <td>0</td>\n",
       "      <td>...</td>\n",
       "      <td>0</td>\n",
       "      <td>0</td>\n",
       "      <td>0</td>\n",
       "      <td>0</td>\n",
       "      <td>0</td>\n",
       "      <td>0</td>\n",
       "      <td>0</td>\n",
       "      <td>0</td>\n",
       "      <td>0</td>\n",
       "      <td>0</td>\n",
       "    </tr>\n",
       "    <tr>\n",
       "      <th>4</th>\n",
       "      <td>0</td>\n",
       "      <td>0</td>\n",
       "      <td>0</td>\n",
       "      <td>0</td>\n",
       "      <td>0</td>\n",
       "      <td>0</td>\n",
       "      <td>0</td>\n",
       "      <td>0</td>\n",
       "      <td>0</td>\n",
       "      <td>0</td>\n",
       "      <td>...</td>\n",
       "      <td>0</td>\n",
       "      <td>0</td>\n",
       "      <td>0</td>\n",
       "      <td>0</td>\n",
       "      <td>0</td>\n",
       "      <td>0</td>\n",
       "      <td>0</td>\n",
       "      <td>0</td>\n",
       "      <td>0</td>\n",
       "      <td>0</td>\n",
       "    </tr>\n",
       "  </tbody>\n",
       "</table>\n",
       "<p>5 rows × 785 columns</p>\n",
       "</div>"
      ],
      "text/plain": [
       "   label  pixel0  pixel1  pixel2  pixel3  pixel4  pixel5  pixel6  pixel7  \\\n",
       "0      1       0       0       0       0       0       0       0       0   \n",
       "1      0       0       0       0       0       0       0       0       0   \n",
       "2      1       0       0       0       0       0       0       0       0   \n",
       "3      4       0       0       0       0       0       0       0       0   \n",
       "4      0       0       0       0       0       0       0       0       0   \n",
       "\n",
       "   pixel8  ...  pixel774  pixel775  pixel776  pixel777  pixel778  pixel779  \\\n",
       "0       0  ...         0         0         0         0         0         0   \n",
       "1       0  ...         0         0         0         0         0         0   \n",
       "2       0  ...         0         0         0         0         0         0   \n",
       "3       0  ...         0         0         0         0         0         0   \n",
       "4       0  ...         0         0         0         0         0         0   \n",
       "\n",
       "   pixel780  pixel781  pixel782  pixel783  \n",
       "0         0         0         0         0  \n",
       "1         0         0         0         0  \n",
       "2         0         0         0         0  \n",
       "3         0         0         0         0  \n",
       "4         0         0         0         0  \n",
       "\n",
       "[5 rows x 785 columns]"
      ]
     },
     "execution_count": 3,
     "metadata": {},
     "output_type": "execute_result"
    }
   ],
   "source": [
    "print(f\"Train Data Info: {train.info()}\\n\")\n",
    "train.head()"
   ]
  },
  {
   "cell_type": "code",
   "execution_count": 4,
   "id": "eb6237fc",
   "metadata": {
    "execution": {
     "iopub.execute_input": "2023-10-14T18:52:16.254160Z",
     "iopub.status.busy": "2023-10-14T18:52:16.253303Z",
     "iopub.status.idle": "2023-10-14T18:52:16.298826Z",
     "shell.execute_reply": "2023-10-14T18:52:16.297667Z"
    },
    "papermill": {
     "duration": 0.054877,
     "end_time": "2023-10-14T18:52:16.301142",
     "exception": false,
     "start_time": "2023-10-14T18:52:16.246265",
     "status": "completed"
    },
    "tags": []
   },
   "outputs": [
    {
     "name": "stdout",
     "output_type": "stream",
     "text": [
      "<class 'pandas.core.frame.DataFrame'>\n",
      "RangeIndex: 28000 entries, 0 to 27999\n",
      "Columns: 784 entries, pixel0 to pixel783\n",
      "dtypes: int64(784)\n",
      "memory usage: 167.5 MB\n",
      "Test Data Info: None\n",
      "\n"
     ]
    },
    {
     "data": {
      "text/html": [
       "<div>\n",
       "<style scoped>\n",
       "    .dataframe tbody tr th:only-of-type {\n",
       "        vertical-align: middle;\n",
       "    }\n",
       "\n",
       "    .dataframe tbody tr th {\n",
       "        vertical-align: top;\n",
       "    }\n",
       "\n",
       "    .dataframe thead th {\n",
       "        text-align: right;\n",
       "    }\n",
       "</style>\n",
       "<table border=\"1\" class=\"dataframe\">\n",
       "  <thead>\n",
       "    <tr style=\"text-align: right;\">\n",
       "      <th></th>\n",
       "      <th>pixel0</th>\n",
       "      <th>pixel1</th>\n",
       "      <th>pixel2</th>\n",
       "      <th>pixel3</th>\n",
       "      <th>pixel4</th>\n",
       "      <th>pixel5</th>\n",
       "      <th>pixel6</th>\n",
       "      <th>pixel7</th>\n",
       "      <th>pixel8</th>\n",
       "      <th>pixel9</th>\n",
       "      <th>...</th>\n",
       "      <th>pixel774</th>\n",
       "      <th>pixel775</th>\n",
       "      <th>pixel776</th>\n",
       "      <th>pixel777</th>\n",
       "      <th>pixel778</th>\n",
       "      <th>pixel779</th>\n",
       "      <th>pixel780</th>\n",
       "      <th>pixel781</th>\n",
       "      <th>pixel782</th>\n",
       "      <th>pixel783</th>\n",
       "    </tr>\n",
       "  </thead>\n",
       "  <tbody>\n",
       "    <tr>\n",
       "      <th>0</th>\n",
       "      <td>0</td>\n",
       "      <td>0</td>\n",
       "      <td>0</td>\n",
       "      <td>0</td>\n",
       "      <td>0</td>\n",
       "      <td>0</td>\n",
       "      <td>0</td>\n",
       "      <td>0</td>\n",
       "      <td>0</td>\n",
       "      <td>0</td>\n",
       "      <td>...</td>\n",
       "      <td>0</td>\n",
       "      <td>0</td>\n",
       "      <td>0</td>\n",
       "      <td>0</td>\n",
       "      <td>0</td>\n",
       "      <td>0</td>\n",
       "      <td>0</td>\n",
       "      <td>0</td>\n",
       "      <td>0</td>\n",
       "      <td>0</td>\n",
       "    </tr>\n",
       "    <tr>\n",
       "      <th>1</th>\n",
       "      <td>0</td>\n",
       "      <td>0</td>\n",
       "      <td>0</td>\n",
       "      <td>0</td>\n",
       "      <td>0</td>\n",
       "      <td>0</td>\n",
       "      <td>0</td>\n",
       "      <td>0</td>\n",
       "      <td>0</td>\n",
       "      <td>0</td>\n",
       "      <td>...</td>\n",
       "      <td>0</td>\n",
       "      <td>0</td>\n",
       "      <td>0</td>\n",
       "      <td>0</td>\n",
       "      <td>0</td>\n",
       "      <td>0</td>\n",
       "      <td>0</td>\n",
       "      <td>0</td>\n",
       "      <td>0</td>\n",
       "      <td>0</td>\n",
       "    </tr>\n",
       "    <tr>\n",
       "      <th>2</th>\n",
       "      <td>0</td>\n",
       "      <td>0</td>\n",
       "      <td>0</td>\n",
       "      <td>0</td>\n",
       "      <td>0</td>\n",
       "      <td>0</td>\n",
       "      <td>0</td>\n",
       "      <td>0</td>\n",
       "      <td>0</td>\n",
       "      <td>0</td>\n",
       "      <td>...</td>\n",
       "      <td>0</td>\n",
       "      <td>0</td>\n",
       "      <td>0</td>\n",
       "      <td>0</td>\n",
       "      <td>0</td>\n",
       "      <td>0</td>\n",
       "      <td>0</td>\n",
       "      <td>0</td>\n",
       "      <td>0</td>\n",
       "      <td>0</td>\n",
       "    </tr>\n",
       "    <tr>\n",
       "      <th>3</th>\n",
       "      <td>0</td>\n",
       "      <td>0</td>\n",
       "      <td>0</td>\n",
       "      <td>0</td>\n",
       "      <td>0</td>\n",
       "      <td>0</td>\n",
       "      <td>0</td>\n",
       "      <td>0</td>\n",
       "      <td>0</td>\n",
       "      <td>0</td>\n",
       "      <td>...</td>\n",
       "      <td>0</td>\n",
       "      <td>0</td>\n",
       "      <td>0</td>\n",
       "      <td>0</td>\n",
       "      <td>0</td>\n",
       "      <td>0</td>\n",
       "      <td>0</td>\n",
       "      <td>0</td>\n",
       "      <td>0</td>\n",
       "      <td>0</td>\n",
       "    </tr>\n",
       "    <tr>\n",
       "      <th>4</th>\n",
       "      <td>0</td>\n",
       "      <td>0</td>\n",
       "      <td>0</td>\n",
       "      <td>0</td>\n",
       "      <td>0</td>\n",
       "      <td>0</td>\n",
       "      <td>0</td>\n",
       "      <td>0</td>\n",
       "      <td>0</td>\n",
       "      <td>0</td>\n",
       "      <td>...</td>\n",
       "      <td>0</td>\n",
       "      <td>0</td>\n",
       "      <td>0</td>\n",
       "      <td>0</td>\n",
       "      <td>0</td>\n",
       "      <td>0</td>\n",
       "      <td>0</td>\n",
       "      <td>0</td>\n",
       "      <td>0</td>\n",
       "      <td>0</td>\n",
       "    </tr>\n",
       "  </tbody>\n",
       "</table>\n",
       "<p>5 rows × 784 columns</p>\n",
       "</div>"
      ],
      "text/plain": [
       "   pixel0  pixel1  pixel2  pixel3  pixel4  pixel5  pixel6  pixel7  pixel8  \\\n",
       "0       0       0       0       0       0       0       0       0       0   \n",
       "1       0       0       0       0       0       0       0       0       0   \n",
       "2       0       0       0       0       0       0       0       0       0   \n",
       "3       0       0       0       0       0       0       0       0       0   \n",
       "4       0       0       0       0       0       0       0       0       0   \n",
       "\n",
       "   pixel9  ...  pixel774  pixel775  pixel776  pixel777  pixel778  pixel779  \\\n",
       "0       0  ...         0         0         0         0         0         0   \n",
       "1       0  ...         0         0         0         0         0         0   \n",
       "2       0  ...         0         0         0         0         0         0   \n",
       "3       0  ...         0         0         0         0         0         0   \n",
       "4       0  ...         0         0         0         0         0         0   \n",
       "\n",
       "   pixel780  pixel781  pixel782  pixel783  \n",
       "0         0         0         0         0  \n",
       "1         0         0         0         0  \n",
       "2         0         0         0         0  \n",
       "3         0         0         0         0  \n",
       "4         0         0         0         0  \n",
       "\n",
       "[5 rows x 784 columns]"
      ]
     },
     "execution_count": 4,
     "metadata": {},
     "output_type": "execute_result"
    }
   ],
   "source": [
    "print(f\"Test Data Info: {test.info()}\\n\")\n",
    "test.head()"
   ]
  },
  {
   "cell_type": "markdown",
   "id": "f0cb804d",
   "metadata": {
    "papermill": {
     "duration": 0.005794,
     "end_time": "2023-10-14T18:52:16.313208",
     "exception": false,
     "start_time": "2023-10-14T18:52:16.307414",
     "status": "completed"
    },
    "tags": []
   },
   "source": [
    "Train dataset contains the target and features columns, it has a shape of 785 columns and 42000 rows/observations,while the test dataset contains just the features columns, and is a shape of 784 columns and 28000 rows/observations."
   ]
  },
  {
   "cell_type": "markdown",
   "id": "a8f34c72",
   "metadata": {
    "papermill": {
     "duration": 0.005588,
     "end_time": "2023-10-14T18:52:16.324749",
     "exception": false,
     "start_time": "2023-10-14T18:52:16.319161",
     "status": "completed"
    },
    "tags": []
   },
   "source": [
    "# Split Training Dataset to Targets and Features"
   ]
  },
  {
   "cell_type": "code",
   "execution_count": 5,
   "id": "c619f72b",
   "metadata": {
    "execution": {
     "iopub.execute_input": "2023-10-14T18:52:16.338428Z",
     "iopub.status.busy": "2023-10-14T18:52:16.338030Z",
     "iopub.status.idle": "2023-10-14T18:52:16.476640Z",
     "shell.execute_reply": "2023-10-14T18:52:16.475623Z"
    },
    "papermill": {
     "duration": 0.147984,
     "end_time": "2023-10-14T18:52:16.478726",
     "exception": false,
     "start_time": "2023-10-14T18:52:16.330742",
     "status": "completed"
    },
    "tags": []
   },
   "outputs": [],
   "source": [
    "target= train[\"label\"]\n",
    "features= train.drop(\"label\", axis=1)"
   ]
  },
  {
   "cell_type": "code",
   "execution_count": 6,
   "id": "e1be4815",
   "metadata": {
    "execution": {
     "iopub.execute_input": "2023-10-14T18:52:16.492156Z",
     "iopub.status.busy": "2023-10-14T18:52:16.491795Z",
     "iopub.status.idle": "2023-10-14T18:52:16.496675Z",
     "shell.execute_reply": "2023-10-14T18:52:16.495891Z"
    },
    "papermill": {
     "duration": 0.014343,
     "end_time": "2023-10-14T18:52:16.498977",
     "exception": false,
     "start_time": "2023-10-14T18:52:16.484634",
     "status": "completed"
    },
    "tags": []
   },
   "outputs": [
    {
     "name": "stdout",
     "output_type": "stream",
     "text": [
      "Target type: <class 'pandas.core.series.Series'>\n",
      "\n",
      "Features type: <class 'pandas.core.frame.DataFrame'>\n"
     ]
    }
   ],
   "source": [
    "print(f\"Target type: {type(target)}\\n\")\n",
    "print(f\"Features type: {type(features)}\")"
   ]
  },
  {
   "cell_type": "code",
   "execution_count": 7,
   "id": "be2d94e5",
   "metadata": {
    "execution": {
     "iopub.execute_input": "2023-10-14T18:52:16.513481Z",
     "iopub.status.busy": "2023-10-14T18:52:16.513094Z",
     "iopub.status.idle": "2023-10-14T18:52:16.530586Z",
     "shell.execute_reply": "2023-10-14T18:52:16.529076Z"
    },
    "papermill": {
     "duration": 0.027237,
     "end_time": "2023-10-14T18:52:16.532896",
     "exception": false,
     "start_time": "2023-10-14T18:52:16.505659",
     "status": "completed"
    },
    "tags": []
   },
   "outputs": [
    {
     "name": "stdout",
     "output_type": "stream",
     "text": [
      "0    1\n",
      "1    0\n",
      "2    1\n",
      "3    4\n",
      "4    0\n",
      "Name: label, dtype: int64\n"
     ]
    },
    {
     "data": {
      "text/html": [
       "<div>\n",
       "<style scoped>\n",
       "    .dataframe tbody tr th:only-of-type {\n",
       "        vertical-align: middle;\n",
       "    }\n",
       "\n",
       "    .dataframe tbody tr th {\n",
       "        vertical-align: top;\n",
       "    }\n",
       "\n",
       "    .dataframe thead th {\n",
       "        text-align: right;\n",
       "    }\n",
       "</style>\n",
       "<table border=\"1\" class=\"dataframe\">\n",
       "  <thead>\n",
       "    <tr style=\"text-align: right;\">\n",
       "      <th></th>\n",
       "      <th>pixel0</th>\n",
       "      <th>pixel1</th>\n",
       "      <th>pixel2</th>\n",
       "      <th>pixel3</th>\n",
       "      <th>pixel4</th>\n",
       "      <th>pixel5</th>\n",
       "      <th>pixel6</th>\n",
       "      <th>pixel7</th>\n",
       "      <th>pixel8</th>\n",
       "      <th>pixel9</th>\n",
       "      <th>...</th>\n",
       "      <th>pixel774</th>\n",
       "      <th>pixel775</th>\n",
       "      <th>pixel776</th>\n",
       "      <th>pixel777</th>\n",
       "      <th>pixel778</th>\n",
       "      <th>pixel779</th>\n",
       "      <th>pixel780</th>\n",
       "      <th>pixel781</th>\n",
       "      <th>pixel782</th>\n",
       "      <th>pixel783</th>\n",
       "    </tr>\n",
       "  </thead>\n",
       "  <tbody>\n",
       "    <tr>\n",
       "      <th>0</th>\n",
       "      <td>0</td>\n",
       "      <td>0</td>\n",
       "      <td>0</td>\n",
       "      <td>0</td>\n",
       "      <td>0</td>\n",
       "      <td>0</td>\n",
       "      <td>0</td>\n",
       "      <td>0</td>\n",
       "      <td>0</td>\n",
       "      <td>0</td>\n",
       "      <td>...</td>\n",
       "      <td>0</td>\n",
       "      <td>0</td>\n",
       "      <td>0</td>\n",
       "      <td>0</td>\n",
       "      <td>0</td>\n",
       "      <td>0</td>\n",
       "      <td>0</td>\n",
       "      <td>0</td>\n",
       "      <td>0</td>\n",
       "      <td>0</td>\n",
       "    </tr>\n",
       "    <tr>\n",
       "      <th>1</th>\n",
       "      <td>0</td>\n",
       "      <td>0</td>\n",
       "      <td>0</td>\n",
       "      <td>0</td>\n",
       "      <td>0</td>\n",
       "      <td>0</td>\n",
       "      <td>0</td>\n",
       "      <td>0</td>\n",
       "      <td>0</td>\n",
       "      <td>0</td>\n",
       "      <td>...</td>\n",
       "      <td>0</td>\n",
       "      <td>0</td>\n",
       "      <td>0</td>\n",
       "      <td>0</td>\n",
       "      <td>0</td>\n",
       "      <td>0</td>\n",
       "      <td>0</td>\n",
       "      <td>0</td>\n",
       "      <td>0</td>\n",
       "      <td>0</td>\n",
       "    </tr>\n",
       "    <tr>\n",
       "      <th>2</th>\n",
       "      <td>0</td>\n",
       "      <td>0</td>\n",
       "      <td>0</td>\n",
       "      <td>0</td>\n",
       "      <td>0</td>\n",
       "      <td>0</td>\n",
       "      <td>0</td>\n",
       "      <td>0</td>\n",
       "      <td>0</td>\n",
       "      <td>0</td>\n",
       "      <td>...</td>\n",
       "      <td>0</td>\n",
       "      <td>0</td>\n",
       "      <td>0</td>\n",
       "      <td>0</td>\n",
       "      <td>0</td>\n",
       "      <td>0</td>\n",
       "      <td>0</td>\n",
       "      <td>0</td>\n",
       "      <td>0</td>\n",
       "      <td>0</td>\n",
       "    </tr>\n",
       "    <tr>\n",
       "      <th>3</th>\n",
       "      <td>0</td>\n",
       "      <td>0</td>\n",
       "      <td>0</td>\n",
       "      <td>0</td>\n",
       "      <td>0</td>\n",
       "      <td>0</td>\n",
       "      <td>0</td>\n",
       "      <td>0</td>\n",
       "      <td>0</td>\n",
       "      <td>0</td>\n",
       "      <td>...</td>\n",
       "      <td>0</td>\n",
       "      <td>0</td>\n",
       "      <td>0</td>\n",
       "      <td>0</td>\n",
       "      <td>0</td>\n",
       "      <td>0</td>\n",
       "      <td>0</td>\n",
       "      <td>0</td>\n",
       "      <td>0</td>\n",
       "      <td>0</td>\n",
       "    </tr>\n",
       "    <tr>\n",
       "      <th>4</th>\n",
       "      <td>0</td>\n",
       "      <td>0</td>\n",
       "      <td>0</td>\n",
       "      <td>0</td>\n",
       "      <td>0</td>\n",
       "      <td>0</td>\n",
       "      <td>0</td>\n",
       "      <td>0</td>\n",
       "      <td>0</td>\n",
       "      <td>0</td>\n",
       "      <td>...</td>\n",
       "      <td>0</td>\n",
       "      <td>0</td>\n",
       "      <td>0</td>\n",
       "      <td>0</td>\n",
       "      <td>0</td>\n",
       "      <td>0</td>\n",
       "      <td>0</td>\n",
       "      <td>0</td>\n",
       "      <td>0</td>\n",
       "      <td>0</td>\n",
       "    </tr>\n",
       "  </tbody>\n",
       "</table>\n",
       "<p>5 rows × 784 columns</p>\n",
       "</div>"
      ],
      "text/plain": [
       "   pixel0  pixel1  pixel2  pixel3  pixel4  pixel5  pixel6  pixel7  pixel8  \\\n",
       "0       0       0       0       0       0       0       0       0       0   \n",
       "1       0       0       0       0       0       0       0       0       0   \n",
       "2       0       0       0       0       0       0       0       0       0   \n",
       "3       0       0       0       0       0       0       0       0       0   \n",
       "4       0       0       0       0       0       0       0       0       0   \n",
       "\n",
       "   pixel9  ...  pixel774  pixel775  pixel776  pixel777  pixel778  pixel779  \\\n",
       "0       0  ...         0         0         0         0         0         0   \n",
       "1       0  ...         0         0         0         0         0         0   \n",
       "2       0  ...         0         0         0         0         0         0   \n",
       "3       0  ...         0         0         0         0         0         0   \n",
       "4       0  ...         0         0         0         0         0         0   \n",
       "\n",
       "   pixel780  pixel781  pixel782  pixel783  \n",
       "0         0         0         0         0  \n",
       "1         0         0         0         0  \n",
       "2         0         0         0         0  \n",
       "3         0         0         0         0  \n",
       "4         0         0         0         0  \n",
       "\n",
       "[5 rows x 784 columns]"
      ]
     },
     "execution_count": 7,
     "metadata": {},
     "output_type": "execute_result"
    }
   ],
   "source": [
    "print(target.head())\n",
    "features.head()"
   ]
  },
  {
   "cell_type": "code",
   "execution_count": 8,
   "id": "29e71e7e",
   "metadata": {
    "execution": {
     "iopub.execute_input": "2023-10-14T18:52:16.547632Z",
     "iopub.status.busy": "2023-10-14T18:52:16.546945Z",
     "iopub.status.idle": "2023-10-14T18:52:17.142831Z",
     "shell.execute_reply": "2023-10-14T18:52:17.141780Z"
    },
    "papermill": {
     "duration": 0.605663,
     "end_time": "2023-10-14T18:52:17.145071",
     "exception": false,
     "start_time": "2023-10-14T18:52:16.539408",
     "status": "completed"
    },
    "tags": []
   },
   "outputs": [
    {
     "data": {
      "image/png": "[encoded data removed]",
      "text/plain": [
       "<Figure size 800x600 with 10 Axes>"
      ]
     },
     "metadata": {},
     "output_type": "display_data"
    }
   ],
   "source": [
    "# plot some of the numbers\n",
    "plt.figure(figsize=(8,6))\n",
    "for digit_num in range(0,10):\n",
    "    plt.subplot(5,5,digit_num+1)\n",
    "    grid_data = features.iloc[digit_num].to_numpy().reshape(28,28)  # reshape from 1d to 2d pixel array\n",
    "    plt.imshow(grid_data, interpolation = \"none\", cmap = \"afmhot\")\n",
    "    plt.xticks([])\n",
    "    plt.yticks([])\n",
    "plt.tight_layout()"
   ]
  },
  {
   "cell_type": "code",
   "execution_count": 9,
   "id": "96726ec2",
   "metadata": {
    "execution": {
     "iopub.execute_input": "2023-10-14T18:52:17.159692Z",
     "iopub.status.busy": "2023-10-14T18:52:17.159282Z",
     "iopub.status.idle": "2023-10-14T18:52:17.836261Z",
     "shell.execute_reply": "2023-10-14T18:52:17.835492Z"
    },
    "papermill": {
     "duration": 0.686589,
     "end_time": "2023-10-14T18:52:17.838152",
     "exception": false,
     "start_time": "2023-10-14T18:52:17.151563",
     "status": "completed"
    },
    "tags": []
   },
   "outputs": [
    {
     "data": {
      "text/html": [
       "<div>\n",
       "<style scoped>\n",
       "    .dataframe tbody tr th:only-of-type {\n",
       "        vertical-align: middle;\n",
       "    }\n",
       "\n",
       "    .dataframe tbody tr th {\n",
       "        vertical-align: top;\n",
       "    }\n",
       "\n",
       "    .dataframe thead th {\n",
       "        text-align: right;\n",
       "    }\n",
       "</style>\n",
       "<table border=\"1\" class=\"dataframe\">\n",
       "  <thead>\n",
       "    <tr style=\"text-align: right;\">\n",
       "      <th></th>\n",
       "      <th>mean</th>\n",
       "      <th>variance</th>\n",
       "      <th>std</th>\n",
       "    </tr>\n",
       "  </thead>\n",
       "  <tbody>\n",
       "    <tr>\n",
       "      <th>0</th>\n",
       "      <td>21.235969</td>\n",
       "      <td>4175.613961</td>\n",
       "      <td>64.618991</td>\n",
       "    </tr>\n",
       "    <tr>\n",
       "      <th>1</th>\n",
       "      <td>56.899235</td>\n",
       "      <td>9830.412040</td>\n",
       "      <td>99.148434</td>\n",
       "    </tr>\n",
       "    <tr>\n",
       "      <th>2</th>\n",
       "      <td>17.123724</td>\n",
       "      <td>3554.649233</td>\n",
       "      <td>59.620879</td>\n",
       "    </tr>\n",
       "    <tr>\n",
       "      <th>3</th>\n",
       "      <td>19.164541</td>\n",
       "      <td>3335.083896</td>\n",
       "      <td>57.750185</td>\n",
       "    </tr>\n",
       "    <tr>\n",
       "      <th>4</th>\n",
       "      <td>65.169643</td>\n",
       "      <td>10982.077089</td>\n",
       "      <td>104.795406</td>\n",
       "    </tr>\n",
       "    <tr>\n",
       "      <th>...</th>\n",
       "      <td>...</td>\n",
       "      <td>...</td>\n",
       "      <td>...</td>\n",
       "    </tr>\n",
       "    <tr>\n",
       "      <th>41995</th>\n",
       "      <td>37.385204</td>\n",
       "      <td>6493.440904</td>\n",
       "      <td>80.581889</td>\n",
       "    </tr>\n",
       "    <tr>\n",
       "      <th>41996</th>\n",
       "      <td>17.110969</td>\n",
       "      <td>3638.376716</td>\n",
       "      <td>60.318958</td>\n",
       "    </tr>\n",
       "    <tr>\n",
       "      <th>41997</th>\n",
       "      <td>40.183673</td>\n",
       "      <td>7614.802999</td>\n",
       "      <td>87.262839</td>\n",
       "    </tr>\n",
       "    <tr>\n",
       "      <th>41998</th>\n",
       "      <td>33.649235</td>\n",
       "      <td>6232.265994</td>\n",
       "      <td>78.944702</td>\n",
       "    </tr>\n",
       "    <tr>\n",
       "      <th>41999</th>\n",
       "      <td>23.186224</td>\n",
       "      <td>4041.575014</td>\n",
       "      <td>63.573383</td>\n",
       "    </tr>\n",
       "  </tbody>\n",
       "</table>\n",
       "<p>42000 rows × 3 columns</p>\n",
       "</div>"
      ],
      "text/plain": [
       "            mean      variance         std\n",
       "0      21.235969   4175.613961   64.618991\n",
       "1      56.899235   9830.412040   99.148434\n",
       "2      17.123724   3554.649233   59.620879\n",
       "3      19.164541   3335.083896   57.750185\n",
       "4      65.169643  10982.077089  104.795406\n",
       "...          ...           ...         ...\n",
       "41995  37.385204   6493.440904   80.581889\n",
       "41996  17.110969   3638.376716   60.318958\n",
       "41997  40.183673   7614.802999   87.262839\n",
       "41998  33.649235   6232.265994   78.944702\n",
       "41999  23.186224   4041.575014   63.573383\n",
       "\n",
       "[42000 rows x 3 columns]"
      ]
     },
     "execution_count": 9,
     "metadata": {},
     "output_type": "execute_result"
    }
   ],
   "source": [
    "# Basic analysis\n",
    "bstats= {\"mean\": np.mean(features, axis=1), \"variance\": np.var(features, axis=1), \"std\":np.std(features, axis=1) }\n",
    "stats=pd.DataFrame(bstats)\n",
    "stats"
   ]
  },
  {
   "cell_type": "code",
   "execution_count": 10,
   "id": "efdae1df",
   "metadata": {
    "execution": {
     "iopub.execute_input": "2023-10-14T18:52:17.854278Z",
     "iopub.status.busy": "2023-10-14T18:52:17.853739Z",
     "iopub.status.idle": "2023-10-14T18:52:18.480659Z",
     "shell.execute_reply": "2023-10-14T18:52:18.479657Z"
    },
    "papermill": {
     "duration": 0.637617,
     "end_time": "2023-10-14T18:52:18.482748",
     "exception": false,
     "start_time": "2023-10-14T18:52:17.845131",
     "status": "completed"
    },
    "tags": []
   },
   "outputs": [
    {
     "data": {
      "text/plain": [
       "array([[<Axes: title={'center': 'mean'}>,\n",
       "        <Axes: title={'center': 'variance'}>],\n",
       "       [<Axes: title={'center': 'std'}>, <Axes: >]], dtype=object)"
      ]
     },
     "execution_count": 10,
     "metadata": {},
     "output_type": "execute_result"
    },
    {
     "data": {
      "image/png": "[encoded data removed]",
      "text/plain": [
       "<Figure size 640x480 with 4 Axes>"
      ]
     },
     "metadata": {},
     "output_type": "display_data"
    }
   ],
   "source": [
    "stats.hist()"
   ]
  },
  {
   "cell_type": "markdown",
   "id": "3e06c0d1",
   "metadata": {
    "papermill": {
     "duration": 0.007069,
     "end_time": "2023-10-14T18:52:18.496983",
     "exception": false,
     "start_time": "2023-10-14T18:52:18.489914",
     "status": "completed"
    },
    "tags": []
   },
   "source": [
    "# Preprocessing the Datasets\n",
    "- Data Noramlization\n",
    "- Scaling Data\n",
    "\n",
    "This will normalize features to be between 0 and 1 and then standardize them so that they have a mean of 0 and a standard deviation of 1"
   ]
  },
  {
   "cell_type": "code",
   "execution_count": 11,
   "id": "45c5b618",
   "metadata": {
    "execution": {
     "iopub.execute_input": "2023-10-14T18:52:18.513743Z",
     "iopub.status.busy": "2023-10-14T18:52:18.513161Z",
     "iopub.status.idle": "2023-10-14T18:52:18.519199Z",
     "shell.execute_reply": "2023-10-14T18:52:18.518026Z"
    },
    "papermill": {
     "duration": 0.016971,
     "end_time": "2023-10-14T18:52:18.521447",
     "exception": false,
     "start_time": "2023-10-14T18:52:18.504476",
     "status": "completed"
    },
    "tags": []
   },
   "outputs": [],
   "source": [
    "def preprocess_data(data):\n",
    "    # Normalize the data\n",
    "    feat_norm = data / 255.0\n",
    "\n",
    "    # Initialize a new StandardScaler instance\n",
    "    scaler = StandardScaler()\n",
    "\n",
    "    # Fit the scaler to the data\n",
    "    scaler.fit(feat_norm)\n",
    "\n",
    "    # Transform the data\n",
    "    feat_scaled = scaler.transform(feat_norm)\n",
    "    \n",
    "    # Reshape the data to 28x28 images\n",
    "    feat_reshape = feat_scaled.reshape(-1, 28, 28)\n",
    "    \n",
    "    return feat_reshape\n"
   ]
  },
  {
   "cell_type": "code",
   "execution_count": 12,
   "id": "394381ae",
   "metadata": {
    "execution": {
     "iopub.execute_input": "2023-10-14T18:52:18.538390Z",
     "iopub.status.busy": "2023-10-14T18:52:18.537370Z",
     "iopub.status.idle": "2023-10-14T18:52:19.407132Z",
     "shell.execute_reply": "2023-10-14T18:52:19.405923Z"
    },
    "papermill": {
     "duration": 0.880783,
     "end_time": "2023-10-14T18:52:19.409669",
     "exception": false,
     "start_time": "2023-10-14T18:52:18.528886",
     "status": "completed"
    },
    "tags": []
   },
   "outputs": [],
   "source": [
    "feat_train= preprocess_data(features)\n",
    "feat_test= preprocess_data(test)"
   ]
  },
  {
   "cell_type": "code",
   "execution_count": 13,
   "id": "45016df2",
   "metadata": {
    "execution": {
     "iopub.execute_input": "2023-10-14T18:52:19.426669Z",
     "iopub.status.busy": "2023-10-14T18:52:19.426218Z",
     "iopub.status.idle": "2023-10-14T18:52:19.431741Z",
     "shell.execute_reply": "2023-10-14T18:52:19.430643Z"
    },
    "papermill": {
     "duration": 0.016163,
     "end_time": "2023-10-14T18:52:19.433628",
     "exception": false,
     "start_time": "2023-10-14T18:52:19.417465",
     "status": "completed"
    },
    "tags": []
   },
   "outputs": [
    {
     "name": "stdout",
     "output_type": "stream",
     "text": [
      "Train Scaled DataType: <class 'numpy.ndarray'>\n",
      "Test Scaled DataType: <class 'numpy.ndarray'>\n"
     ]
    }
   ],
   "source": [
    "# Datatype\n",
    "print(f\"Train Scaled DataType: {type(feat_train)}\")\n",
    "print(f\"Test Scaled DataType: {type(feat_test)}\")"
   ]
  },
  {
   "cell_type": "code",
   "execution_count": 14,
   "id": "5efcb494",
   "metadata": {
    "collapsed": true,
    "execution": {
     "iopub.execute_input": "2023-10-14T18:52:19.449913Z",
     "iopub.status.busy": "2023-10-14T18:52:19.449471Z",
     "iopub.status.idle": "2023-10-14T18:52:19.458954Z",
     "shell.execute_reply": "2023-10-14T18:52:19.457631Z"
    },
    "jupyter": {
     "outputs_hidden": true
    },
    "papermill": {
     "duration": 0.020333,
     "end_time": "2023-10-14T18:52:19.461200",
     "exception": false,
     "start_time": "2023-10-14T18:52:19.440867",
     "status": "completed"
    },
    "tags": []
   },
   "outputs": [
    {
     "name": "stdout",
     "output_type": "stream",
     "text": [
      "Train Scaled Data: \n",
      " [[[ 0.          0.          0.         ...  0.          0.\n",
      "    0.        ]\n",
      "  [ 0.          0.          0.         ...  0.          0.\n",
      "    0.        ]\n",
      "  [ 0.          0.         -0.00487956 ... -0.00805699  0.\n",
      "    0.        ]\n",
      "  ...\n",
      "  [ 0.          0.         -0.00796544 ... -0.00678334 -0.00487956\n",
      "    0.        ]\n",
      "  [ 0.          0.          0.         ... -0.00487956  0.\n",
      "    0.        ]\n",
      "  [ 0.          0.          0.         ...  0.          0.\n",
      "    0.        ]]\n",
      "\n",
      " [[ 0.          0.          0.         ...  0.          0.\n",
      "    0.        ]\n",
      "  [ 0.          0.          0.         ...  0.          0.\n",
      "    0.        ]\n",
      "  [ 0.          0.         -0.00487956 ... -0.00805699  0.\n",
      "    0.        ]\n",
      "  ...\n",
      "  [ 0.          0.         -0.00796544 ... -0.00678334 -0.00487956\n",
      "    0.        ]\n",
      "  [ 0.          0.          0.         ... -0.00487956  0.\n",
      "    0.        ]\n",
      "  [ 0.          0.          0.         ...  0.          0.\n",
      "    0.        ]]\n",
      "\n",
      " [[ 0.          0.          0.         ...  0.          0.\n",
      "    0.        ]\n",
      "  [ 0.          0.          0.         ...  0.          0.\n",
      "    0.        ]\n",
      "  [ 0.          0.         -0.00487956 ... -0.00805699  0.\n",
      "    0.        ]\n",
      "  ...\n",
      "  [ 0.          0.         -0.00796544 ... -0.00678334 -0.00487956\n",
      "    0.        ]\n",
      "  [ 0.          0.          0.         ... -0.00487956  0.\n",
      "    0.        ]\n",
      "  [ 0.          0.          0.         ...  0.          0.\n",
      "    0.        ]]\n",
      "\n",
      " [[ 0.          0.          0.         ...  0.          0.\n",
      "    0.        ]\n",
      "  [ 0.          0.          0.         ...  0.          0.\n",
      "    0.        ]\n",
      "  [ 0.          0.         -0.00487956 ... -0.00805699  0.\n",
      "    0.        ]\n",
      "  ...\n",
      "  [ 0.          0.         -0.00796544 ... -0.00678334 -0.00487956\n",
      "    0.        ]\n",
      "  [ 0.          0.          0.         ... -0.00487956  0.\n",
      "    0.        ]\n",
      "  [ 0.          0.          0.         ...  0.          0.\n",
      "    0.        ]]\n",
      "\n",
      " [[ 0.          0.          0.         ...  0.          0.\n",
      "    0.        ]\n",
      "  [ 0.          0.          0.         ...  0.          0.\n",
      "    0.        ]\n",
      "  [ 0.          0.         -0.00487956 ... -0.00805699  0.\n",
      "    0.        ]\n",
      "  ...\n",
      "  [ 0.          0.         -0.00796544 ... -0.00678334 -0.00487956\n",
      "    0.        ]\n",
      "  [ 0.          0.          0.         ... -0.00487956  0.\n",
      "    0.        ]\n",
      "  [ 0.          0.          0.         ...  0.          0.\n",
      "    0.        ]]]\n",
      "\n",
      "Test Scaled Data: \n",
      " [[[ 0.          0.          0.         ...  0.          0.\n",
      "    0.        ]\n",
      "  [ 0.          0.          0.         ...  0.          0.\n",
      "    0.        ]\n",
      "  [ 0.          0.          0.         ... -0.00597625  0.\n",
      "    0.        ]\n",
      "  ...\n",
      "  [ 0.          0.          0.         ... -0.00597625  0.\n",
      "    0.        ]\n",
      "  [ 0.          0.          0.         ...  0.          0.\n",
      "    0.        ]\n",
      "  [ 0.          0.          0.         ...  0.          0.\n",
      "    0.        ]]\n",
      "\n",
      " [[ 0.          0.          0.         ...  0.          0.\n",
      "    0.        ]\n",
      "  [ 0.          0.          0.         ...  0.          0.\n",
      "    0.        ]\n",
      "  [ 0.          0.          0.         ... -0.00597625  0.\n",
      "    0.        ]\n",
      "  ...\n",
      "  [ 0.          0.          0.         ... -0.00597625  0.\n",
      "    0.        ]\n",
      "  [ 0.          0.          0.         ...  0.          0.\n",
      "    0.        ]\n",
      "  [ 0.          0.          0.         ...  0.          0.\n",
      "    0.        ]]\n",
      "\n",
      " [[ 0.          0.          0.         ...  0.          0.\n",
      "    0.        ]\n",
      "  [ 0.          0.          0.         ...  0.          0.\n",
      "    0.        ]\n",
      "  [ 0.          0.          0.         ... -0.00597625  0.\n",
      "    0.        ]\n",
      "  ...\n",
      "  [ 0.          0.          0.         ... -0.00597625  0.\n",
      "    0.        ]\n",
      "  [ 0.          0.          0.         ...  0.          0.\n",
      "    0.        ]\n",
      "  [ 0.          0.          0.         ...  0.          0.\n",
      "    0.        ]]\n",
      "\n",
      " [[ 0.          0.          0.         ...  0.          0.\n",
      "    0.        ]\n",
      "  [ 0.          0.          0.         ...  0.          0.\n",
      "    0.        ]\n",
      "  [ 0.          0.          0.         ... -0.00597625  0.\n",
      "    0.        ]\n",
      "  ...\n",
      "  [ 0.          0.          0.         ... -0.00597625  0.\n",
      "    0.        ]\n",
      "  [ 0.          0.          0.         ...  0.          0.\n",
      "    0.        ]\n",
      "  [ 0.          0.          0.         ...  0.          0.\n",
      "    0.        ]]\n",
      "\n",
      " [[ 0.          0.          0.         ...  0.          0.\n",
      "    0.        ]\n",
      "  [ 0.          0.          0.         ...  0.          0.\n",
      "    0.        ]\n",
      "  [ 0.          0.          0.         ... -0.00597625  0.\n",
      "    0.        ]\n",
      "  ...\n",
      "  [ 0.          0.          0.         ... -0.00597625  0.\n",
      "    0.        ]\n",
      "  [ 0.          0.          0.         ...  0.          0.\n",
      "    0.        ]\n",
      "  [ 0.          0.          0.         ...  0.          0.\n",
      "    0.        ]]]\n"
     ]
    }
   ],
   "source": [
    "# Printing the Data\n",
    "print(f\"Train Scaled Data: \\n {feat_train[0:5]}\\n\")\n",
    "print(f\"Test Scaled Data: \\n {feat_test[0:5]}\")"
   ]
  },
  {
   "cell_type": "code",
   "execution_count": 15,
   "id": "908ca47c",
   "metadata": {
    "execution": {
     "iopub.execute_input": "2023-10-14T18:52:19.479096Z",
     "iopub.status.busy": "2023-10-14T18:52:19.478374Z",
     "iopub.status.idle": "2023-10-14T18:52:19.483808Z",
     "shell.execute_reply": "2023-10-14T18:52:19.482829Z"
    },
    "papermill": {
     "duration": 0.017044,
     "end_time": "2023-10-14T18:52:19.486017",
     "exception": false,
     "start_time": "2023-10-14T18:52:19.468973",
     "status": "completed"
    },
    "tags": []
   },
   "outputs": [
    {
     "name": "stdout",
     "output_type": "stream",
     "text": [
      "Train Scaled Data Shape: \n",
      " (42000, 28, 28)\n",
      "\n",
      "Test Scaled Data Shape: \n",
      " (28000, 28, 28)\n"
     ]
    }
   ],
   "source": [
    "print(f\"Train Scaled Data Shape: \\n {feat_train.shape}\\n\")\n",
    "print(f\"Test Scaled Data Shape: \\n {feat_test.shape}\")"
   ]
  },
  {
   "cell_type": "code",
   "execution_count": 16,
   "id": "01b9aa5d",
   "metadata": {
    "execution": {
     "iopub.execute_input": "2023-10-14T18:52:19.503885Z",
     "iopub.status.busy": "2023-10-14T18:52:19.503478Z",
     "iopub.status.idle": "2023-10-14T18:52:20.094093Z",
     "shell.execute_reply": "2023-10-14T18:52:20.093100Z"
    },
    "papermill": {
     "duration": 0.602999,
     "end_time": "2023-10-14T18:52:20.096759",
     "exception": false,
     "start_time": "2023-10-14T18:52:19.493760",
     "status": "completed"
    },
    "tags": []
   },
   "outputs": [
    {
     "data": {
      "image/png": "[encoded data removed]",
      "text/plain": [
       "<Figure size 800x600 with 10 Axes>"
      ]
     },
     "metadata": {},
     "output_type": "display_data"
    }
   ],
   "source": [
    "# plot some of the numbers preprocessed image\n",
    "plt.figure(figsize=(8,6))\n",
    "for digit_num in range(0,10):\n",
    "    plt.subplot(5,5,digit_num+1)\n",
    "    grid_data = feat_train[digit_num]\n",
    "    plt.imshow(grid_data, interpolation = \"none\", cmap = \"afmhot\")\n",
    "    plt.xticks([])\n",
    "    plt.yticks([])\n",
    "plt.tight_layout()"
   ]
  },
  {
   "cell_type": "markdown",
   "id": "456d3002",
   "metadata": {
    "papermill": {
     "duration": 0.00778,
     "end_time": "2023-10-14T18:52:20.112819",
     "exception": false,
     "start_time": "2023-10-14T18:52:20.105039",
     "status": "completed"
    },
    "tags": []
   },
   "source": [
    "# Feature Extraction\n",
    "Using Histogram of Oriented Gradients (HOG) we are going to extract important features based on their orientation. HOG is used in capturing the shape or structure of objects within an image. HOG is a feature descriptor that involves counting occurrences of gradient orientation in localized portions of an image."
   ]
  },
  {
   "cell_type": "code",
   "execution_count": 17,
   "id": "a78c4f9c",
   "metadata": {
    "execution": {
     "iopub.execute_input": "2023-10-14T18:52:20.130781Z",
     "iopub.status.busy": "2023-10-14T18:52:20.130319Z",
     "iopub.status.idle": "2023-10-14T18:52:35.842945Z",
     "shell.execute_reply": "2023-10-14T18:52:35.841751Z"
    },
    "papermill": {
     "duration": 15.724254,
     "end_time": "2023-10-14T18:52:35.845218",
     "exception": false,
     "start_time": "2023-10-14T18:52:20.120964",
     "status": "completed"
    },
    "tags": []
   },
   "outputs": [
    {
     "name": "stdout",
     "output_type": "stream",
     "text": [
      "Data Type: <class 'list'>\n",
      "\n",
      "Lenght of Data: 42000\n"
     ]
    }
   ],
   "source": [
    "# Calculate HOG features of the Features\n",
    "hog_features = [hog(image, orientations=8, pixels_per_cell=(8, 8), cells_per_block=(1, 1)) for image in feat_train]\n",
    "\n",
    "\n",
    "print(f\"Data Type: {type(hog_features)}\\n\")\n",
    "print(f\"Lenght of Data: {len(hog_features)}\")"
   ]
  },
  {
   "cell_type": "code",
   "execution_count": 18,
   "id": "78cc70cf",
   "metadata": {
    "execution": {
     "iopub.execute_input": "2023-10-14T18:52:35.863452Z",
     "iopub.status.busy": "2023-10-14T18:52:35.862651Z",
     "iopub.status.idle": "2023-10-14T18:52:35.892785Z",
     "shell.execute_reply": "2023-10-14T18:52:35.891413Z"
    },
    "papermill": {
     "duration": 0.041611,
     "end_time": "2023-10-14T18:52:35.894996",
     "exception": false,
     "start_time": "2023-10-14T18:52:35.853385",
     "status": "completed"
    },
    "tags": []
   },
   "outputs": [
    {
     "name": "stdout",
     "output_type": "stream",
     "text": [
      "HOG features:\n",
      "[[0.08180151 0.70074096 0.70074096 ... 0.         0.05455105 0.12670638]\n",
      " [0.57436319 0.57436319 0.57436319 ... 0.1069198  0.03525005 0.23223445]\n",
      " [0.08180151 0.70074096 0.70074096 ... 0.1042601  0.         0.49727503]\n",
      " ...\n",
      " [0.03663915 0.5763236  0.5763236  ... 0.04222903 0.0111845  0.31129842]\n",
      " [0.08180151 0.70074096 0.70074096 ... 0.         0.23377674 0.34067101]\n",
      " [0.08180151 0.70074096 0.70074096 ... 0.         0.13625374 0.55039942]] \n",
      "\n",
      "Data Type: <class 'numpy.ndarray'>\n",
      "\n",
      "Lenght of array: 42000\n"
     ]
    }
   ],
   "source": [
    "hog_feat_array= np.array(hog_features)\n",
    "\n",
    "print(\"HOG features:\")\n",
    "print(hog_feat_array, \"\\n\")\n",
    "print(f\"Data Type: {type(hog_feat_array)}\\n\")\n",
    "print(f\"Lenght of array: {len(hog_feat_array)}\")"
   ]
  },
  {
   "cell_type": "code",
   "execution_count": 19,
   "id": "6084f725",
   "metadata": {
    "execution": {
     "iopub.execute_input": "2023-10-14T18:52:35.913588Z",
     "iopub.status.busy": "2023-10-14T18:52:35.913152Z",
     "iopub.status.idle": "2023-10-14T18:52:37.795955Z",
     "shell.execute_reply": "2023-10-14T18:52:37.794770Z"
    },
    "papermill": {
     "duration": 1.894692,
     "end_time": "2023-10-14T18:52:37.798168",
     "exception": false,
     "start_time": "2023-10-14T18:52:35.903476",
     "status": "completed"
    },
    "tags": []
   },
   "outputs": [
    {
     "data": {
      "image/png": "[encoded data removed]",
      "text/plain": [
       "<Figure size 600x200 with 2 Axes>"
      ]
     },
     "metadata": {},
     "output_type": "display_data"
    },
    {
     "data": {
      "image/png": "[encoded data removed]",
      "text/plain": [
       "<Figure size 600x200 with 2 Axes>"
      ]
     },
     "metadata": {},
     "output_type": "display_data"
    },
    {
     "data": {
      "image/png": "[encoded data removed]",
      "text/plain": [
       "<Figure size 600x200 with 2 Axes>"
      ]
     },
     "metadata": {},
     "output_type": "display_data"
    },
    {
     "data": {
      "image/png": "[encoded data removed]",
      "text/plain": [
       "<Figure size 600x200 with 2 Axes>"
      ]
     },
     "metadata": {},
     "output_type": "display_data"
    },
    {
     "data": {
      "image/png": "[encoded data removed]",
      "text/plain": [
       "<Figure size 600x200 with 2 Axes>"
      ]
     },
     "metadata": {},
     "output_type": "display_data"
    },
    {
     "data": {
      "image/png": "[encoded data removed]",
      "text/plain": [
       "<Figure size 600x200 with 2 Axes>"
      ]
     },
     "metadata": {},
     "output_type": "display_data"
    },
    {
     "data": {
      "image/png": "[encoded data removed]",
      "text/plain": [
       "<Figure size 600x200 with 2 Axes>"
      ]
     },
     "metadata": {},
     "output_type": "display_data"
    },
    {
     "data": {
      "image/png": "[encoded data removed]",
      "text/plain": [
       "<Figure size 600x200 with 2 Axes>"
      ]
     },
     "metadata": {},
     "output_type": "display_data"
    },
    {
     "data": {
      "image/png": "[encoded data removed]",
      "text/plain": [
       "<Figure size 600x200 with 2 Axes>"
      ]
     },
     "metadata": {},
     "output_type": "display_data"
    },
    {
     "data": {
      "image/png": "[encoded data removed]",
      "text/plain": [
       "<Figure size 600x200 with 2 Axes>"
      ]
     },
     "metadata": {},
     "output_type": "display_data"
    }
   ],
   "source": [
    "# Selecting a subset of images to work with (for example, first 10 images)\n",
    "subset_images = feat_train[:10]\n",
    "\n",
    "# Calculate HOG features and visualize for each image in the subset\n",
    "for i, image in enumerate(subset_images):\n",
    "    hog_features, hog_image = hog(image, orientations=8, pixels_per_cell=(8, 8), cells_per_block=(1, 1), visualize=True)\n",
    "\n",
    "    # Rescale histogram for better display\n",
    "    hog_image_rescaled = exposure.rescale_intensity(hog_image, in_range=(0, 10))\n",
    "\n",
    "    # Plot the original image and the HOG features\n",
    "    fig, (ax1, ax2) = plt.subplots(1, 2, figsize=(6, 2), sharex=True, sharey=True)\n",
    "\n",
    "    ax1.axis('off')\n",
    "    ax1.imshow(image, cmap=plt.cm.gray)\n",
    "    ax1.set_title('Input image')\n",
    "\n",
    "    ax2.axis('off')\n",
    "    ax2.imshow(hog_image_rescaled, cmap=plt.cm.gray)\n",
    "    ax2.set_title('Histogram of Oriented Gradients')\n",
    "\n",
    "    plt.show()\n"
   ]
  },
  {
   "cell_type": "markdown",
   "id": "c7a46d98",
   "metadata": {
    "papermill": {
     "duration": 0.010497,
     "end_time": "2023-10-14T18:52:37.819307",
     "exception": false,
     "start_time": "2023-10-14T18:52:37.808810",
     "status": "completed"
    },
    "tags": []
   },
   "source": [
    "The HOG feature extraction algorithm is applied to extract and vectorize the images, these vectors (arrays) are very large and will take up lots of memory. To reduce these vectors PCA will be used.\n",
    "\n",
    "Principal Component Analysis (PCA) is a linear transformation algorithm that seeks to project the original features of our data onto a smaller set of features ( or subspace ) while still retaining most of the information."
   ]
  },
  {
   "cell_type": "code",
   "execution_count": 20,
   "id": "9f57857b",
   "metadata": {
    "execution": {
     "iopub.execute_input": "2023-10-14T18:52:37.842531Z",
     "iopub.status.busy": "2023-10-14T18:52:37.842143Z",
     "iopub.status.idle": "2023-10-14T18:52:38.071972Z",
     "shell.execute_reply": "2023-10-14T18:52:38.070456Z"
    },
    "papermill": {
     "duration": 0.246331,
     "end_time": "2023-10-14T18:52:38.076233",
     "exception": false,
     "start_time": "2023-10-14T18:52:37.829902",
     "status": "completed"
    },
    "tags": []
   },
   "outputs": [
    {
     "name": "stdout",
     "output_type": "stream",
     "text": [
      "Reduced dataset shape: (42000, 50)\n",
      "Reduced Data type: <class 'numpy.ndarray'>\n"
     ]
    }
   ],
   "source": [
    "# Initialize PCA\n",
    "pca = PCA(n_components=0.95)\n",
    "\n",
    "# Fit and transform the data to the model\n",
    "reduced_feat = pca.fit_transform(hog_feat_array)\n",
    "\n",
    "print(\"Reduced dataset shape:\", reduced_feat.shape)\n",
    "print(\"Reduced Data type:\", type(reduced_feat))"
   ]
  },
  {
   "cell_type": "code",
   "execution_count": null,
   "id": "60c42d54",
   "metadata": {
    "papermill": {
     "duration": 0.028461,
     "end_time": "2023-10-14T18:52:38.133959",
     "exception": false,
     "start_time": "2023-10-14T18:52:38.105498",
     "status": "completed"
    },
    "tags": []
   },
   "outputs": [],
   "source": []
  }
 ],
 "metadata": {
  "kernelspec": {
   "display_name": "Python 3",
   "language": "python",
   "name": "python3"
  },
  "language_info": {
   "codemirror_mode": {
    "name": "ipython",
    "version": 3
   },
   "file_extension": ".py",
   "mimetype": "text/x-python",
   "name": "python",
   "nbconvert_exporter": "python",
   "pygments_lexer": "ipython3",
   "version": "3.10.12"
  },
  "papermill": {
   "default_parameters": {},
   "duration": 44.366077,
   "end_time": "2023-10-14T18:52:40.772312",
   "environment_variables": {},
   "exception": null,
   "input_path": "__notebook__.ipynb",
   "output_path": "__notebook__.ipynb",
   "parameters": {},
   "start_time": "2023-10-14T18:51:56.406235",
   "version": "2.4.0"
  }
 },
 "nbformat": 4,
 "nbformat_minor": 5
}
