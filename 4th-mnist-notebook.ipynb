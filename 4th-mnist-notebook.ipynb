{
 "cells": [
  {
   "cell_type": "code",
   "execution_count": 1,
   "id": "d9781448",
   "metadata": {
    "_cell_guid": "b1076dfc-b9ad-4769-8c92-a6c4dae69d19",
    "_uuid": "8f2839f25d086af736a60e9eeb907d3b93b6e0e5",
    "execution": {
     "iopub.execute_input": "2023-10-18T12:25:46.044225Z",
     "iopub.status.busy": "2023-10-18T12:25:46.043633Z",
     "iopub.status.idle": "2023-10-18T12:25:56.225809Z",
     "shell.execute_reply": "2023-10-18T12:25:56.224607Z"
    },
    "papermill": {
     "duration": 10.193498,
     "end_time": "2023-10-18T12:25:56.228096",
     "exception": false,
     "start_time": "2023-10-18T12:25:46.034598",
     "status": "completed"
    },
    "tags": []
   },
   "outputs": [
    {
     "name": "stdout",
     "output_type": "stream",
     "text": [
      "/kaggle/input/digit-recognizer/sample_submission.csv\n",
      "/kaggle/input/digit-recognizer/train.csv\n",
      "/kaggle/input/digit-recognizer/test.csv\n"
     ]
    }
   ],
   "source": [
    "# This Python 3 environment comes with many helpful analytics libraries installed\n",
    "# It is defined by the kaggle/python Docker image: https://github.com/kaggle/docker-python\n",
    "# For example, here's several helpful packages to load\n",
    "\n",
    "import numpy as np \n",
    "import pandas as pd\n",
    "\n",
    "import matplotlib.pyplot as plt\n",
    "%matplotlib inline\n",
    "\n",
    "from sklearn.preprocessing import StandardScaler\n",
    "from sklearn.model_selection import train_test_split\n",
    "\n",
    "import tensorflow as tf\n",
    "from tensorflow.data import Dataset as ds\n",
    "\n",
    "from keras.utils import to_categorical\n",
    "from keras.models import Sequential\n",
    "from keras.layers import Dense, Conv2D, Flatten, MaxPooling2D, BatchNormalization\n",
    "from keras.layers import RandomFlip, RandomRotation, RandomZoom, RandomTranslation, RandomCrop\n",
    "from keras.preprocessing.image import ImageDataGenerator\n",
    "from keras.optimizers import RMSprop\n",
    "\n",
    "# Input data files are available in the read-only \"../input/\" directory\n",
    "# For example, running this (by clicking run or pressing Shift+Enter) will list all files under the input directory\n",
    "\n",
    "import os\n",
    "for dirname, _, filenames in os.walk('/kaggle/input'):\n",
    "    for filename in filenames:\n",
    "        print(os.path.join(dirname, filename))\n",
    "\n",
    "# You can write up to 20GB to the current directory (/kaggle/working/) that gets preserved as output when you create a version using \"Save & Run All\" \n",
    "# You can also write temporary files to /kaggle/temp/, but they won't be saved outside of the current session"
   ]
  },
  {
   "cell_type": "markdown",
   "id": "3a588d55",
   "metadata": {
    "papermill": {
     "duration": 0.006407,
     "end_time": "2023-10-18T12:25:56.241479",
     "exception": false,
     "start_time": "2023-10-18T12:25:56.235072",
     "status": "completed"
    },
    "tags": []
   },
   "source": [
    "# Load Datasets"
   ]
  },
  {
   "cell_type": "code",
   "execution_count": 2,
   "id": "cf97fa21",
   "metadata": {
    "execution": {
     "iopub.execute_input": "2023-10-18T12:25:56.256641Z",
     "iopub.status.busy": "2023-10-18T12:25:56.255989Z",
     "iopub.status.idle": "2023-10-18T12:26:01.628196Z",
     "shell.execute_reply": "2023-10-18T12:26:01.627100Z"
    },
    "papermill": {
     "duration": 5.382507,
     "end_time": "2023-10-18T12:26:01.630654",
     "exception": false,
     "start_time": "2023-10-18T12:25:56.248147",
     "status": "completed"
    },
    "tags": []
   },
   "outputs": [],
   "source": [
    "# Import data into a dataframe\n",
    "train= pd.read_csv(\"/kaggle/input/digit-recognizer/train.csv\")\n",
    "test= pd.read_csv(\"/kaggle/input/digit-recognizer/test.csv\")"
   ]
  },
  {
   "cell_type": "code",
   "execution_count": 3,
   "id": "41894f59",
   "metadata": {
    "execution": {
     "iopub.execute_input": "2023-10-18T12:26:01.647490Z",
     "iopub.status.busy": "2023-10-18T12:26:01.647079Z",
     "iopub.status.idle": "2023-10-18T12:26:01.713102Z",
     "shell.execute_reply": "2023-10-18T12:26:01.712077Z"
    },
    "papermill": {
     "duration": 0.076677,
     "end_time": "2023-10-18T12:26:01.715126",
     "exception": false,
     "start_time": "2023-10-18T12:26:01.638449",
     "status": "completed"
    },
    "tags": []
   },
   "outputs": [
    {
     "name": "stdout",
     "output_type": "stream",
     "text": [
      "<class 'pandas.core.frame.DataFrame'>\n",
      "RangeIndex: 42000 entries, 0 to 41999\n",
      "Columns: 785 entries, label to pixel783\n",
      "dtypes: int64(785)\n",
      "memory usage: 251.5 MB\n",
      "Train Data Info: None\n",
      "\n"
     ]
    },
    {
     "data": {
      "text/html": [
       "<div>\n",
       "<style scoped>\n",
       "    .dataframe tbody tr th:only-of-type {\n",
       "        vertical-align: middle;\n",
       "    }\n",
       "\n",
       "    .dataframe tbody tr th {\n",
       "        vertical-align: top;\n",
       "    }\n",
       "\n",
       "    .dataframe thead th {\n",
       "        text-align: right;\n",
       "    }\n",
       "</style>\n",
       "<table border=\"1\" class=\"dataframe\">\n",
       "  <thead>\n",
       "    <tr style=\"text-align: right;\">\n",
       "      <th></th>\n",
       "      <th>label</th>\n",
       "      <th>pixel0</th>\n",
       "      <th>pixel1</th>\n",
       "      <th>pixel2</th>\n",
       "      <th>pixel3</th>\n",
       "      <th>pixel4</th>\n",
       "      <th>pixel5</th>\n",
       "      <th>pixel6</th>\n",
       "      <th>pixel7</th>\n",
       "      <th>pixel8</th>\n",
       "      <th>...</th>\n",
       "      <th>pixel774</th>\n",
       "      <th>pixel775</th>\n",
       "      <th>pixel776</th>\n",
       "      <th>pixel777</th>\n",
       "      <th>pixel778</th>\n",
       "      <th>pixel779</th>\n",
       "      <th>pixel780</th>\n",
       "      <th>pixel781</th>\n",
       "      <th>pixel782</th>\n",
       "      <th>pixel783</th>\n",
       "    </tr>\n",
       "  </thead>\n",
       "  <tbody>\n",
       "    <tr>\n",
       "      <th>0</th>\n",
       "      <td>1</td>\n",
       "      <td>0</td>\n",
       "      <td>0</td>\n",
       "      <td>0</td>\n",
       "      <td>0</td>\n",
       "      <td>0</td>\n",
       "      <td>0</td>\n",
       "      <td>0</td>\n",
       "      <td>0</td>\n",
       "      <td>0</td>\n",
       "      <td>...</td>\n",
       "      <td>0</td>\n",
       "      <td>0</td>\n",
       "      <td>0</td>\n",
       "      <td>0</td>\n",
       "      <td>0</td>\n",
       "      <td>0</td>\n",
       "      <td>0</td>\n",
       "      <td>0</td>\n",
       "      <td>0</td>\n",
       "      <td>0</td>\n",
       "    </tr>\n",
       "    <tr>\n",
       "      <th>1</th>\n",
       "      <td>0</td>\n",
       "      <td>0</td>\n",
       "      <td>0</td>\n",
       "      <td>0</td>\n",
       "      <td>0</td>\n",
       "      <td>0</td>\n",
       "      <td>0</td>\n",
       "      <td>0</td>\n",
       "      <td>0</td>\n",
       "      <td>0</td>\n",
       "      <td>...</td>\n",
       "      <td>0</td>\n",
       "      <td>0</td>\n",
       "      <td>0</td>\n",
       "      <td>0</td>\n",
       "      <td>0</td>\n",
       "      <td>0</td>\n",
       "      <td>0</td>\n",
       "      <td>0</td>\n",
       "      <td>0</td>\n",
       "      <td>0</td>\n",
       "    </tr>\n",
       "    <tr>\n",
       "      <th>2</th>\n",
       "      <td>1</td>\n",
       "      <td>0</td>\n",
       "      <td>0</td>\n",
       "      <td>0</td>\n",
       "      <td>0</td>\n",
       "      <td>0</td>\n",
       "      <td>0</td>\n",
       "      <td>0</td>\n",
       "      <td>0</td>\n",
       "      <td>0</td>\n",
       "      <td>...</td>\n",
       "      <td>0</td>\n",
       "      <td>0</td>\n",
       "      <td>0</td>\n",
       "      <td>0</td>\n",
       "      <td>0</td>\n",
       "      <td>0</td>\n",
       "      <td>0</td>\n",
       "      <td>0</td>\n",
       "      <td>0</td>\n",
       "      <td>0</td>\n",
       "    </tr>\n",
       "    <tr>\n",
       "      <th>3</th>\n",
       "      <td>4</td>\n",
       "      <td>0</td>\n",
       "      <td>0</td>\n",
       "      <td>0</td>\n",
       "      <td>0</td>\n",
       "      <td>0</td>\n",
       "      <td>0</td>\n",
       "      <td>0</td>\n",
       "      <td>0</td>\n",
       "      <td>0</td>\n",
       "      <td>...</td>\n",
       "      <td>0</td>\n",
       "      <td>0</td>\n",
       "      <td>0</td>\n",
       "      <td>0</td>\n",
       "      <td>0</td>\n",
       "      <td>0</td>\n",
       "      <td>0</td>\n",
       "      <td>0</td>\n",
       "      <td>0</td>\n",
       "      <td>0</td>\n",
       "    </tr>\n",
       "    <tr>\n",
       "      <th>4</th>\n",
       "      <td>0</td>\n",
       "      <td>0</td>\n",
       "      <td>0</td>\n",
       "      <td>0</td>\n",
       "      <td>0</td>\n",
       "      <td>0</td>\n",
       "      <td>0</td>\n",
       "      <td>0</td>\n",
       "      <td>0</td>\n",
       "      <td>0</td>\n",
       "      <td>...</td>\n",
       "      <td>0</td>\n",
       "      <td>0</td>\n",
       "      <td>0</td>\n",
       "      <td>0</td>\n",
       "      <td>0</td>\n",
       "      <td>0</td>\n",
       "      <td>0</td>\n",
       "      <td>0</td>\n",
       "      <td>0</td>\n",
       "      <td>0</td>\n",
       "    </tr>\n",
       "  </tbody>\n",
       "</table>\n",
       "<p>5 rows × 785 columns</p>\n",
       "</div>"
      ],
      "text/plain": [
       "   label  pixel0  pixel1  pixel2  pixel3  pixel4  pixel5  pixel6  pixel7  \\\n",
       "0      1       0       0       0       0       0       0       0       0   \n",
       "1      0       0       0       0       0       0       0       0       0   \n",
       "2      1       0       0       0       0       0       0       0       0   \n",
       "3      4       0       0       0       0       0       0       0       0   \n",
       "4      0       0       0       0       0       0       0       0       0   \n",
       "\n",
       "   pixel8  ...  pixel774  pixel775  pixel776  pixel777  pixel778  pixel779  \\\n",
       "0       0  ...         0         0         0         0         0         0   \n",
       "1       0  ...         0         0         0         0         0         0   \n",
       "2       0  ...         0         0         0         0         0         0   \n",
       "3       0  ...         0         0         0         0         0         0   \n",
       "4       0  ...         0         0         0         0         0         0   \n",
       "\n",
       "   pixel780  pixel781  pixel782  pixel783  \n",
       "0         0         0         0         0  \n",
       "1         0         0         0         0  \n",
       "2         0         0         0         0  \n",
       "3         0         0         0         0  \n",
       "4         0         0         0         0  \n",
       "\n",
       "[5 rows x 785 columns]"
      ]
     },
     "execution_count": 3,
     "metadata": {},
     "output_type": "execute_result"
    }
   ],
   "source": [
    "print(f\"Train Data Info: {train.info()}\\n\")\n",
    "train.head()"
   ]
  },
  {
   "cell_type": "code",
   "execution_count": 4,
   "id": "cffff264",
   "metadata": {
    "execution": {
     "iopub.execute_input": "2023-10-18T12:26:01.732476Z",
     "iopub.status.busy": "2023-10-18T12:26:01.732089Z",
     "iopub.status.idle": "2023-10-18T12:26:01.959324Z",
     "shell.execute_reply": "2023-10-18T12:26:01.958229Z"
    },
    "papermill": {
     "duration": 0.23865,
     "end_time": "2023-10-18T12:26:01.961449",
     "exception": false,
     "start_time": "2023-10-18T12:26:01.722799",
     "status": "completed"
    },
    "tags": []
   },
   "outputs": [
    {
     "name": "stdout",
     "output_type": "stream",
     "text": [
      "<class 'pandas.core.frame.DataFrame'>\n",
      "RangeIndex: 28000 entries, 0 to 27999\n",
      "Columns: 784 entries, pixel0 to pixel783\n",
      "dtypes: int64(784)\n",
      "memory usage: 167.5 MB\n",
      "Test Data Info: None\n",
      "\n"
     ]
    },
    {
     "data": {
      "text/html": [
       "<div>\n",
       "<style scoped>\n",
       "    .dataframe tbody tr th:only-of-type {\n",
       "        vertical-align: middle;\n",
       "    }\n",
       "\n",
       "    .dataframe tbody tr th {\n",
       "        vertical-align: top;\n",
       "    }\n",
       "\n",
       "    .dataframe thead th {\n",
       "        text-align: right;\n",
       "    }\n",
       "</style>\n",
       "<table border=\"1\" class=\"dataframe\">\n",
       "  <thead>\n",
       "    <tr style=\"text-align: right;\">\n",
       "      <th></th>\n",
       "      <th>pixel0</th>\n",
       "      <th>pixel1</th>\n",
       "      <th>pixel2</th>\n",
       "      <th>pixel3</th>\n",
       "      <th>pixel4</th>\n",
       "      <th>pixel5</th>\n",
       "      <th>pixel6</th>\n",
       "      <th>pixel7</th>\n",
       "      <th>pixel8</th>\n",
       "      <th>pixel9</th>\n",
       "      <th>...</th>\n",
       "      <th>pixel774</th>\n",
       "      <th>pixel775</th>\n",
       "      <th>pixel776</th>\n",
       "      <th>pixel777</th>\n",
       "      <th>pixel778</th>\n",
       "      <th>pixel779</th>\n",
       "      <th>pixel780</th>\n",
       "      <th>pixel781</th>\n",
       "      <th>pixel782</th>\n",
       "      <th>pixel783</th>\n",
       "    </tr>\n",
       "  </thead>\n",
       "  <tbody>\n",
       "    <tr>\n",
       "      <th>0</th>\n",
       "      <td>0</td>\n",
       "      <td>0</td>\n",
       "      <td>0</td>\n",
       "      <td>0</td>\n",
       "      <td>0</td>\n",
       "      <td>0</td>\n",
       "      <td>0</td>\n",
       "      <td>0</td>\n",
       "      <td>0</td>\n",
       "      <td>0</td>\n",
       "      <td>...</td>\n",
       "      <td>0</td>\n",
       "      <td>0</td>\n",
       "      <td>0</td>\n",
       "      <td>0</td>\n",
       "      <td>0</td>\n",
       "      <td>0</td>\n",
       "      <td>0</td>\n",
       "      <td>0</td>\n",
       "      <td>0</td>\n",
       "      <td>0</td>\n",
       "    </tr>\n",
       "    <tr>\n",
       "      <th>1</th>\n",
       "      <td>0</td>\n",
       "      <td>0</td>\n",
       "      <td>0</td>\n",
       "      <td>0</td>\n",
       "      <td>0</td>\n",
       "      <td>0</td>\n",
       "      <td>0</td>\n",
       "      <td>0</td>\n",
       "      <td>0</td>\n",
       "      <td>0</td>\n",
       "      <td>...</td>\n",
       "      <td>0</td>\n",
       "      <td>0</td>\n",
       "      <td>0</td>\n",
       "      <td>0</td>\n",
       "      <td>0</td>\n",
       "      <td>0</td>\n",
       "      <td>0</td>\n",
       "      <td>0</td>\n",
       "      <td>0</td>\n",
       "      <td>0</td>\n",
       "    </tr>\n",
       "    <tr>\n",
       "      <th>2</th>\n",
       "      <td>0</td>\n",
       "      <td>0</td>\n",
       "      <td>0</td>\n",
       "      <td>0</td>\n",
       "      <td>0</td>\n",
       "      <td>0</td>\n",
       "      <td>0</td>\n",
       "      <td>0</td>\n",
       "      <td>0</td>\n",
       "      <td>0</td>\n",
       "      <td>...</td>\n",
       "      <td>0</td>\n",
       "      <td>0</td>\n",
       "      <td>0</td>\n",
       "      <td>0</td>\n",
       "      <td>0</td>\n",
       "      <td>0</td>\n",
       "      <td>0</td>\n",
       "      <td>0</td>\n",
       "      <td>0</td>\n",
       "      <td>0</td>\n",
       "    </tr>\n",
       "    <tr>\n",
       "      <th>3</th>\n",
       "      <td>0</td>\n",
       "      <td>0</td>\n",
       "      <td>0</td>\n",
       "      <td>0</td>\n",
       "      <td>0</td>\n",
       "      <td>0</td>\n",
       "      <td>0</td>\n",
       "      <td>0</td>\n",
       "      <td>0</td>\n",
       "      <td>0</td>\n",
       "      <td>...</td>\n",
       "      <td>0</td>\n",
       "      <td>0</td>\n",
       "      <td>0</td>\n",
       "      <td>0</td>\n",
       "      <td>0</td>\n",
       "      <td>0</td>\n",
       "      <td>0</td>\n",
       "      <td>0</td>\n",
       "      <td>0</td>\n",
       "      <td>0</td>\n",
       "    </tr>\n",
       "    <tr>\n",
       "      <th>4</th>\n",
       "      <td>0</td>\n",
       "      <td>0</td>\n",
       "      <td>0</td>\n",
       "      <td>0</td>\n",
       "      <td>0</td>\n",
       "      <td>0</td>\n",
       "      <td>0</td>\n",
       "      <td>0</td>\n",
       "      <td>0</td>\n",
       "      <td>0</td>\n",
       "      <td>...</td>\n",
       "      <td>0</td>\n",
       "      <td>0</td>\n",
       "      <td>0</td>\n",
       "      <td>0</td>\n",
       "      <td>0</td>\n",
       "      <td>0</td>\n",
       "      <td>0</td>\n",
       "      <td>0</td>\n",
       "      <td>0</td>\n",
       "      <td>0</td>\n",
       "    </tr>\n",
       "  </tbody>\n",
       "</table>\n",
       "<p>5 rows × 784 columns</p>\n",
       "</div>"
      ],
      "text/plain": [
       "   pixel0  pixel1  pixel2  pixel3  pixel4  pixel5  pixel6  pixel7  pixel8  \\\n",
       "0       0       0       0       0       0       0       0       0       0   \n",
       "1       0       0       0       0       0       0       0       0       0   \n",
       "2       0       0       0       0       0       0       0       0       0   \n",
       "3       0       0       0       0       0       0       0       0       0   \n",
       "4       0       0       0       0       0       0       0       0       0   \n",
       "\n",
       "   pixel9  ...  pixel774  pixel775  pixel776  pixel777  pixel778  pixel779  \\\n",
       "0       0  ...         0         0         0         0         0         0   \n",
       "1       0  ...         0         0         0         0         0         0   \n",
       "2       0  ...         0         0         0         0         0         0   \n",
       "3       0  ...         0         0         0         0         0         0   \n",
       "4       0  ...         0         0         0         0         0         0   \n",
       "\n",
       "   pixel780  pixel781  pixel782  pixel783  \n",
       "0         0         0         0         0  \n",
       "1         0         0         0         0  \n",
       "2         0         0         0         0  \n",
       "3         0         0         0         0  \n",
       "4         0         0         0         0  \n",
       "\n",
       "[5 rows x 784 columns]"
      ]
     },
     "execution_count": 4,
     "metadata": {},
     "output_type": "execute_result"
    }
   ],
   "source": [
    "print(f\"Test Data Info: {test.info()}\\n\")\n",
    "test.head()"
   ]
  },
  {
   "cell_type": "code",
   "execution_count": 5,
   "id": "e7d80431",
   "metadata": {
    "execution": {
     "iopub.execute_input": "2023-10-18T12:26:01.977981Z",
     "iopub.status.busy": "2023-10-18T12:26:01.977624Z",
     "iopub.status.idle": "2023-10-18T12:26:02.092440Z",
     "shell.execute_reply": "2023-10-18T12:26:02.091071Z"
    },
    "papermill": {
     "duration": 0.12597,
     "end_time": "2023-10-18T12:26:02.095035",
     "exception": false,
     "start_time": "2023-10-18T12:26:01.969065",
     "status": "completed"
    },
    "tags": []
   },
   "outputs": [],
   "source": [
    "target= train[\"label\"]\n",
    "features= train.drop(\"label\", axis=1)"
   ]
  },
  {
   "cell_type": "markdown",
   "id": "0448d56c",
   "metadata": {
    "papermill": {
     "duration": 0.007555,
     "end_time": "2023-10-18T12:26:02.112821",
     "exception": false,
     "start_time": "2023-10-18T12:26:02.105266",
     "status": "completed"
    },
    "tags": []
   },
   "source": [
    "# Split Training Dataset to Targets and Features"
   ]
  },
  {
   "cell_type": "code",
   "execution_count": 6,
   "id": "1f4fa110",
   "metadata": {
    "execution": {
     "iopub.execute_input": "2023-10-18T12:26:02.137651Z",
     "iopub.status.busy": "2023-10-18T12:26:02.136338Z",
     "iopub.status.idle": "2023-10-18T12:26:02.330547Z",
     "shell.execute_reply": "2023-10-18T12:26:02.329492Z"
    },
    "papermill": {
     "duration": 0.211741,
     "end_time": "2023-10-18T12:26:02.332930",
     "exception": false,
     "start_time": "2023-10-18T12:26:02.121189",
     "status": "completed"
    },
    "tags": []
   },
   "outputs": [],
   "source": [
    "target= (train[\"label\"].values).astype(\"float32\")\n",
    "features= (train.drop(\"label\", axis=1).values).astype(\"float32\")"
   ]
  },
  {
   "cell_type": "code",
   "execution_count": 7,
   "id": "cf979dc8",
   "metadata": {
    "execution": {
     "iopub.execute_input": "2023-10-18T12:26:02.349574Z",
     "iopub.status.busy": "2023-10-18T12:26:02.349238Z",
     "iopub.status.idle": "2023-10-18T12:26:02.356902Z",
     "shell.execute_reply": "2023-10-18T12:26:02.355529Z"
    },
    "papermill": {
     "duration": 0.018632,
     "end_time": "2023-10-18T12:26:02.359281",
     "exception": false,
     "start_time": "2023-10-18T12:26:02.340649",
     "status": "completed"
    },
    "tags": []
   },
   "outputs": [
    {
     "name": "stdout",
     "output_type": "stream",
     "text": [
      "[1. 0. 1. ... 7. 6. 9.]\n"
     ]
    },
    {
     "data": {
      "text/plain": [
       "array([[0., 0., 0., ..., 0., 0., 0.],\n",
       "       [0., 0., 0., ..., 0., 0., 0.],\n",
       "       [0., 0., 0., ..., 0., 0., 0.],\n",
       "       ...,\n",
       "       [0., 0., 0., ..., 0., 0., 0.],\n",
       "       [0., 0., 0., ..., 0., 0., 0.],\n",
       "       [0., 0., 0., ..., 0., 0., 0.]], dtype=float32)"
      ]
     },
     "execution_count": 7,
     "metadata": {},
     "output_type": "execute_result"
    }
   ],
   "source": [
    "print(target)\n",
    "features"
   ]
  },
  {
   "cell_type": "code",
   "execution_count": 8,
   "id": "a8d631f5",
   "metadata": {
    "execution": {
     "iopub.execute_input": "2023-10-18T12:26:02.375923Z",
     "iopub.status.busy": "2023-10-18T12:26:02.375568Z",
     "iopub.status.idle": "2023-10-18T12:26:02.558596Z",
     "shell.execute_reply": "2023-10-18T12:26:02.557244Z"
    },
    "papermill": {
     "duration": 0.195049,
     "end_time": "2023-10-18T12:26:02.562000",
     "exception": false,
     "start_time": "2023-10-18T12:26:02.366951",
     "status": "completed"
    },
    "tags": []
   },
   "outputs": [
    {
     "data": {
      "image/png": "[encoded data removed]",
      "text/plain": [
       "<Figure size 800x600 with 2 Axes>"
      ]
     },
     "metadata": {},
     "output_type": "display_data"
    }
   ],
   "source": [
    "# plot some of the numbers\n",
    "plt.figure(figsize=(8,6))\n",
    "for digit_num in range(0,2):\n",
    "    plt.subplot(5,5,digit_num+1)\n",
    "    grid_data = features[digit_num].reshape(28,28)  # reshape from 1d to 2d pixel array\n",
    "    plt.imshow(grid_data, interpolation = \"none\", cmap = \"afmhot\")\n",
    "    plt.xticks([])\n",
    "    plt.yticks([])\n",
    "plt.tight_layout()"
   ]
  },
  {
   "cell_type": "markdown",
   "id": "408cfd09",
   "metadata": {
    "papermill": {
     "duration": 0.022848,
     "end_time": "2023-10-18T12:26:02.609123",
     "exception": false,
     "start_time": "2023-10-18T12:26:02.586275",
     "status": "completed"
    },
    "tags": []
   },
   "source": [
    "# Preprocessing the Datasets"
   ]
  },
  {
   "cell_type": "markdown",
   "id": "4bfe349c",
   "metadata": {
    "papermill": {
     "duration": 0.012573,
     "end_time": "2023-10-18T12:26:02.645339",
     "exception": false,
     "start_time": "2023-10-18T12:26:02.632766",
     "status": "completed"
    },
    "tags": []
   },
   "source": [
    "#### Features\n",
    "Following my previous notebook I will doing the following using a function.\n",
    "- **Standardize** makes the features more like standard normally distributed data: Gaussian with zero mean and unit variance\n",
    "- **Scaling Data** is necessary because many machine learning algorithms (especially deep learning algorithms) expect input data in a certain shape."
   ]
  },
  {
   "cell_type": "code",
   "execution_count": 9,
   "id": "af9e8cba",
   "metadata": {
    "execution": {
     "iopub.execute_input": "2023-10-18T12:26:02.663006Z",
     "iopub.status.busy": "2023-10-18T12:26:02.662213Z",
     "iopub.status.idle": "2023-10-18T12:26:02.667533Z",
     "shell.execute_reply": "2023-10-18T12:26:02.666642Z"
    },
    "papermill": {
     "duration": 0.016157,
     "end_time": "2023-10-18T12:26:02.669373",
     "exception": false,
     "start_time": "2023-10-18T12:26:02.653216",
     "status": "completed"
    },
    "tags": []
   },
   "outputs": [],
   "source": [
    "def preprocess_data(data):\n",
    "\n",
    "    # Initialize a new StandardScaler instance\n",
    "    scaler = StandardScaler()\n",
    "\n",
    "    # Fit the scaler to the data to standardize data\n",
    "#     scaler.fit(feat_norm)\n",
    "    scaler.fit(data)\n",
    "\n",
    "    # Transform the data\n",
    "#     feat_scaled = scaler.transform(feat_norm)\n",
    "    feat_scaled = scaler.transform(data)\n",
    "    \n",
    "    # Reshape the data to 28x28 images\n",
    "    feat_reshape = feat_scaled.reshape(data.shape[0], 28, 28, 1)\n",
    "    \n",
    "    return feat_reshape"
   ]
  },
  {
   "cell_type": "code",
   "execution_count": 10,
   "id": "5fac4d95",
   "metadata": {
    "execution": {
     "iopub.execute_input": "2023-10-18T12:26:02.687478Z",
     "iopub.status.busy": "2023-10-18T12:26:02.686888Z",
     "iopub.status.idle": "2023-10-18T12:26:03.456630Z",
     "shell.execute_reply": "2023-10-18T12:26:03.455520Z"
    },
    "papermill": {
     "duration": 0.7816,
     "end_time": "2023-10-18T12:26:03.459032",
     "exception": false,
     "start_time": "2023-10-18T12:26:02.677432",
     "status": "completed"
    },
    "tags": []
   },
   "outputs": [],
   "source": [
    "feat_train= preprocess_data(features)\n",
    "feat_test= preprocess_data(test)"
   ]
  },
  {
   "cell_type": "code",
   "execution_count": 11,
   "id": "58fe98d0",
   "metadata": {
    "execution": {
     "iopub.execute_input": "2023-10-18T12:26:03.476340Z",
     "iopub.status.busy": "2023-10-18T12:26:03.475962Z",
     "iopub.status.idle": "2023-10-18T12:26:03.480963Z",
     "shell.execute_reply": "2023-10-18T12:26:03.480333Z"
    },
    "papermill": {
     "duration": 0.015758,
     "end_time": "2023-10-18T12:26:03.482834",
     "exception": false,
     "start_time": "2023-10-18T12:26:03.467076",
     "status": "completed"
    },
    "tags": []
   },
   "outputs": [
    {
     "name": "stdout",
     "output_type": "stream",
     "text": [
      "Train shape: (42000, 28, 28, 1)\n",
      "Test shape: (28000, 28, 28, 1)\n",
      "Train datatype: <class 'numpy.ndarray'>\n",
      "Test datatype: <class 'numpy.ndarray'>\n"
     ]
    }
   ],
   "source": [
    "print(f\"Train shape: {feat_train.shape}\")\n",
    "print(f\"Test shape: {feat_test.shape}\")\n",
    "print(f\"Train datatype: {type(feat_train)}\")\n",
    "print(f\"Test datatype: {type(feat_test)}\")"
   ]
  },
  {
   "cell_type": "code",
   "execution_count": 12,
   "id": "581c06f8",
   "metadata": {
    "execution": {
     "iopub.execute_input": "2023-10-18T12:26:03.500465Z",
     "iopub.status.busy": "2023-10-18T12:26:03.499540Z",
     "iopub.status.idle": "2023-10-18T12:26:03.658735Z",
     "shell.execute_reply": "2023-10-18T12:26:03.657346Z"
    },
    "papermill": {
     "duration": 0.171457,
     "end_time": "2023-10-18T12:26:03.662309",
     "exception": false,
     "start_time": "2023-10-18T12:26:03.490852",
     "status": "completed"
    },
    "tags": []
   },
   "outputs": [
    {
     "data": {
      "image/png": "[encoded data removed]",
      "text/plain": [
       "<Figure size 800x600 with 2 Axes>"
      ]
     },
     "metadata": {},
     "output_type": "display_data"
    }
   ],
   "source": [
    "# visualizing some of the numbers preprocessed image\n",
    "plt.figure(figsize=(8,6))\n",
    "for digit_num in range(0,2):\n",
    "    plt.subplot(5,5,digit_num+1)\n",
    "    grid_data = feat_train[digit_num]\n",
    "    plt.imshow(grid_data, interpolation = \"none\", cmap = \"afmhot\")\n",
    "    plt.xticks([])\n",
    "    plt.yticks([])\n",
    "plt.tight_layout()"
   ]
  },
  {
   "cell_type": "code",
   "execution_count": 13,
   "id": "59c732d9",
   "metadata": {
    "execution": {
     "iopub.execute_input": "2023-10-18T12:26:03.712761Z",
     "iopub.status.busy": "2023-10-18T12:26:03.711537Z",
     "iopub.status.idle": "2023-10-18T12:26:03.723482Z",
     "shell.execute_reply": "2023-10-18T12:26:03.722113Z"
    },
    "papermill": {
     "duration": 0.041014,
     "end_time": "2023-10-18T12:26:03.727031",
     "exception": false,
     "start_time": "2023-10-18T12:26:03.686017",
     "status": "completed"
    },
    "tags": []
   },
   "outputs": [
    {
     "name": "stdout",
     "output_type": "stream",
     "text": [
      "[[0. 1. 0. ... 0. 0. 0.]\n",
      " [1. 0. 0. ... 0. 0. 0.]\n",
      " [0. 1. 0. ... 0. 0. 0.]\n",
      " ...\n",
      " [0. 0. 0. ... 1. 0. 0.]\n",
      " [0. 0. 0. ... 0. 0. 0.]\n",
      " [0. 0. 0. ... 0. 0. 1.]]\n",
      "Classes: 10\n"
     ]
    }
   ],
   "source": [
    "# Encoding Label data \n",
    "cat_target= to_categorical(target, )\n",
    "target_classes = cat_target.shape[1]\n",
    "print(cat_target)\n",
    "print(f\"Classes: {target_classes}\")\n"
   ]
  },
  {
   "cell_type": "markdown",
   "id": "0a82ea6c",
   "metadata": {
    "papermill": {
     "duration": 0.00773,
     "end_time": "2023-10-18T12:26:03.758578",
     "exception": false,
     "start_time": "2023-10-18T12:26:03.750848",
     "status": "completed"
    },
    "tags": []
   },
   "source": [
    "# Image augmentation\n",
    "data augmentation methods include; randomly rotate, zoom, shift, shear, and flip images during training."
   ]
  },
  {
   "cell_type": "code",
   "execution_count": 14,
   "id": "3ce8db09",
   "metadata": {
    "execution": {
     "iopub.execute_input": "2023-10-18T12:26:03.775958Z",
     "iopub.status.busy": "2023-10-18T12:26:03.775381Z",
     "iopub.status.idle": "2023-10-18T12:26:03.779654Z",
     "shell.execute_reply": "2023-10-18T12:26:03.778931Z"
    },
    "jupyter": {
     "source_hidden": true
    },
    "papermill": {
     "duration": 0.014862,
     "end_time": "2023-10-18T12:26:03.781332",
     "exception": false,
     "start_time": "2023-10-18T12:26:03.766470",
     "status": "completed"
    },
    "tags": []
   },
   "outputs": [],
   "source": [
    "\n",
    "# img_aug= Sequential([\n",
    "#     RandomFlip(\"horizontal\"), # randomly flip image\n",
    "#     RandomRotation(0.8, fill_mode='nearest'), # randomly rotate image\n",
    "#     RandomZoom(0.8), # randomly zoom image\n",
    "#     RandomTranslation(0.8, 0.8, fill_mode=\"nearest\"), # randomly translate image\n",
    "# ])"
   ]
  },
  {
   "cell_type": "code",
   "execution_count": 15,
   "id": "fb76808c",
   "metadata": {
    "execution": {
     "iopub.execute_input": "2023-10-18T12:26:03.798924Z",
     "iopub.status.busy": "2023-10-18T12:26:03.798270Z",
     "iopub.status.idle": "2023-10-18T12:26:03.802170Z",
     "shell.execute_reply": "2023-10-18T12:26:03.801410Z"
    },
    "jupyter": {
     "source_hidden": true
    },
    "papermill": {
     "duration": 0.014721,
     "end_time": "2023-10-18T12:26:03.803922",
     "exception": false,
     "start_time": "2023-10-18T12:26:03.789201",
     "status": "completed"
    },
    "tags": []
   },
   "outputs": [],
   "source": [
    "# def augment(image, label):\n",
    "#     image = img_aug(image)\n",
    "#     return image, label\n",
    "\n",
    "# batch_size = 64\n",
    "# AUTOTUNE = tf.data.AUTOTUNE\n",
    "\n",
    "# def prepare(ds, shuffle=False, augment=False):\n",
    "#     # shuffle add dataset\n",
    "#     if shuffle:\n",
    "#         ds = ds.shuffle(1000)\n",
    "\n",
    "#     # Batch all datasets.\n",
    "#     ds = ds.batch(batch_size)\n",
    "\n",
    "#     # Use data augmentation only on the training set.\n",
    "#     if augment:\n",
    "#         ds = ds.map(lambda x, y: (img_aug(x, training=True), y), \n",
    "#                     num_parallel_calls=AUTOTUNE)\n",
    "\n",
    "#     # Use buffered prefetching on all datasets.\n",
    "#     return ds.prefetch(buffer_size=AUTOTUNE)"
   ]
  },
  {
   "cell_type": "code",
   "execution_count": 16,
   "id": "2bf9d245",
   "metadata": {
    "execution": {
     "iopub.execute_input": "2023-10-18T12:26:03.821100Z",
     "iopub.status.busy": "2023-10-18T12:26:03.820724Z",
     "iopub.status.idle": "2023-10-18T12:26:03.825260Z",
     "shell.execute_reply": "2023-10-18T12:26:03.824223Z"
    },
    "papermill": {
     "duration": 0.015483,
     "end_time": "2023-10-18T12:26:03.827267",
     "exception": false,
     "start_time": "2023-10-18T12:26:03.811784",
     "status": "completed"
    },
    "tags": []
   },
   "outputs": [],
   "source": [
    "# using default \n",
    "gen= ImageDataGenerator()"
   ]
  },
  {
   "cell_type": "markdown",
   "id": "4115478c",
   "metadata": {
    "papermill": {
     "duration": 0.007668,
     "end_time": "2023-10-18T12:26:03.843255",
     "exception": false,
     "start_time": "2023-10-18T12:26:03.835587",
     "status": "completed"
    },
    "tags": []
   },
   "source": [
    "# Test Train Split"
   ]
  },
  {
   "cell_type": "code",
   "execution_count": 17,
   "id": "1fdde976",
   "metadata": {
    "execution": {
     "iopub.execute_input": "2023-10-18T12:26:03.861610Z",
     "iopub.status.busy": "2023-10-18T12:26:03.860962Z",
     "iopub.status.idle": "2023-10-18T12:26:04.216325Z",
     "shell.execute_reply": "2023-10-18T12:26:04.215351Z"
    },
    "papermill": {
     "duration": 0.367676,
     "end_time": "2023-10-18T12:26:04.218810",
     "exception": false,
     "start_time": "2023-10-18T12:26:03.851134",
     "status": "completed"
    },
    "tags": []
   },
   "outputs": [],
   "source": [
    "X_train, X_test, y_train, y_test = train_test_split(feat_train, cat_target, test_size=0.10, random_state=42)"
   ]
  },
  {
   "cell_type": "code",
   "execution_count": 18,
   "id": "1ce5b89f",
   "metadata": {
    "execution": {
     "iopub.execute_input": "2023-10-18T12:26:04.237593Z",
     "iopub.status.busy": "2023-10-18T12:26:04.236980Z",
     "iopub.status.idle": "2023-10-18T12:26:04.240836Z",
     "shell.execute_reply": "2023-10-18T12:26:04.240215Z"
    },
    "papermill": {
     "duration": 0.015333,
     "end_time": "2023-10-18T12:26:04.242658",
     "exception": false,
     "start_time": "2023-10-18T12:26:04.227325",
     "status": "completed"
    },
    "tags": []
   },
   "outputs": [],
   "source": [
    "batches = gen.flow(X_train, y_train, batch_size=64)\n",
    "val_batches=gen.flow(X_test, y_test, batch_size=64)"
   ]
  },
  {
   "cell_type": "code",
   "execution_count": 19,
   "id": "cd52e72d",
   "metadata": {
    "execution": {
     "iopub.execute_input": "2023-10-18T12:26:04.319229Z",
     "iopub.status.busy": "2023-10-18T12:26:04.318586Z",
     "iopub.status.idle": "2023-10-18T12:26:04.321963Z",
     "shell.execute_reply": "2023-10-18T12:26:04.321336Z"
    },
    "jupyter": {
     "source_hidden": true
    },
    "papermill": {
     "duration": 0.014748,
     "end_time": "2023-10-18T12:26:04.323759",
     "exception": false,
     "start_time": "2023-10-18T12:26:04.309011",
     "status": "completed"
    },
    "tags": []
   },
   "outputs": [],
   "source": [
    "# Convert to TensorFlow Dataset\n",
    "# train_ds = tf.data.Dataset.from_tensor_slices((X_train, y_train))\n",
    "# test_ds = tf.data.Dataset.from_tensor_slices((X_test, y_test))\n"
   ]
  },
  {
   "cell_type": "code",
   "execution_count": 20,
   "id": "98f53099",
   "metadata": {
    "execution": {
     "iopub.execute_input": "2023-10-18T12:26:04.341479Z",
     "iopub.status.busy": "2023-10-18T12:26:04.341089Z",
     "iopub.status.idle": "2023-10-18T12:26:04.345706Z",
     "shell.execute_reply": "2023-10-18T12:26:04.344726Z"
    },
    "jupyter": {
     "source_hidden": true
    },
    "papermill": {
     "duration": 0.015598,
     "end_time": "2023-10-18T12:26:04.347697",
     "exception": false,
     "start_time": "2023-10-18T12:26:04.332099",
     "status": "completed"
    },
    "tags": []
   },
   "outputs": [],
   "source": [
    "# Apply the augmentation\n",
    "# augmented_train_ds = train_ds.map(augment)\n",
    "# augmented_test_ds = test_ds.map(augment)\n",
    "\n",
    "# augmented_train_ds= prepare(train_ds, shuffle=True, augment=True)\n",
    "# augmented_test_ds= prepare(test_ds)"
   ]
  },
  {
   "cell_type": "code",
   "execution_count": 21,
   "id": "cbee7652",
   "metadata": {
    "execution": {
     "iopub.execute_input": "2023-10-18T12:26:04.365637Z",
     "iopub.status.busy": "2023-10-18T12:26:04.364946Z",
     "iopub.status.idle": "2023-10-18T12:26:04.369385Z",
     "shell.execute_reply": "2023-10-18T12:26:04.368407Z"
    },
    "jupyter": {
     "source_hidden": true
    },
    "papermill": {
     "duration": 0.015639,
     "end_time": "2023-10-18T12:26:04.371407",
     "exception": false,
     "start_time": "2023-10-18T12:26:04.355768",
     "status": "completed"
    },
    "tags": []
   },
   "outputs": [],
   "source": [
    "# Batch the data\n",
    "# augmented_train_ds = augmented_train_ds.batch(64)\n",
    "# augmented_test_ds = augmented_train_ds.batch(64)"
   ]
  },
  {
   "cell_type": "markdown",
   "id": "46978e26",
   "metadata": {
    "papermill": {
     "duration": 0.007907,
     "end_time": "2023-10-18T12:26:04.387997",
     "exception": false,
     "start_time": "2023-10-18T12:26:04.380090",
     "status": "completed"
    },
    "tags": []
   },
   "source": [
    "# Build the Model"
   ]
  },
  {
   "cell_type": "code",
   "execution_count": 22,
   "id": "a7a3ed7c",
   "metadata": {
    "execution": {
     "iopub.execute_input": "2023-10-18T12:26:04.406372Z",
     "iopub.status.busy": "2023-10-18T12:26:04.405232Z",
     "iopub.status.idle": "2023-10-18T12:26:04.506825Z",
     "shell.execute_reply": "2023-10-18T12:26:04.505855Z"
    },
    "papermill": {
     "duration": 0.113172,
     "end_time": "2023-10-18T12:26:04.509205",
     "exception": false,
     "start_time": "2023-10-18T12:26:04.396033",
     "status": "completed"
    },
    "tags": []
   },
   "outputs": [],
   "source": [
    "# Adding layers to model Keras Linear model\n",
    "model = Sequential()\n",
    "# model.add(img_aug) # will only apply durning model.fit, not in predict or evaluate\n",
    "model.add(Flatten())\n",
    "model.add(Dense(64, activation='relu'))\n",
    "model.add(Dense(target_classes, activation='softmax')) "
   ]
  },
  {
   "cell_type": "code",
   "execution_count": 23,
   "id": "b84f36c2",
   "metadata": {
    "execution": {
     "iopub.execute_input": "2023-10-18T12:26:04.527183Z",
     "iopub.status.busy": "2023-10-18T12:26:04.526827Z",
     "iopub.status.idle": "2023-10-18T12:26:04.552780Z",
     "shell.execute_reply": "2023-10-18T12:26:04.551869Z"
    },
    "papermill": {
     "duration": 0.037453,
     "end_time": "2023-10-18T12:26:04.555036",
     "exception": false,
     "start_time": "2023-10-18T12:26:04.517583",
     "status": "completed"
    },
    "tags": []
   },
   "outputs": [],
   "source": [
    "# Compile model\n",
    "model.compile(optimizer=RMSprop(learning_rate=0.001), loss='categorical_crossentropy', metrics=['accuracy'])"
   ]
  },
  {
   "cell_type": "code",
   "execution_count": 24,
   "id": "0a79919c",
   "metadata": {
    "execution": {
     "iopub.execute_input": "2023-10-18T12:26:04.572681Z",
     "iopub.status.busy": "2023-10-18T12:26:04.572345Z",
     "iopub.status.idle": "2023-10-18T12:26:08.514396Z",
     "shell.execute_reply": "2023-10-18T12:26:08.513364Z"
    },
    "papermill": {
     "duration": 3.95296,
     "end_time": "2023-10-18T12:26:08.516394",
     "exception": false,
     "start_time": "2023-10-18T12:26:04.563434",
     "status": "completed"
    },
    "tags": []
   },
   "outputs": [
    {
     "name": "stdout",
     "output_type": "stream",
     "text": [
      "37800/37800 [==============================] - 4s 82us/step - loss: 0.3074 - accuracy: 0.9127 - val_loss: 0.2083 - val_accuracy: 0.9390\n"
     ]
    },
    {
     "data": {
      "text/plain": [
       "<keras.callbacks.History at 0x7c901c0ca980>"
      ]
     },
     "execution_count": 24,
     "metadata": {},
     "output_type": "execute_result"
    }
   ],
   "source": [
    "# model.fit(X_train, y_train, epochs=3, batch_size=64)\n",
    "# model.fit(augmented_train_ds,validation_data=augmented_test_ds , epochs=3, batch_size=64)\n",
    "model.fit(batches, steps_per_epoch=batches.n, epochs=1, \n",
    "          validation_data=val_batches, validation_steps=val_batches.n)"
   ]
  },
  {
   "cell_type": "code",
   "execution_count": 25,
   "id": "45e59025",
   "metadata": {
    "execution": {
     "iopub.execute_input": "2023-10-18T12:26:08.540263Z",
     "iopub.status.busy": "2023-10-18T12:26:08.539139Z",
     "iopub.status.idle": "2023-10-18T12:26:08.544479Z",
     "shell.execute_reply": "2023-10-18T12:26:08.543843Z"
    },
    "papermill": {
     "duration": 0.019049,
     "end_time": "2023-10-18T12:26:08.546179",
     "exception": false,
     "start_time": "2023-10-18T12:26:08.527130",
     "status": "completed"
    },
    "tags": []
   },
   "outputs": [],
   "source": [
    "# Fully connected model\n",
    "\n",
    "def fc_model():\n",
    "    model = Sequential()\n",
    "#     model.add(img_aug) # will only apply durning model.fit, not in predict or evaluate\n",
    "    model.add(Flatten())\n",
    "    model.add(Dense(64, activation='relu'))\n",
    "    model.add(Dense(target_classes, activation='softmax'))\n",
    "    model.compile(optimizer=\"adam\", loss='categorical_crossentropy', metrics=['accuracy'])\n",
    "    \n",
    "    return model"
   ]
  },
  {
   "cell_type": "code",
   "execution_count": 26,
   "id": "408b7f95",
   "metadata": {
    "execution": {
     "iopub.execute_input": "2023-10-18T12:26:08.569400Z",
     "iopub.status.busy": "2023-10-18T12:26:08.568408Z",
     "iopub.status.idle": "2023-10-18T12:26:08.585876Z",
     "shell.execute_reply": "2023-10-18T12:26:08.584796Z"
    },
    "papermill": {
     "duration": 0.031244,
     "end_time": "2023-10-18T12:26:08.588065",
     "exception": false,
     "start_time": "2023-10-18T12:26:08.556821",
     "status": "completed"
    },
    "tags": []
   },
   "outputs": [],
   "source": [
    "model = fc_model()\n",
    "model.optimizer.learning_rate=0.001\n",
    "# model.summary()"
   ]
  },
  {
   "cell_type": "code",
   "execution_count": 27,
   "id": "fa381bb6",
   "metadata": {
    "execution": {
     "iopub.execute_input": "2023-10-18T12:26:08.611136Z",
     "iopub.status.busy": "2023-10-18T12:26:08.610781Z",
     "iopub.status.idle": "2023-10-18T12:26:12.128124Z",
     "shell.execute_reply": "2023-10-18T12:26:12.126085Z"
    },
    "papermill": {
     "duration": 3.532615,
     "end_time": "2023-10-18T12:26:12.131502",
     "exception": false,
     "start_time": "2023-10-18T12:26:08.598887",
     "status": "completed"
    },
    "tags": []
   },
   "outputs": [
    {
     "name": "stdout",
     "output_type": "stream",
     "text": [
      "37800/37800 [==============================] - 3s 76us/step - loss: 0.3381 - accuracy: 0.9020 - val_loss: 0.2064 - val_accuracy: 0.9402\n"
     ]
    },
    {
     "data": {
      "text/plain": [
       "<keras.callbacks.History at 0x7c9019b2dbd0>"
      ]
     },
     "execution_count": 27,
     "metadata": {},
     "output_type": "execute_result"
    }
   ],
   "source": [
    "# model.fit(X_train, y_train, epochs=3, batch_size=64)\n",
    "# model.fit(augmented_train_ds,validation_data=augmented_test_ds , epochs=3,)\n",
    "model.fit(batches, steps_per_epoch=batches.n, epochs=1, \n",
    "                    validation_data=val_batches, validation_steps=val_batches.n)"
   ]
  },
  {
   "cell_type": "code",
   "execution_count": 28,
   "id": "92eb9985",
   "metadata": {
    "execution": {
     "iopub.execute_input": "2023-10-18T12:26:12.165380Z",
     "iopub.status.busy": "2023-10-18T12:26:12.164568Z",
     "iopub.status.idle": "2023-10-18T12:26:12.175540Z",
     "shell.execute_reply": "2023-10-18T12:26:12.174205Z"
    },
    "papermill": {
     "duration": 0.030482,
     "end_time": "2023-10-18T12:26:12.177999",
     "exception": false,
     "start_time": "2023-10-18T12:26:12.147517",
     "status": "completed"
    },
    "tags": []
   },
   "outputs": [],
   "source": [
    "# CNN\n",
    "def cv_model():\n",
    "    model = tf.keras.Sequential()\n",
    "    model.add(Conv2D(32, kernel_size=(3, 3), activation='relu',)),\n",
    "    model.add(MaxPooling2D()),\n",
    "    model.add(Conv2D(32, kernel_size=(3, 3), activation='relu')),\n",
    "    model.add(MaxPooling2D()),\n",
    "    model.add(Conv2D(64, kernel_size=(3, 3), activation='relu')),\n",
    "    model.add(MaxPooling2D()),\n",
    "    model.add(Flatten()),\n",
    "    model.add(Dense(128, activation='relu')),\n",
    "    model.add(Dense(target_classes, activation='softmax'))\n",
    "    \n",
    "    model.compile(optimizer=\"adam\", loss='categorical_crossentropy', metrics=['accuracy'])\n",
    "    \n",
    "    return model\n"
   ]
  },
  {
   "cell_type": "code",
   "execution_count": 29,
   "id": "d194300a",
   "metadata": {
    "execution": {
     "iopub.execute_input": "2023-10-18T12:26:12.206523Z",
     "iopub.status.busy": "2023-10-18T12:26:12.206190Z",
     "iopub.status.idle": "2023-10-18T12:26:12.230175Z",
     "shell.execute_reply": "2023-10-18T12:26:12.229340Z"
    },
    "papermill": {
     "duration": 0.040792,
     "end_time": "2023-10-18T12:26:12.232418",
     "exception": false,
     "start_time": "2023-10-18T12:26:12.191626",
     "status": "completed"
    },
    "tags": []
   },
   "outputs": [],
   "source": [
    "model = cv_model()\n",
    "model.optimizer.learning_rate=0.01\n",
    "# model.summary()"
   ]
  },
  {
   "cell_type": "code",
   "execution_count": 30,
   "id": "9963c610",
   "metadata": {
    "execution": {
     "iopub.execute_input": "2023-10-18T12:26:12.260575Z",
     "iopub.status.busy": "2023-10-18T12:26:12.260244Z",
     "iopub.status.idle": "2023-10-18T12:26:33.891020Z",
     "shell.execute_reply": "2023-10-18T12:26:33.890017Z"
    },
    "papermill": {
     "duration": 21.647126,
     "end_time": "2023-10-18T12:26:33.892870",
     "exception": false,
     "start_time": "2023-10-18T12:26:12.245744",
     "status": "completed"
    },
    "tags": []
   },
   "outputs": [
    {
     "name": "stdout",
     "output_type": "stream",
     "text": [
      "37800/37800 [==============================] - 17s 415us/step - loss: 0.2567 - accuracy: 0.9212 - val_loss: 0.1200 - val_accuracy: 0.9643\n"
     ]
    },
    {
     "data": {
      "text/plain": [
       "<keras.callbacks.History at 0x7c90198da110>"
      ]
     },
     "execution_count": 30,
     "metadata": {},
     "output_type": "execute_result"
    }
   ],
   "source": [
    "# model.fit(X_train, y_train, epochs=3, batch_size=64)\n",
    "# model.fit(augmented_train_ds,validation_data=augmented_test_ds , epochs=3,)\n",
    "model.fit(batches, steps_per_epoch=batches.n, epochs=1, \n",
    "                    validation_data=val_batches, validation_steps=val_batches.n)"
   ]
  },
  {
   "cell_type": "code",
   "execution_count": null,
   "id": "e35a29c8",
   "metadata": {
    "papermill": {
     "duration": 0.024801,
     "end_time": "2023-10-18T12:26:33.943254",
     "exception": false,
     "start_time": "2023-10-18T12:26:33.918453",
     "status": "completed"
    },
    "tags": []
   },
   "outputs": [],
   "source": []
  }
 ],
 "metadata": {
  "kernelspec": {
   "display_name": "Python 3",
   "language": "python",
   "name": "python3"
  },
  "language_info": {
   "codemirror_mode": {
    "name": "ipython",
    "version": 3
   },
   "file_extension": ".py",
   "mimetype": "text/x-python",
   "name": "python",
   "nbconvert_exporter": "python",
   "pygments_lexer": "ipython3",
   "version": "3.10.12"
  },
  "papermill": {
   "default_parameters": {},
   "duration": 53.28097,
   "end_time": "2023-10-18T12:26:36.216685",
   "environment_variables": {},
   "exception": null,
   "input_path": "__notebook__.ipynb",
   "output_path": "__notebook__.ipynb",
   "parameters": {},
   "start_time": "2023-10-18T12:25:42.935715",
   "version": "2.4.0"
  }
 },
 "nbformat": 4,
 "nbformat_minor": 5
}
