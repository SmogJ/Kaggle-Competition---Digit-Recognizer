{
 "cells": [
  {
   "cell_type": "code",
   "execution_count": 1,
   "id": "20c5f887",
   "metadata": {
    "_cell_guid": "b1076dfc-b9ad-4769-8c92-a6c4dae69d19",
    "_uuid": "8f2839f25d086af736a60e9eeb907d3b93b6e0e5",
    "execution": {
     "iopub.execute_input": "2023-10-16T17:11:47.313062Z",
     "iopub.status.busy": "2023-10-16T17:11:47.312347Z",
     "iopub.status.idle": "2023-10-16T17:11:58.111444Z",
     "shell.execute_reply": "2023-10-16T17:11:58.110118Z"
    },
    "papermill": {
     "duration": 10.808699,
     "end_time": "2023-10-16T17:11:58.113784",
     "exception": false,
     "start_time": "2023-10-16T17:11:47.305085",
     "status": "completed"
    },
    "tags": []
   },
   "outputs": [
    {
     "name": "stdout",
     "output_type": "stream",
     "text": [
      "/kaggle/input/digit-recognizer/sample_submission.csv\n",
      "/kaggle/input/digit-recognizer/train.csv\n",
      "/kaggle/input/digit-recognizer/test.csv\n"
     ]
    }
   ],
   "source": [
    "# This Python 3 environment comes with many helpful analytics libraries installed\n",
    "# It is defined by the kaggle/python Docker image: https://github.com/kaggle/docker-python\n",
    "# For example, here's several helpful packages to load\n",
    "\n",
    "import numpy as np \n",
    "import pandas as pd\n",
    "\n",
    "import matplotlib.pyplot as plt\n",
    "%matplotlib inline\n",
    "\n",
    "from sklearn.preprocessing import StandardScaler\n",
    "from skimage.feature import hog\n",
    "from skimage import exposure\n",
    "from sklearn.decomposition import PCA\n",
    "from sklearn.model_selection import train_test_split\n",
    "\n",
    "from keras.utils import to_categorical\n",
    "from keras.models import Sequential\n",
    "from keras.layers import Dense, Flatten\n",
    "from keras.optimizers import RMSprop\n",
    "\n",
    "# Input data files are available in the read-only \"../input/\" directory\n",
    "# For example, running this (by clicking run or pressing Shift+Enter) will list all files under the input directory\n",
    "\n",
    "import os\n",
    "for dirname, _, filenames in os.walk('/kaggle/input'):\n",
    "    for filename in filenames:\n",
    "        print(os.path.join(dirname, filename))\n",
    "\n",
    "# You can write up to 20GB to the current directory (/kaggle/working/) that gets preserved as output when you create a version using \"Save & Run All\" \n",
    "# You can also write temporary files to /kaggle/temp/, but they won't be saved outside of the current session"
   ]
  },
  {
   "cell_type": "markdown",
   "id": "09383c11",
   "metadata": {
    "papermill": {
     "duration": 0.004308,
     "end_time": "2023-10-16T17:11:58.122912",
     "exception": false,
     "start_time": "2023-10-16T17:11:58.118604",
     "status": "completed"
    },
    "tags": []
   },
   "source": [
    "# Load Datasets"
   ]
  },
  {
   "cell_type": "code",
   "execution_count": 2,
   "id": "6b70c6fb",
   "metadata": {
    "execution": {
     "iopub.execute_input": "2023-10-16T17:11:58.133502Z",
     "iopub.status.busy": "2023-10-16T17:11:58.132835Z",
     "iopub.status.idle": "2023-10-16T17:12:03.280828Z",
     "shell.execute_reply": "2023-10-16T17:12:03.279627Z"
    },
    "papermill": {
     "duration": 5.155749,
     "end_time": "2023-10-16T17:12:03.283050",
     "exception": false,
     "start_time": "2023-10-16T17:11:58.127301",
     "status": "completed"
    },
    "tags": []
   },
   "outputs": [],
   "source": [
    "# Import data into a dataframe\n",
    "train= pd.read_csv(\"/kaggle/input/digit-recognizer/train.csv\")\n",
    "test= pd.read_csv(\"/kaggle/input/digit-recognizer/test.csv\")"
   ]
  },
  {
   "cell_type": "code",
   "execution_count": 3,
   "id": "4f0516b7",
   "metadata": {
    "execution": {
     "iopub.execute_input": "2023-10-16T17:12:03.296315Z",
     "iopub.status.busy": "2023-10-16T17:12:03.295454Z",
     "iopub.status.idle": "2023-10-16T17:12:03.589920Z",
     "shell.execute_reply": "2023-10-16T17:12:03.588602Z"
    },
    "papermill": {
     "duration": 0.303941,
     "end_time": "2023-10-16T17:12:03.592263",
     "exception": false,
     "start_time": "2023-10-16T17:12:03.288322",
     "status": "completed"
    },
    "tags": []
   },
   "outputs": [
    {
     "name": "stdout",
     "output_type": "stream",
     "text": [
      "<class 'pandas.core.frame.DataFrame'>\n",
      "RangeIndex: 42000 entries, 0 to 41999\n",
      "Columns: 785 entries, label to pixel783\n",
      "dtypes: int64(785)\n",
      "memory usage: 251.5 MB\n",
      "Train Data Info: None\n",
      "\n"
     ]
    },
    {
     "data": {
      "text/html": [
       "<div>\n",
       "<style scoped>\n",
       "    .dataframe tbody tr th:only-of-type {\n",
       "        vertical-align: middle;\n",
       "    }\n",
       "\n",
       "    .dataframe tbody tr th {\n",
       "        vertical-align: top;\n",
       "    }\n",
       "\n",
       "    .dataframe thead th {\n",
       "        text-align: right;\n",
       "    }\n",
       "</style>\n",
       "<table border=\"1\" class=\"dataframe\">\n",
       "  <thead>\n",
       "    <tr style=\"text-align: right;\">\n",
       "      <th></th>\n",
       "      <th>label</th>\n",
       "      <th>pixel0</th>\n",
       "      <th>pixel1</th>\n",
       "      <th>pixel2</th>\n",
       "      <th>pixel3</th>\n",
       "      <th>pixel4</th>\n",
       "      <th>pixel5</th>\n",
       "      <th>pixel6</th>\n",
       "      <th>pixel7</th>\n",
       "      <th>pixel8</th>\n",
       "      <th>...</th>\n",
       "      <th>pixel774</th>\n",
       "      <th>pixel775</th>\n",
       "      <th>pixel776</th>\n",
       "      <th>pixel777</th>\n",
       "      <th>pixel778</th>\n",
       "      <th>pixel779</th>\n",
       "      <th>pixel780</th>\n",
       "      <th>pixel781</th>\n",
       "      <th>pixel782</th>\n",
       "      <th>pixel783</th>\n",
       "    </tr>\n",
       "  </thead>\n",
       "  <tbody>\n",
       "    <tr>\n",
       "      <th>0</th>\n",
       "      <td>1</td>\n",
       "      <td>0</td>\n",
       "      <td>0</td>\n",
       "      <td>0</td>\n",
       "      <td>0</td>\n",
       "      <td>0</td>\n",
       "      <td>0</td>\n",
       "      <td>0</td>\n",
       "      <td>0</td>\n",
       "      <td>0</td>\n",
       "      <td>...</td>\n",
       "      <td>0</td>\n",
       "      <td>0</td>\n",
       "      <td>0</td>\n",
       "      <td>0</td>\n",
       "      <td>0</td>\n",
       "      <td>0</td>\n",
       "      <td>0</td>\n",
       "      <td>0</td>\n",
       "      <td>0</td>\n",
       "      <td>0</td>\n",
       "    </tr>\n",
       "    <tr>\n",
       "      <th>1</th>\n",
       "      <td>0</td>\n",
       "      <td>0</td>\n",
       "      <td>0</td>\n",
       "      <td>0</td>\n",
       "      <td>0</td>\n",
       "      <td>0</td>\n",
       "      <td>0</td>\n",
       "      <td>0</td>\n",
       "      <td>0</td>\n",
       "      <td>0</td>\n",
       "      <td>...</td>\n",
       "      <td>0</td>\n",
       "      <td>0</td>\n",
       "      <td>0</td>\n",
       "      <td>0</td>\n",
       "      <td>0</td>\n",
       "      <td>0</td>\n",
       "      <td>0</td>\n",
       "      <td>0</td>\n",
       "      <td>0</td>\n",
       "      <td>0</td>\n",
       "    </tr>\n",
       "    <tr>\n",
       "      <th>2</th>\n",
       "      <td>1</td>\n",
       "      <td>0</td>\n",
       "      <td>0</td>\n",
       "      <td>0</td>\n",
       "      <td>0</td>\n",
       "      <td>0</td>\n",
       "      <td>0</td>\n",
       "      <td>0</td>\n",
       "      <td>0</td>\n",
       "      <td>0</td>\n",
       "      <td>...</td>\n",
       "      <td>0</td>\n",
       "      <td>0</td>\n",
       "      <td>0</td>\n",
       "      <td>0</td>\n",
       "      <td>0</td>\n",
       "      <td>0</td>\n",
       "      <td>0</td>\n",
       "      <td>0</td>\n",
       "      <td>0</td>\n",
       "      <td>0</td>\n",
       "    </tr>\n",
       "    <tr>\n",
       "      <th>3</th>\n",
       "      <td>4</td>\n",
       "      <td>0</td>\n",
       "      <td>0</td>\n",
       "      <td>0</td>\n",
       "      <td>0</td>\n",
       "      <td>0</td>\n",
       "      <td>0</td>\n",
       "      <td>0</td>\n",
       "      <td>0</td>\n",
       "      <td>0</td>\n",
       "      <td>...</td>\n",
       "      <td>0</td>\n",
       "      <td>0</td>\n",
       "      <td>0</td>\n",
       "      <td>0</td>\n",
       "      <td>0</td>\n",
       "      <td>0</td>\n",
       "      <td>0</td>\n",
       "      <td>0</td>\n",
       "      <td>0</td>\n",
       "      <td>0</td>\n",
       "    </tr>\n",
       "    <tr>\n",
       "      <th>4</th>\n",
       "      <td>0</td>\n",
       "      <td>0</td>\n",
       "      <td>0</td>\n",
       "      <td>0</td>\n",
       "      <td>0</td>\n",
       "      <td>0</td>\n",
       "      <td>0</td>\n",
       "      <td>0</td>\n",
       "      <td>0</td>\n",
       "      <td>0</td>\n",
       "      <td>...</td>\n",
       "      <td>0</td>\n",
       "      <td>0</td>\n",
       "      <td>0</td>\n",
       "      <td>0</td>\n",
       "      <td>0</td>\n",
       "      <td>0</td>\n",
       "      <td>0</td>\n",
       "      <td>0</td>\n",
       "      <td>0</td>\n",
       "      <td>0</td>\n",
       "    </tr>\n",
       "  </tbody>\n",
       "</table>\n",
       "<p>5 rows × 785 columns</p>\n",
       "</div>"
      ],
      "text/plain": [
       "   label  pixel0  pixel1  pixel2  pixel3  pixel4  pixel5  pixel6  pixel7  \\\n",
       "0      1       0       0       0       0       0       0       0       0   \n",
       "1      0       0       0       0       0       0       0       0       0   \n",
       "2      1       0       0       0       0       0       0       0       0   \n",
       "3      4       0       0       0       0       0       0       0       0   \n",
       "4      0       0       0       0       0       0       0       0       0   \n",
       "\n",
       "   pixel8  ...  pixel774  pixel775  pixel776  pixel777  pixel778  pixel779  \\\n",
       "0       0  ...         0         0         0         0         0         0   \n",
       "1       0  ...         0         0         0         0         0         0   \n",
       "2       0  ...         0         0         0         0         0         0   \n",
       "3       0  ...         0         0         0         0         0         0   \n",
       "4       0  ...         0         0         0         0         0         0   \n",
       "\n",
       "   pixel780  pixel781  pixel782  pixel783  \n",
       "0         0         0         0         0  \n",
       "1         0         0         0         0  \n",
       "2         0         0         0         0  \n",
       "3         0         0         0         0  \n",
       "4         0         0         0         0  \n",
       "\n",
       "[5 rows x 785 columns]"
      ]
     },
     "execution_count": 3,
     "metadata": {},
     "output_type": "execute_result"
    }
   ],
   "source": [
    "print(f\"Train Data Info: {train.info()}\\n\")\n",
    "train.head()"
   ]
  },
  {
   "cell_type": "code",
   "execution_count": 4,
   "id": "62a0da35",
   "metadata": {
    "execution": {
     "iopub.execute_input": "2023-10-16T17:12:03.604081Z",
     "iopub.status.busy": "2023-10-16T17:12:03.603721Z",
     "iopub.status.idle": "2023-10-16T17:12:03.648134Z",
     "shell.execute_reply": "2023-10-16T17:12:03.647071Z"
    },
    "papermill": {
     "duration": 0.052846,
     "end_time": "2023-10-16T17:12:03.650234",
     "exception": false,
     "start_time": "2023-10-16T17:12:03.597388",
     "status": "completed"
    },
    "tags": []
   },
   "outputs": [
    {
     "name": "stdout",
     "output_type": "stream",
     "text": [
      "<class 'pandas.core.frame.DataFrame'>\n",
      "RangeIndex: 28000 entries, 0 to 27999\n",
      "Columns: 784 entries, pixel0 to pixel783\n",
      "dtypes: int64(784)\n",
      "memory usage: 167.5 MB\n",
      "Test Data Info: None\n",
      "\n"
     ]
    },
    {
     "data": {
      "text/html": [
       "<div>\n",
       "<style scoped>\n",
       "    .dataframe tbody tr th:only-of-type {\n",
       "        vertical-align: middle;\n",
       "    }\n",
       "\n",
       "    .dataframe tbody tr th {\n",
       "        vertical-align: top;\n",
       "    }\n",
       "\n",
       "    .dataframe thead th {\n",
       "        text-align: right;\n",
       "    }\n",
       "</style>\n",
       "<table border=\"1\" class=\"dataframe\">\n",
       "  <thead>\n",
       "    <tr style=\"text-align: right;\">\n",
       "      <th></th>\n",
       "      <th>pixel0</th>\n",
       "      <th>pixel1</th>\n",
       "      <th>pixel2</th>\n",
       "      <th>pixel3</th>\n",
       "      <th>pixel4</th>\n",
       "      <th>pixel5</th>\n",
       "      <th>pixel6</th>\n",
       "      <th>pixel7</th>\n",
       "      <th>pixel8</th>\n",
       "      <th>pixel9</th>\n",
       "      <th>...</th>\n",
       "      <th>pixel774</th>\n",
       "      <th>pixel775</th>\n",
       "      <th>pixel776</th>\n",
       "      <th>pixel777</th>\n",
       "      <th>pixel778</th>\n",
       "      <th>pixel779</th>\n",
       "      <th>pixel780</th>\n",
       "      <th>pixel781</th>\n",
       "      <th>pixel782</th>\n",
       "      <th>pixel783</th>\n",
       "    </tr>\n",
       "  </thead>\n",
       "  <tbody>\n",
       "    <tr>\n",
       "      <th>0</th>\n",
       "      <td>0</td>\n",
       "      <td>0</td>\n",
       "      <td>0</td>\n",
       "      <td>0</td>\n",
       "      <td>0</td>\n",
       "      <td>0</td>\n",
       "      <td>0</td>\n",
       "      <td>0</td>\n",
       "      <td>0</td>\n",
       "      <td>0</td>\n",
       "      <td>...</td>\n",
       "      <td>0</td>\n",
       "      <td>0</td>\n",
       "      <td>0</td>\n",
       "      <td>0</td>\n",
       "      <td>0</td>\n",
       "      <td>0</td>\n",
       "      <td>0</td>\n",
       "      <td>0</td>\n",
       "      <td>0</td>\n",
       "      <td>0</td>\n",
       "    </tr>\n",
       "    <tr>\n",
       "      <th>1</th>\n",
       "      <td>0</td>\n",
       "      <td>0</td>\n",
       "      <td>0</td>\n",
       "      <td>0</td>\n",
       "      <td>0</td>\n",
       "      <td>0</td>\n",
       "      <td>0</td>\n",
       "      <td>0</td>\n",
       "      <td>0</td>\n",
       "      <td>0</td>\n",
       "      <td>...</td>\n",
       "      <td>0</td>\n",
       "      <td>0</td>\n",
       "      <td>0</td>\n",
       "      <td>0</td>\n",
       "      <td>0</td>\n",
       "      <td>0</td>\n",
       "      <td>0</td>\n",
       "      <td>0</td>\n",
       "      <td>0</td>\n",
       "      <td>0</td>\n",
       "    </tr>\n",
       "    <tr>\n",
       "      <th>2</th>\n",
       "      <td>0</td>\n",
       "      <td>0</td>\n",
       "      <td>0</td>\n",
       "      <td>0</td>\n",
       "      <td>0</td>\n",
       "      <td>0</td>\n",
       "      <td>0</td>\n",
       "      <td>0</td>\n",
       "      <td>0</td>\n",
       "      <td>0</td>\n",
       "      <td>...</td>\n",
       "      <td>0</td>\n",
       "      <td>0</td>\n",
       "      <td>0</td>\n",
       "      <td>0</td>\n",
       "      <td>0</td>\n",
       "      <td>0</td>\n",
       "      <td>0</td>\n",
       "      <td>0</td>\n",
       "      <td>0</td>\n",
       "      <td>0</td>\n",
       "    </tr>\n",
       "    <tr>\n",
       "      <th>3</th>\n",
       "      <td>0</td>\n",
       "      <td>0</td>\n",
       "      <td>0</td>\n",
       "      <td>0</td>\n",
       "      <td>0</td>\n",
       "      <td>0</td>\n",
       "      <td>0</td>\n",
       "      <td>0</td>\n",
       "      <td>0</td>\n",
       "      <td>0</td>\n",
       "      <td>...</td>\n",
       "      <td>0</td>\n",
       "      <td>0</td>\n",
       "      <td>0</td>\n",
       "      <td>0</td>\n",
       "      <td>0</td>\n",
       "      <td>0</td>\n",
       "      <td>0</td>\n",
       "      <td>0</td>\n",
       "      <td>0</td>\n",
       "      <td>0</td>\n",
       "    </tr>\n",
       "    <tr>\n",
       "      <th>4</th>\n",
       "      <td>0</td>\n",
       "      <td>0</td>\n",
       "      <td>0</td>\n",
       "      <td>0</td>\n",
       "      <td>0</td>\n",
       "      <td>0</td>\n",
       "      <td>0</td>\n",
       "      <td>0</td>\n",
       "      <td>0</td>\n",
       "      <td>0</td>\n",
       "      <td>...</td>\n",
       "      <td>0</td>\n",
       "      <td>0</td>\n",
       "      <td>0</td>\n",
       "      <td>0</td>\n",
       "      <td>0</td>\n",
       "      <td>0</td>\n",
       "      <td>0</td>\n",
       "      <td>0</td>\n",
       "      <td>0</td>\n",
       "      <td>0</td>\n",
       "    </tr>\n",
       "  </tbody>\n",
       "</table>\n",
       "<p>5 rows × 784 columns</p>\n",
       "</div>"
      ],
      "text/plain": [
       "   pixel0  pixel1  pixel2  pixel3  pixel4  pixel5  pixel6  pixel7  pixel8  \\\n",
       "0       0       0       0       0       0       0       0       0       0   \n",
       "1       0       0       0       0       0       0       0       0       0   \n",
       "2       0       0       0       0       0       0       0       0       0   \n",
       "3       0       0       0       0       0       0       0       0       0   \n",
       "4       0       0       0       0       0       0       0       0       0   \n",
       "\n",
       "   pixel9  ...  pixel774  pixel775  pixel776  pixel777  pixel778  pixel779  \\\n",
       "0       0  ...         0         0         0         0         0         0   \n",
       "1       0  ...         0         0         0         0         0         0   \n",
       "2       0  ...         0         0         0         0         0         0   \n",
       "3       0  ...         0         0         0         0         0         0   \n",
       "4       0  ...         0         0         0         0         0         0   \n",
       "\n",
       "   pixel780  pixel781  pixel782  pixel783  \n",
       "0         0         0         0         0  \n",
       "1         0         0         0         0  \n",
       "2         0         0         0         0  \n",
       "3         0         0         0         0  \n",
       "4         0         0         0         0  \n",
       "\n",
       "[5 rows x 784 columns]"
      ]
     },
     "execution_count": 4,
     "metadata": {},
     "output_type": "execute_result"
    }
   ],
   "source": [
    "print(f\"Test Data Info: {test.info()}\\n\")\n",
    "test.head()"
   ]
  },
  {
   "cell_type": "code",
   "execution_count": 5,
   "id": "ad64764c",
   "metadata": {
    "execution": {
     "iopub.execute_input": "2023-10-16T17:12:03.662713Z",
     "iopub.status.busy": "2023-10-16T17:12:03.662351Z",
     "iopub.status.idle": "2023-10-16T17:12:03.792297Z",
     "shell.execute_reply": "2023-10-16T17:12:03.791060Z"
    },
    "papermill": {
     "duration": 0.138883,
     "end_time": "2023-10-16T17:12:03.794597",
     "exception": false,
     "start_time": "2023-10-16T17:12:03.655714",
     "status": "completed"
    },
    "tags": []
   },
   "outputs": [],
   "source": [
    "target= train[\"label\"]\n",
    "features= train.drop(\"label\", axis=1)"
   ]
  },
  {
   "cell_type": "markdown",
   "id": "a28e0b6e",
   "metadata": {
    "papermill": {
     "duration": 0.005176,
     "end_time": "2023-10-16T17:12:03.805403",
     "exception": false,
     "start_time": "2023-10-16T17:12:03.800227",
     "status": "completed"
    },
    "tags": []
   },
   "source": [
    "# Split Training Dataset to Targets and Features"
   ]
  },
  {
   "cell_type": "code",
   "execution_count": 6,
   "id": "75906d74",
   "metadata": {
    "execution": {
     "iopub.execute_input": "2023-10-16T17:12:03.818013Z",
     "iopub.status.busy": "2023-10-16T17:12:03.817436Z",
     "iopub.status.idle": "2023-10-16T17:12:03.944761Z",
     "shell.execute_reply": "2023-10-16T17:12:03.943773Z"
    },
    "papermill": {
     "duration": 0.13688,
     "end_time": "2023-10-16T17:12:03.947723",
     "exception": false,
     "start_time": "2023-10-16T17:12:03.810843",
     "status": "completed"
    },
    "tags": []
   },
   "outputs": [],
   "source": [
    "target= train[\"label\"]\n",
    "features= train.drop(\"label\", axis=1)"
   ]
  },
  {
   "cell_type": "code",
   "execution_count": 7,
   "id": "95f2cefc",
   "metadata": {
    "execution": {
     "iopub.execute_input": "2023-10-16T17:12:03.968362Z",
     "iopub.status.busy": "2023-10-16T17:12:03.967683Z",
     "iopub.status.idle": "2023-10-16T17:12:03.983979Z",
     "shell.execute_reply": "2023-10-16T17:12:03.982934Z"
    },
    "papermill": {
     "duration": 0.028246,
     "end_time": "2023-10-16T17:12:03.985929",
     "exception": false,
     "start_time": "2023-10-16T17:12:03.957683",
     "status": "completed"
    },
    "tags": []
   },
   "outputs": [
    {
     "name": "stdout",
     "output_type": "stream",
     "text": [
      "0    1\n",
      "1    0\n",
      "2    1\n",
      "3    4\n",
      "4    0\n",
      "Name: label, dtype: int64\n"
     ]
    },
    {
     "data": {
      "text/html": [
       "<div>\n",
       "<style scoped>\n",
       "    .dataframe tbody tr th:only-of-type {\n",
       "        vertical-align: middle;\n",
       "    }\n",
       "\n",
       "    .dataframe tbody tr th {\n",
       "        vertical-align: top;\n",
       "    }\n",
       "\n",
       "    .dataframe thead th {\n",
       "        text-align: right;\n",
       "    }\n",
       "</style>\n",
       "<table border=\"1\" class=\"dataframe\">\n",
       "  <thead>\n",
       "    <tr style=\"text-align: right;\">\n",
       "      <th></th>\n",
       "      <th>pixel0</th>\n",
       "      <th>pixel1</th>\n",
       "      <th>pixel2</th>\n",
       "      <th>pixel3</th>\n",
       "      <th>pixel4</th>\n",
       "      <th>pixel5</th>\n",
       "      <th>pixel6</th>\n",
       "      <th>pixel7</th>\n",
       "      <th>pixel8</th>\n",
       "      <th>pixel9</th>\n",
       "      <th>...</th>\n",
       "      <th>pixel774</th>\n",
       "      <th>pixel775</th>\n",
       "      <th>pixel776</th>\n",
       "      <th>pixel777</th>\n",
       "      <th>pixel778</th>\n",
       "      <th>pixel779</th>\n",
       "      <th>pixel780</th>\n",
       "      <th>pixel781</th>\n",
       "      <th>pixel782</th>\n",
       "      <th>pixel783</th>\n",
       "    </tr>\n",
       "  </thead>\n",
       "  <tbody>\n",
       "    <tr>\n",
       "      <th>0</th>\n",
       "      <td>0</td>\n",
       "      <td>0</td>\n",
       "      <td>0</td>\n",
       "      <td>0</td>\n",
       "      <td>0</td>\n",
       "      <td>0</td>\n",
       "      <td>0</td>\n",
       "      <td>0</td>\n",
       "      <td>0</td>\n",
       "      <td>0</td>\n",
       "      <td>...</td>\n",
       "      <td>0</td>\n",
       "      <td>0</td>\n",
       "      <td>0</td>\n",
       "      <td>0</td>\n",
       "      <td>0</td>\n",
       "      <td>0</td>\n",
       "      <td>0</td>\n",
       "      <td>0</td>\n",
       "      <td>0</td>\n",
       "      <td>0</td>\n",
       "    </tr>\n",
       "    <tr>\n",
       "      <th>1</th>\n",
       "      <td>0</td>\n",
       "      <td>0</td>\n",
       "      <td>0</td>\n",
       "      <td>0</td>\n",
       "      <td>0</td>\n",
       "      <td>0</td>\n",
       "      <td>0</td>\n",
       "      <td>0</td>\n",
       "      <td>0</td>\n",
       "      <td>0</td>\n",
       "      <td>...</td>\n",
       "      <td>0</td>\n",
       "      <td>0</td>\n",
       "      <td>0</td>\n",
       "      <td>0</td>\n",
       "      <td>0</td>\n",
       "      <td>0</td>\n",
       "      <td>0</td>\n",
       "      <td>0</td>\n",
       "      <td>0</td>\n",
       "      <td>0</td>\n",
       "    </tr>\n",
       "    <tr>\n",
       "      <th>2</th>\n",
       "      <td>0</td>\n",
       "      <td>0</td>\n",
       "      <td>0</td>\n",
       "      <td>0</td>\n",
       "      <td>0</td>\n",
       "      <td>0</td>\n",
       "      <td>0</td>\n",
       "      <td>0</td>\n",
       "      <td>0</td>\n",
       "      <td>0</td>\n",
       "      <td>...</td>\n",
       "      <td>0</td>\n",
       "      <td>0</td>\n",
       "      <td>0</td>\n",
       "      <td>0</td>\n",
       "      <td>0</td>\n",
       "      <td>0</td>\n",
       "      <td>0</td>\n",
       "      <td>0</td>\n",
       "      <td>0</td>\n",
       "      <td>0</td>\n",
       "    </tr>\n",
       "    <tr>\n",
       "      <th>3</th>\n",
       "      <td>0</td>\n",
       "      <td>0</td>\n",
       "      <td>0</td>\n",
       "      <td>0</td>\n",
       "      <td>0</td>\n",
       "      <td>0</td>\n",
       "      <td>0</td>\n",
       "      <td>0</td>\n",
       "      <td>0</td>\n",
       "      <td>0</td>\n",
       "      <td>...</td>\n",
       "      <td>0</td>\n",
       "      <td>0</td>\n",
       "      <td>0</td>\n",
       "      <td>0</td>\n",
       "      <td>0</td>\n",
       "      <td>0</td>\n",
       "      <td>0</td>\n",
       "      <td>0</td>\n",
       "      <td>0</td>\n",
       "      <td>0</td>\n",
       "    </tr>\n",
       "    <tr>\n",
       "      <th>4</th>\n",
       "      <td>0</td>\n",
       "      <td>0</td>\n",
       "      <td>0</td>\n",
       "      <td>0</td>\n",
       "      <td>0</td>\n",
       "      <td>0</td>\n",
       "      <td>0</td>\n",
       "      <td>0</td>\n",
       "      <td>0</td>\n",
       "      <td>0</td>\n",
       "      <td>...</td>\n",
       "      <td>0</td>\n",
       "      <td>0</td>\n",
       "      <td>0</td>\n",
       "      <td>0</td>\n",
       "      <td>0</td>\n",
       "      <td>0</td>\n",
       "      <td>0</td>\n",
       "      <td>0</td>\n",
       "      <td>0</td>\n",
       "      <td>0</td>\n",
       "    </tr>\n",
       "  </tbody>\n",
       "</table>\n",
       "<p>5 rows × 784 columns</p>\n",
       "</div>"
      ],
      "text/plain": [
       "   pixel0  pixel1  pixel2  pixel3  pixel4  pixel5  pixel6  pixel7  pixel8  \\\n",
       "0       0       0       0       0       0       0       0       0       0   \n",
       "1       0       0       0       0       0       0       0       0       0   \n",
       "2       0       0       0       0       0       0       0       0       0   \n",
       "3       0       0       0       0       0       0       0       0       0   \n",
       "4       0       0       0       0       0       0       0       0       0   \n",
       "\n",
       "   pixel9  ...  pixel774  pixel775  pixel776  pixel777  pixel778  pixel779  \\\n",
       "0       0  ...         0         0         0         0         0         0   \n",
       "1       0  ...         0         0         0         0         0         0   \n",
       "2       0  ...         0         0         0         0         0         0   \n",
       "3       0  ...         0         0         0         0         0         0   \n",
       "4       0  ...         0         0         0         0         0         0   \n",
       "\n",
       "   pixel780  pixel781  pixel782  pixel783  \n",
       "0         0         0         0         0  \n",
       "1         0         0         0         0  \n",
       "2         0         0         0         0  \n",
       "3         0         0         0         0  \n",
       "4         0         0         0         0  \n",
       "\n",
       "[5 rows x 784 columns]"
      ]
     },
     "execution_count": 7,
     "metadata": {},
     "output_type": "execute_result"
    }
   ],
   "source": [
    "print(target.head())\n",
    "features.head()"
   ]
  },
  {
   "cell_type": "code",
   "execution_count": 8,
   "id": "5ade210a",
   "metadata": {
    "execution": {
     "iopub.execute_input": "2023-10-16T17:12:03.999435Z",
     "iopub.status.busy": "2023-10-16T17:12:03.999032Z",
     "iopub.status.idle": "2023-10-16T17:12:04.149411Z",
     "shell.execute_reply": "2023-10-16T17:12:04.148325Z"
    },
    "papermill": {
     "duration": 0.160566,
     "end_time": "2023-10-16T17:12:04.152344",
     "exception": false,
     "start_time": "2023-10-16T17:12:03.991778",
     "status": "completed"
    },
    "tags": []
   },
   "outputs": [
    {
     "data": {
      "image/png": "[encoded data removed]",
      "text/plain": [
       "<Figure size 800x600 with 2 Axes>"
      ]
     },
     "metadata": {},
     "output_type": "display_data"
    }
   ],
   "source": [
    "# plot some of the numbers\n",
    "plt.figure(figsize=(8,6))\n",
    "for digit_num in range(0,2):\n",
    "    plt.subplot(5,5,digit_num+1)\n",
    "    grid_data = features.iloc[digit_num].to_numpy().reshape(28,28)  # reshape from 1d to 2d pixel array\n",
    "    plt.imshow(grid_data, interpolation = \"none\", cmap = \"afmhot\")\n",
    "    plt.xticks([])\n",
    "    plt.yticks([])\n",
    "plt.tight_layout()"
   ]
  },
  {
   "cell_type": "markdown",
   "id": "3c77d31d",
   "metadata": {
    "papermill": {
     "duration": 0.010776,
     "end_time": "2023-10-16T17:12:04.174113",
     "exception": false,
     "start_time": "2023-10-16T17:12:04.163337",
     "status": "completed"
    },
    "tags": []
   },
   "source": [
    "# Preprocessing the Datasets"
   ]
  },
  {
   "cell_type": "markdown",
   "id": "94a77893",
   "metadata": {
    "papermill": {
     "duration": 0.01046,
     "end_time": "2023-10-16T17:12:04.195631",
     "exception": false,
     "start_time": "2023-10-16T17:12:04.185171",
     "status": "completed"
    },
    "tags": []
   },
   "source": [
    "#### Features\n",
    "Following my previous notebook I will doing the following using a function.\n",
    "- **Data Noramlization** scales the pixel values to a certain range (usually 0 to 1), which can help with numerical stability and also ensure that all features have the same scale.\n",
    "- **Standardize** makes the features more like standard normally distributed data: Gaussian with zero mean and unit variance\n",
    "- **Scaling Data** is necessary because many machine learning algorithms (especially deep learning algorithms) expect input data in a certain shape."
   ]
  },
  {
   "cell_type": "code",
   "execution_count": 9,
   "id": "7e32e315",
   "metadata": {
    "execution": {
     "iopub.execute_input": "2023-10-16T17:12:04.220394Z",
     "iopub.status.busy": "2023-10-16T17:12:04.219567Z",
     "iopub.status.idle": "2023-10-16T17:12:04.227352Z",
     "shell.execute_reply": "2023-10-16T17:12:04.226219Z"
    },
    "papermill": {
     "duration": 0.023435,
     "end_time": "2023-10-16T17:12:04.230068",
     "exception": false,
     "start_time": "2023-10-16T17:12:04.206633",
     "status": "completed"
    },
    "tags": []
   },
   "outputs": [],
   "source": [
    "def preprocess_data(data):\n",
    "    # Normalize the data\n",
    "    feat_norm = data / 255.0\n",
    "\n",
    "    # Initialize a new StandardScaler instance\n",
    "    scaler = StandardScaler()\n",
    "\n",
    "    # Fit the scaler to the data\n",
    "    scaler.fit(feat_norm)\n",
    "\n",
    "    # Transform the data\n",
    "    feat_scaled = scaler.transform(feat_norm)\n",
    "    \n",
    "    # Reshape the data to 28x28 images\n",
    "    feat_reshape = feat_scaled.reshape(data.shape[0], 28, 28, 1)\n",
    "    \n",
    "    return feat_reshape"
   ]
  },
  {
   "cell_type": "code",
   "execution_count": 10,
   "id": "c0e4a077",
   "metadata": {
    "execution": {
     "iopub.execute_input": "2023-10-16T17:12:04.247304Z",
     "iopub.status.busy": "2023-10-16T17:12:04.246607Z",
     "iopub.status.idle": "2023-10-16T17:12:05.143527Z",
     "shell.execute_reply": "2023-10-16T17:12:05.142677Z"
    },
    "papermill": {
     "duration": 0.906357,
     "end_time": "2023-10-16T17:12:05.145762",
     "exception": false,
     "start_time": "2023-10-16T17:12:04.239405",
     "status": "completed"
    },
    "tags": []
   },
   "outputs": [],
   "source": [
    "feat_train= preprocess_data(features)\n",
    "feat_test= preprocess_data(test)"
   ]
  },
  {
   "cell_type": "code",
   "execution_count": 11,
   "id": "c0897c12",
   "metadata": {
    "execution": {
     "iopub.execute_input": "2023-10-16T17:12:05.160518Z",
     "iopub.status.busy": "2023-10-16T17:12:05.160107Z",
     "iopub.status.idle": "2023-10-16T17:12:05.165116Z",
     "shell.execute_reply": "2023-10-16T17:12:05.164125Z"
    },
    "papermill": {
     "duration": 0.014154,
     "end_time": "2023-10-16T17:12:05.166990",
     "exception": false,
     "start_time": "2023-10-16T17:12:05.152836",
     "status": "completed"
    },
    "tags": []
   },
   "outputs": [
    {
     "name": "stdout",
     "output_type": "stream",
     "text": [
      "Train shape: (42000, 28, 28, 1)\n",
      "Test shape: (28000, 28, 28, 1)\n",
      "Train datatype: <class 'numpy.ndarray'>\n",
      "Test datatype: <class 'numpy.ndarray'>\n"
     ]
    }
   ],
   "source": [
    "print(f\"Train shape: {feat_train.shape}\")\n",
    "print(f\"Test shape: {feat_test.shape}\")\n",
    "print(f\"Train datatype: {type(feat_train)}\")\n",
    "print(f\"Test datatype: {type(feat_test)}\")"
   ]
  },
  {
   "cell_type": "code",
   "execution_count": 12,
   "id": "f8ffd059",
   "metadata": {
    "execution": {
     "iopub.execute_input": "2023-10-16T17:12:05.180176Z",
     "iopub.status.busy": "2023-10-16T17:12:05.179817Z",
     "iopub.status.idle": "2023-10-16T17:12:05.322068Z",
     "shell.execute_reply": "2023-10-16T17:12:05.320527Z"
    },
    "papermill": {
     "duration": 0.153002,
     "end_time": "2023-10-16T17:12:05.325962",
     "exception": false,
     "start_time": "2023-10-16T17:12:05.172960",
     "status": "completed"
    },
    "tags": []
   },
   "outputs": [
    {
     "data": {
      "image/png": "[encoded data removed]",
      "text/plain": [
       "<Figure size 800x600 with 2 Axes>"
      ]
     },
     "metadata": {},
     "output_type": "display_data"
    }
   ],
   "source": [
    "# visualizing some of the numbers preprocessed image\n",
    "plt.figure(figsize=(8,6))\n",
    "for digit_num in range(0,2):\n",
    "    plt.subplot(5,5,digit_num+1)\n",
    "    grid_data = feat_train[digit_num]\n",
    "    plt.imshow(grid_data, interpolation = \"none\", cmap = \"afmhot\")\n",
    "    plt.xticks([])\n",
    "    plt.yticks([])\n",
    "plt.tight_layout()"
   ]
  },
  {
   "cell_type": "code",
   "execution_count": 13,
   "id": "ff7640e5",
   "metadata": {
    "execution": {
     "iopub.execute_input": "2023-10-16T17:12:05.352702Z",
     "iopub.status.busy": "2023-10-16T17:12:05.349749Z",
     "iopub.status.idle": "2023-10-16T17:12:05.361602Z",
     "shell.execute_reply": "2023-10-16T17:12:05.359984Z"
    },
    "papermill": {
     "duration": 0.027665,
     "end_time": "2023-10-16T17:12:05.364775",
     "exception": false,
     "start_time": "2023-10-16T17:12:05.337110",
     "status": "completed"
    },
    "tags": []
   },
   "outputs": [
    {
     "name": "stdout",
     "output_type": "stream",
     "text": [
      "[[0. 1. 0. ... 0. 0. 0.]\n",
      " [1. 0. 0. ... 0. 0. 0.]\n",
      " [0. 1. 0. ... 0. 0. 0.]\n",
      " ...\n",
      " [0. 0. 0. ... 1. 0. 0.]\n",
      " [0. 0. 0. ... 0. 0. 0.]\n",
      " [0. 0. 0. ... 0. 0. 1.]]\n",
      "Classes: 10\n"
     ]
    }
   ],
   "source": [
    "# Encoding Label data \n",
    "cat_target= to_categorical(target, )\n",
    "target_classes = cat_target.shape[1]\n",
    "print(cat_target)\n",
    "print(f\"Classes: {target_classes}\")\n"
   ]
  },
  {
   "cell_type": "markdown",
   "id": "7b22cb21",
   "metadata": {
    "papermill": {
     "duration": 0.010978,
     "end_time": "2023-10-16T17:12:05.387458",
     "exception": false,
     "start_time": "2023-10-16T17:12:05.376480",
     "status": "completed"
    },
    "tags": []
   },
   "source": [
    "# Test Train Split"
   ]
  },
  {
   "cell_type": "code",
   "execution_count": 14,
   "id": "25ede78a",
   "metadata": {
    "execution": {
     "iopub.execute_input": "2023-10-16T17:12:05.412897Z",
     "iopub.status.busy": "2023-10-16T17:12:05.411930Z",
     "iopub.status.idle": "2023-10-16T17:12:05.825548Z",
     "shell.execute_reply": "2023-10-16T17:12:05.824355Z"
    },
    "papermill": {
     "duration": 0.429264,
     "end_time": "2023-10-16T17:12:05.828065",
     "exception": false,
     "start_time": "2023-10-16T17:12:05.398801",
     "status": "completed"
    },
    "tags": []
   },
   "outputs": [],
   "source": [
    "X_train, X_test, y_train, y_test = train_test_split(feat_train, cat_target, test_size=0.1, random_state=42)"
   ]
  },
  {
   "cell_type": "markdown",
   "id": "bf20adeb",
   "metadata": {
    "papermill": {
     "duration": 0.00577,
     "end_time": "2023-10-16T17:12:05.840262",
     "exception": false,
     "start_time": "2023-10-16T17:12:05.834492",
     "status": "completed"
    },
    "tags": []
   },
   "source": [
    "# Build the Model"
   ]
  },
  {
   "cell_type": "code",
   "execution_count": 15,
   "id": "94455d3b",
   "metadata": {
    "execution": {
     "iopub.execute_input": "2023-10-16T17:12:05.853713Z",
     "iopub.status.busy": "2023-10-16T17:12:05.853342Z",
     "iopub.status.idle": "2023-10-16T17:12:06.038670Z",
     "shell.execute_reply": "2023-10-16T17:12:06.037860Z"
    },
    "papermill": {
     "duration": 0.199349,
     "end_time": "2023-10-16T17:12:06.045513",
     "exception": false,
     "start_time": "2023-10-16T17:12:05.846164",
     "status": "completed"
    },
    "tags": []
   },
   "outputs": [
    {
     "name": "stdout",
     "output_type": "stream",
     "text": [
      "Model: \"sequential\"\n",
      "_________________________________________________________________\n",
      " Layer (type)                Output Shape              Param #   \n",
      "=================================================================\n",
      " flatten (Flatten)           (None, 784)               0         \n",
      "                                                                 \n",
      " dense (Dense)               (None, 64)                50240     \n",
      "                                                                 \n",
      " dense_1 (Dense)             (None, 10)                650       \n",
      "                                                                 \n",
      "=================================================================\n",
      "Total params: 50,890\n",
      "Trainable params: 50,890\n",
      "Non-trainable params: 0\n",
      "_________________________________________________________________\n"
     ]
    }
   ],
   "source": [
    "model = Sequential()\n",
    "model.add(Flatten(input_shape=(28, 28, 1)))\n",
    "model.add(Dense(64, activation='relu'))\n",
    "model.add(Dense(target_classes, activation='softmax')) \n",
    "\n",
    "model.summary()"
   ]
  },
  {
   "cell_type": "code",
   "execution_count": 16,
   "id": "1836ee52",
   "metadata": {
    "execution": {
     "iopub.execute_input": "2023-10-16T17:12:06.061083Z",
     "iopub.status.busy": "2023-10-16T17:12:06.060732Z",
     "iopub.status.idle": "2023-10-16T17:12:06.077710Z",
     "shell.execute_reply": "2023-10-16T17:12:06.076812Z"
    },
    "papermill": {
     "duration": 0.027389,
     "end_time": "2023-10-16T17:12:06.079915",
     "exception": false,
     "start_time": "2023-10-16T17:12:06.052526",
     "status": "completed"
    },
    "tags": []
   },
   "outputs": [],
   "source": [
    "model.compile(optimizer='adam', loss='categorical_crossentropy', metrics=['accuracy'])"
   ]
  },
  {
   "cell_type": "code",
   "execution_count": 17,
   "id": "4407d984",
   "metadata": {
    "execution": {
     "iopub.execute_input": "2023-10-16T17:12:06.095070Z",
     "iopub.status.busy": "2023-10-16T17:12:06.094757Z",
     "iopub.status.idle": "2023-10-16T17:12:27.531792Z",
     "shell.execute_reply": "2023-10-16T17:12:27.530661Z"
    },
    "papermill": {
     "duration": 21.447427,
     "end_time": "2023-10-16T17:12:27.534170",
     "exception": false,
     "start_time": "2023-10-16T17:12:06.086743",
     "status": "completed"
    },
    "tags": []
   },
   "outputs": [
    {
     "name": "stdout",
     "output_type": "stream",
     "text": [
      "Epoch 1/10\n",
      "591/591 [==============================] - 2s 2ms/step - loss: 0.3405 - accuracy: 0.9028\n",
      "Epoch 2/10\n",
      "591/591 [==============================] - 1s 2ms/step - loss: 0.1400 - accuracy: 0.9590\n",
      "Epoch 3/10\n",
      "591/591 [==============================] - 1s 2ms/step - loss: 0.0955 - accuracy: 0.9724\n",
      "Epoch 4/10\n",
      "591/591 [==============================] - 1s 2ms/step - loss: 0.0711 - accuracy: 0.9786\n",
      "Epoch 5/10\n",
      "591/591 [==============================] - 1s 2ms/step - loss: 0.0551 - accuracy: 0.9837\n",
      "Epoch 6/10\n",
      "591/591 [==============================] - 1s 2ms/step - loss: 0.0424 - accuracy: 0.9879\n",
      "Epoch 7/10\n",
      "591/591 [==============================] - 1s 2ms/step - loss: 0.0325 - accuracy: 0.9906\n",
      "Epoch 8/10\n",
      "591/591 [==============================] - 1s 2ms/step - loss: 0.0266 - accuracy: 0.9926\n",
      "Epoch 9/10\n",
      "591/591 [==============================] - 1s 2ms/step - loss: 0.0198 - accuracy: 0.9951\n",
      "Epoch 10/10\n",
      "591/591 [==============================] - 1s 2ms/step - loss: 0.0152 - accuracy: 0.9965\n"
     ]
    },
    {
     "data": {
      "text/plain": [
       "<keras.callbacks.History at 0x79407907a170>"
      ]
     },
     "execution_count": 17,
     "metadata": {},
     "output_type": "execute_result"
    }
   ],
   "source": [
    "model.fit(X_train, y_train, epochs=10, batch_size=64)"
   ]
  },
  {
   "cell_type": "code",
   "execution_count": null,
   "id": "7b273224",
   "metadata": {
    "papermill": {
     "duration": 0.019947,
     "end_time": "2023-10-16T17:12:27.574584",
     "exception": false,
     "start_time": "2023-10-16T17:12:27.554637",
     "status": "completed"
    },
    "tags": []
   },
   "outputs": [],
   "source": []
  }
 ],
 "metadata": {
  "kernelspec": {
   "display_name": "Python 3",
   "language": "python",
   "name": "python3"
  },
  "language_info": {
   "codemirror_mode": {
    "name": "ipython",
    "version": 3
   },
   "file_extension": ".py",
   "mimetype": "text/x-python",
   "name": "python",
   "nbconvert_exporter": "python",
   "pygments_lexer": "ipython3",
   "version": "3.10.12"
  },
  "papermill": {
   "default_parameters": {},
   "duration": 45.207849,
   "end_time": "2023-10-16T17:12:29.420358",
   "environment_variables": {},
   "exception": null,
   "input_path": "__notebook__.ipynb",
   "output_path": "__notebook__.ipynb",
   "parameters": {},
   "start_time": "2023-10-16T17:11:44.212509",
   "version": "2.4.0"
  }
 },
 "nbformat": 4,
 "nbformat_minor": 5
}
